{
 "cells": [
  {
   "cell_type": "code",
   "execution_count": 6,
   "metadata": {},
   "outputs": [],
   "source": [
    "import numpy as np"
   ]
  },
  {
   "cell_type": "code",
   "execution_count": 7,
   "metadata": {},
   "outputs": [],
   "source": [
    "import scipy.stats as ss"
   ]
  },
  {
   "cell_type": "code",
   "execution_count": 8,
   "metadata": {},
   "outputs": [],
   "source": [
    "my_mu = 5\n",
    "my_sigma = 10\n",
    "size = 10000\n",
    "\n",
    "returns = ss.norm.rvs(loc = my_mu, scale = my_sigma, size = size)"
   ]
  },
  {
   "cell_type": "code",
   "execution_count": 9,
   "metadata": {},
   "outputs": [
    {
     "data": {
      "text/plain": [
       "4.999603207737527"
      ]
     },
     "execution_count": 9,
     "metadata": {},
     "output_type": "execute_result"
    }
   ],
   "source": [
    "np.mean(returns)"
   ]
  },
  {
   "cell_type": "code",
   "execution_count": 10,
   "metadata": {},
   "outputs": [
    {
     "data": {
      "text/plain": [
       "9.99046184238544"
      ]
     },
     "execution_count": 10,
     "metadata": {},
     "output_type": "execute_result"
    }
   ],
   "source": [
    "np.std(returns)"
   ]
  },
  {
   "cell_type": "code",
   "execution_count": null,
   "metadata": {},
   "outputs": [],
   "source": [
    "    def sample(self, size):\n",
    "        \"\"\"\n",
    "        This method sample from the lognormal distribution.\n",
    "        Pay attenction: we have to handle a diversity between parameters provided \n",
    "        by ngboos and scipy sampler. The following transformations are studied to \n",
    "        match the two convenctions.\n",
    "        :param size: number or sampled value\n",
    "        :return: np vector containg samples\n",
    "        \"\"\"\n",
    "\n",
    "        # Rename just to make the term convenction clearer\n",
    "        mean = self.param_scale\n",
    "        std = self.param_s\n",
    "\n",
    "        # Transform the parameters\n",
    "        my_mu = np.log(mean**2/np.sqrt(mean**2 + std**2))\n",
    "        my_sigma = np.log(1+(std**2)/(mean**2))\n",
    "\n",
    "        # Sampling from normal \n",
    "        samples = ss.norm.rvs(loc = my_mu, scale = my_sigma, size = size)\n",
    "\n",
    "        # Trasform the samples\n",
    "        samples = np.exp(samples)\n",
    "\n",
    "        return samplesb\n"
   ]
  },
  {
   "cell_type": "code",
   "execution_count": 119,
   "metadata": {},
   "outputs": [],
   "source": [
    "from surgeryschedulingunderuncertainty.uncertainty_profile import LogNormalDistribution, NormalDistribution"
   ]
  },
  {
   "cell_type": "code",
   "execution_count": 12,
   "metadata": {},
   "outputs": [],
   "source": [
    "dist = LogNormalDistribution(param_s=2, param_scale=3)"
   ]
  },
  {
   "cell_type": "code",
   "execution_count": 13,
   "metadata": {},
   "outputs": [
    {
     "data": {
      "text/plain": [
       "array([1.855637  , 3.09072292, 6.72167657, 4.0599746 , 3.06697935,\n",
       "       2.23231142, 2.09012967, 2.44759765, 1.58041088, 2.77260284])"
      ]
     },
     "execution_count": 13,
     "metadata": {},
     "output_type": "execute_result"
    }
   ],
   "source": [
    "dist.sample(10)"
   ]
  },
  {
   "cell_type": "code",
   "execution_count": 114,
   "metadata": {},
   "outputs": [
    {
     "name": "stdout",
     "output_type": "stream",
     "text": [
      "True\n",
      "True\n"
     ]
    }
   ],
   "source": [
    "param_s = 57\n",
    "param_scale  = .25\n",
    "\n",
    "uncertaintyprofile = LogNormalDistribution(param_s, param_scale)\n",
    "samples = np.log(uncertaintyprofile.sample(10000))\n",
    "\n",
    "new_mean = np.log(param_scale**2/np.sqrt(param_scale**2 + param_s**2))\n",
    "new_std = np.log(1+(param_s**2)/(param_scale**2))\n",
    "\n",
    "    \n",
    "tollerance = 2e-1\n",
    "print(np.isclose(np.mean(samples), new_mean, atol=tollerance))\n",
    "print(np.isclose(np.std(samples), new_std, atol=tollerance))\n",
    "        "
   ]
  },
  {
   "cell_type": "code",
   "execution_count": 115,
   "metadata": {},
   "outputs": [
    {
     "data": {
      "text/plain": [
       "-6.815649608325926"
      ]
     },
     "execution_count": 115,
     "metadata": {},
     "output_type": "execute_result"
    }
   ],
   "source": [
    "new_mean"
   ]
  },
  {
   "cell_type": "code",
   "execution_count": 116,
   "metadata": {},
   "outputs": [
    {
     "data": {
      "text/plain": [
       "10.85871049441207"
      ]
     },
     "execution_count": 116,
     "metadata": {},
     "output_type": "execute_result"
    }
   ],
   "source": [
    "new_std"
   ]
  },
  {
   "cell_type": "code",
   "execution_count": 117,
   "metadata": {},
   "outputs": [
    {
     "data": {
      "text/plain": [
       "-6.701016436304206"
      ]
     },
     "execution_count": 117,
     "metadata": {},
     "output_type": "execute_result"
    }
   ],
   "source": [
    "np.mean(samples)"
   ]
  },
  {
   "cell_type": "code",
   "execution_count": 118,
   "metadata": {},
   "outputs": [
    {
     "data": {
      "text/plain": [
       "10.881988313080797"
      ]
     },
     "execution_count": 118,
     "metadata": {},
     "output_type": "execute_result"
    }
   ],
   "source": [
    "np.std(samples)"
   ]
  },
  {
   "cell_type": "code",
   "execution_count": 164,
   "metadata": {},
   "outputs": [
    {
     "name": "stdout",
     "output_type": "stream",
     "text": [
      "!!! Please check the correctness of this function!\n",
      "1.0\n",
      "164.00269312278033\n",
      "163.89681969961939\n",
      "False\n",
      "True\n"
     ]
    }
   ],
   "source": [
    "param_loc = 163\n",
    "param_scale = 163\n",
    "\n",
    "size = 10000\n",
    "tollerance = 1\n",
    "\n",
    "uncertaintyprofile = NormalDistribution(param_loc, param_scale)\n",
    "samples = uncertaintyprofile.sample(size)\n",
    "\n",
    "print(param_scale / param_loc)\n",
    "\n",
    "print(np.mean(samples))\n",
    "print(np.std(samples))\n",
    "\n",
    "print(np.isclose(np.mean(samples), param_loc, atol=tollerance))\n",
    "print(np.isclose(np.std(samples), param_scale, atol=tollerance))"
   ]
  },
  {
   "cell_type": "code",
   "execution_count": 167,
   "metadata": {},
   "outputs": [
    {
     "name": "stdout",
     "output_type": "stream",
     "text": [
      "[1.5 2.5 3.5 4.5]\n"
     ]
    }
   ],
   "source": [
    "import numpy as np\n",
    "\n",
    "# Esempio di vettore ordinato\n",
    "values = np.array([1, 2, 3, 4, 5])\n",
    "probs = np.array([.1, .2, .4, .2, .1])\n",
    "\n",
    "# Creazione di un nuovo vettore con la media a coppie\n",
    "bins_exterma = (values[:-1] + values[1:]) / 2\n",
    "\n",
    "print(bins_exterma)"
   ]
  },
  {
   "cell_type": "code",
   "execution_count": 169,
   "metadata": {},
   "outputs": [
    {
     "name": "stdout",
     "output_type": "stream",
     "text": [
      "2.9999999999999996\n"
     ]
    }
   ],
   "source": [
    "weighted_mean = np.sum(values * probs)/ np.sum(probs)\n",
    "\n",
    "print(weighted_mean)"
   ]
  },
  {
   "cell_type": "code",
   "execution_count": 172,
   "metadata": {},
   "outputs": [
    {
     "name": "stdout",
     "output_type": "stream",
     "text": [
      "1.1999999999999997\n",
      "1.0954451150103321\n"
     ]
    }
   ],
   "source": [
    "weighted_variance = np.sum((values - weighted_mean)**2 * probs) / np.sum(probs)\n",
    "weighted_std = np.sqrt(weighted_variance)\n",
    "\n",
    "print(weighted_variance)\n",
    "print(weighted_std)"
   ]
  },
  {
   "cell_type": "code",
   "execution_count": 173,
   "metadata": {},
   "outputs": [
    {
     "name": "stdout",
     "output_type": "stream",
     "text": [
      "1.2668629051016912e-15\n",
      "-0.49999999999999867\n"
     ]
    }
   ],
   "source": [
    "weighted_skewness = np.sum((values - weighted_mean)**3 * probs) / (np.sum(probs) * np.power(np.sqrt(weighted_variance), 3))\n",
    "\n",
    "weighted_kurtosis =  (np.sum((values - weighted_mean)**4 * probs) / (np.sum(probs) * np.power(weighted_variance, 2))) - 3\n",
    "\n",
    "print(weighted_skewness)\n",
    "\n",
    "print(weighted_kurtosis)"
   ]
  },
  {
   "cell_type": "code",
   "execution_count": 174,
   "metadata": {},
   "outputs": [
    {
     "data": {
      "image/png": "[encoded data removed]",
      "text/plain": [
       "<Figure size 640x480 with 1 Axes>"
      ]
     },
     "metadata": {},
     "output_type": "display_data"
    }
   ],
   "source": [
    "import numpy as np\n",
    "import matplotlib.pyplot as plt\n",
    "from scipy.stats import pearson3\n",
    "\n",
    "# Parametri desiderati\n",
    "media = weighted_mean\n",
    "varianza = weighted_variance\n",
    "asimmetria = weighted_skewness\n",
    "curtosi = weighted_kurtosis\n",
    "\n",
    "# Calcola i parametri della distribuzione di Pearson di tipo III\n",
    "beta = varianza / asimmetria\n",
    "gamma = np.sqrt(varianza)\n",
    "alpha = 4 / curtosi\n",
    "\n",
    "# Genera campioni dalla distribuzione di Pearson di tipo III\n",
    "np.random.seed(42)\n",
    "campioni = pearson3.rvs(alpha, loc=media, scale=gamma, size=1000)\n",
    "\n",
    "# Visualizza l'istogramma dei campioni\n",
    "plt.hist(campioni, bins=30, density=True, alpha=0.6, color='g')\n",
    "\n",
    "# Visualizza la densità di probabilità della distribuzione di Pearson di tipo III\n",
    "xmin, xmax = plt.xlim()\n",
    "x = np.linspace(xmin, xmax, 100)\n",
    "p = pearson3.pdf(x, alpha, loc=media, scale=gamma)\n",
    "plt.plot(x, p, 'k', linewidth=2)\n",
    "\n",
    "plt.title(\"Distribuzione di Pearson di tipo III\")\n",
    "plt.show()"
   ]
  },
  {
   "cell_type": "code",
   "execution_count": 175,
   "metadata": {},
   "outputs": [
    {
     "data": {
      "image/png": "[encoded data removed]",
      "text/plain": [
       "<Figure size 640x480 with 1 Axes>"
      ]
     },
     "metadata": {},
     "output_type": "display_data"
    }
   ],
   "source": [
    "import numpy as np\n",
    "import matplotlib.pyplot as plt\n",
    "from scipy.stats import pearson3\n",
    "\n",
    "def weighted_moments(values, probs):\n",
    "    weighted_mean = np.sum(values * probs)\n",
    "    weighted_variance = np.sum((values - weighted_mean)**2 * probs)\n",
    "    weighted_skewness = np.sum((values - weighted_mean)**3 * probs) / np.power(np.sqrt(weighted_variance), 3)\n",
    "    weighted_kurtosis = (np.sum((values - weighted_mean)**4 * probs) / np.power(weighted_variance, 2)) - 3\n",
    "    return weighted_mean, weighted_variance, weighted_skewness, weighted_kurtosis\n",
    "\n",
    "def plot_weighted_pearson(values, probs, num_samples=1000):\n",
    "    # Compute weighted moments\n",
    "    weighted_mean, weighted_variance, weighted_skewness, weighted_kurtosis = weighted_moments(values, probs)\n",
    "\n",
    "    # Generate samples from Pearson Type III distribution\n",
    "    samples = pearson3.rvs(weighted_skewness, loc=weighted_mean, scale=np.sqrt(weighted_variance), size=num_samples)\n",
    "\n",
    "    # Plot histogram of samples\n",
    "    plt.hist(samples, bins=30, density=True, alpha=0.6, color='g', label='Pearson Type III')\n",
    "\n",
    "    # Plot bars at original values with heights proportional to their probabilities\n",
    "    for val, prob in zip(values, probs):\n",
    "        plt.axvline(x=val, color='r', linestyle='--', linewidth=2)\n",
    "        plt.text(val, 0.02, f'P={prob:.2f}', rotation=45, ha='right', va='bottom', color='r')\n",
    "\n",
    "    plt.title(\"Weighted Pearson Type III Distribution\")\n",
    "    plt.legend()\n",
    "    plt.show()\n",
    "\n",
    "# Example values and probabilities\n",
    "values = np.array([1, 2, 3, 4, 5])\n",
    "probs = np.array([0.1, 0.2, 0.3, 0.2, 0.2])\n",
    "\n",
    "# Plot weighted Pearson Type III distribution\n",
    "plot_weighted_pearson(values, probs)"
   ]
  },
  {
   "cell_type": "code",
   "execution_count": 182,
   "metadata": {},
   "outputs": [
    {
     "name": "stdout",
     "output_type": "stream",
     "text": [
      "1.0\n"
     ]
    },
    {
     "data": {
      "image/png": "[encoded data removed]",
      "text/plain": [
       "<Figure size 640x480 with 1 Axes>"
      ]
     },
     "metadata": {},
     "output_type": "display_data"
    }
   ],
   "source": [
    "import numpy as np\n",
    "import matplotlib.pyplot as plt\n",
    "from scipy.stats import pearson3\n",
    "\n",
    "# Example values and probabilities\n",
    "values = np.array([-3, 2, 3, 4, 5, 5.5, 6, 7])\n",
    "probs = np.array([0.1, 0.1, 0.1, 0.1, 0.15, 0.2, 0.15, 0.1])\n",
    "\n",
    "print(sum(probs))\n",
    "\n",
    "# Compute weighted moments\n",
    "weighted_mean = np.sum(values * probs)\n",
    "weighted_variance = np.sum((values - weighted_mean)**2 * probs)\n",
    "weighted_skewness = np.sum((values - weighted_mean)**3 * probs) / np.power(np.sqrt(weighted_variance), 3)\n",
    "weighted_kurtosis = (np.sum((values - weighted_mean)**4 * probs) / np.power(weighted_variance, 2)) - 3\n",
    "\n",
    "# Generate points for the PDF\n",
    "num_points = 1000\n",
    "x = np.linspace(pearson3.ppf(0.01, weighted_skewness, loc=weighted_mean, scale=np.sqrt(weighted_variance))-2,\n",
    "                pearson3.ppf(0.99, weighted_skewness, loc=weighted_mean, scale=np.sqrt(weighted_variance))+2,\n",
    "                num_points)\n",
    "\n",
    "# Calculate PDF values at each point\n",
    "pdf_values = pearson3.pdf(x, weighted_skewness, loc=weighted_mean, scale=np.sqrt(weighted_variance))\n",
    "\n",
    "# Plot the PDF\n",
    "plt.plot(x, pdf_values, 'g-', label='Pearson Type III')\n",
    "\n",
    "# Mark original values on the plot\n",
    "for val, prob in zip(values, probs):\n",
    "    plt.axvline(x=val, color='r', linestyle='--', linewidth=2)\n",
    "    plt.text(val, 0.02, f'P={prob:.2f}', rotation=45, ha='right', va='bottom', color='r')\n",
    "\n",
    "# Plot settings\n",
    "plt.title(\"Weighted Pearson Type III Distribution (PDF)\")\n",
    "plt.legend()\n",
    "plt.show()"
   ]
  },
  {
   "cell_type": "code",
   "execution_count": 189,
   "metadata": {},
   "outputs": [
    {
     "name": "stdout",
     "output_type": "stream",
     "text": [
      "[1.5 2.5 3.5 4.5]\n",
      "0.8529670275394108\n",
      "5.147032972460589\n"
     ]
    }
   ],
   "source": [
    "\n",
    "# Esempio di vettore ordinato\n",
    "values = np.array([1, 2, 3, 4, 5])\n",
    "probs = np.array([.1, .2, .4, .2, .1])\n",
    "\n",
    "# Creazione di un nuovo vettore con la media a coppie\n",
    "bins_exterma = (values[:-1] + values[1:]) / 2\n",
    "\n",
    "print(bins_exterma)\n",
    "\n",
    "# Compute weighted moments\n",
    "weighted_mean = np.sum(values * probs)\n",
    "weighted_variance = np.sum((values - weighted_mean)**2 * probs)\n",
    "weighted_skewness = np.sum((values - weighted_mean)**3 * probs) / np.power(np.sqrt(weighted_variance), 3)\n",
    "weighted_kurtosis = (np.sum((values - weighted_mean)**4 * probs) / np.power(weighted_variance, 2)) - 3\n",
    "\n",
    "dist = pearson3(weighted_skewness, loc=weighted_mean, scale=np.sqrt(weighted_variance))\n",
    "\n",
    "print(dist.ppf(probs[0]/4))\n",
    "print(dist.ppf(1-probs[0]/4))"
   ]
  },
  {
   "cell_type": "code",
   "execution_count": null,
   "metadata": {},
   "outputs": [],
   "source": [
    "bins_extrema = (self.values[:-1] + self.values[1:]) / 2\n",
    "\n",
    "\n",
    "        # Compute weighted moments\n",
    "        weighted_mean = np.sum(self.values * self.probs)\n",
    "        weighted_variance = np.sum((self.values - weighted_mean)**2 * self.probs)\n",
    "        weighted_skewness = np.sum((self.values - weighted_mean)**3 * self.probs) / np.power(np.sqrt(weighted_variance), 3)\n",
    "        #weighted_kurtosis = (np.sum((self.values - weighted_mean)**4 * self.probs) / np.power(weighted_variance, 2)) - 3\n",
    "\n",
    "        dist = ss.pearson3(weighted_skewness, loc=weighted_mean, scale=np.sqrt(weighted_variance))\n",
    "\n",
    "        bins_extrema = np.concatenate([dist.ppf(self.probs[0]/4), bins_extrema, dist.ppf(1-self.probs[0]/4)])\n"
   ]
  },
  {
   "cell_type": "code",
   "execution_count": null,
   "metadata": {},
   "outputs": [],
   "source": []
  },
  {
   "cell_type": "code",
   "execution_count": 1,
   "metadata": {},
   "outputs": [],
   "source": [
    "from surgeryschedulingunderuncertainty.uncertainty_profile import *"
   ]
  },
  {
   "cell_type": "code",
   "execution_count": 2,
   "metadata": {},
   "outputs": [],
   "source": [
    "profile  = HistogramModel(values = [0, 4, 6, 7, 8], probs = [.1, .3, .3, .2, .1])"
   ]
  },
  {
   "cell_type": "code",
   "execution_count": 3,
   "metadata": {},
   "outputs": [
    {
     "data": {
      "text/plain": [
       "array([0.1, 0.3, 0.3, 0.2, 0.1])"
      ]
     },
     "execution_count": 3,
     "metadata": {},
     "output_type": "execute_result"
    }
   ],
   "source": [
    "profile.probs"
   ]
  },
  {
   "cell_type": "code",
   "execution_count": 4,
   "metadata": {},
   "outputs": [
    {
     "data": {
      "text/plain": [
       "array([2.99691194, 4.25691767, 3.23313361, 3.81823654, 2.66651986,\n",
       "       2.82197553, 2.32858395, 3.42614359, 4.26115936, 4.70218252])"
      ]
     },
     "execution_count": 4,
     "metadata": {},
     "output_type": "execute_result"
    }
   ],
   "source": [
    "profile.bin_sampling(10)"
   ]
  },
  {
   "cell_type": "code",
   "execution_count": 5,
   "metadata": {},
   "outputs": [
    {
     "data": {
      "text/plain": [
       "array([7.78147315, 8.89414768, 5.8306455 , 0.22342434, 7.20994943,\n",
       "       1.00017057, 4.86057249, 5.14885584, 3.52682461, 2.99967245,\n",
       "       5.49292434, 5.0823501 , 4.69917225, 7.24266729, 7.62795517,\n",
       "       6.50686954, 3.38403177, 3.91866116, 5.45027415, 7.43998197])"
      ]
     },
     "execution_count": 5,
     "metadata": {},
     "output_type": "execute_result"
    }
   ],
   "source": [
    "profile.continuous_sampling(20)"
   ]
  },
  {
   "cell_type": "code",
   "execution_count": 6,
   "metadata": {},
   "outputs": [
    {
     "data": {
      "text/plain": [
       "array([6, 6, 4, 6, 0, 7, 6, 6, 4, 6])"
      ]
     },
     "execution_count": 6,
     "metadata": {},
     "output_type": "execute_result"
    }
   ],
   "source": [
    "profile.pointwise_sampling(10)"
   ]
  },
  {
   "cell_type": "code",
   "execution_count": 7,
   "metadata": {},
   "outputs": [
    {
     "name": "stdout",
     "output_type": "stream",
     "text": [
      "[5.42223992 5.86330291 6.3916144  6.01276456 6.02708725 5.46092807\n",
      " 5.16092184 5.19139104 6.17662059 6.36984606]\n"
     ]
    }
   ],
   "source": [
    "print(profile.sample(10))"
   ]
  },
  {
   "cell_type": "code",
   "execution_count": 8,
   "metadata": {},
   "outputs": [],
   "source": [
    "profile = BalancedHistogramModel([10, 15, 20])"
   ]
  },
  {
   "cell_type": "code",
   "execution_count": 9,
   "metadata": {},
   "outputs": [
    {
     "data": {
      "text/plain": [
       "array([10, 15, 20])"
      ]
     },
     "execution_count": 9,
     "metadata": {},
     "output_type": "execute_result"
    }
   ],
   "source": [
    "profile.values"
   ]
  },
  {
   "cell_type": "code",
   "execution_count": 10,
   "metadata": {},
   "outputs": [],
   "source": [
    "profile.values = [10, 15, 21]"
   ]
  },
  {
   "cell_type": "code",
   "execution_count": 11,
   "metadata": {},
   "outputs": [
    {
     "data": {
      "text/plain": [
       "array([0.33333333, 0.33333333, 0.33333333])"
      ]
     },
     "execution_count": 11,
     "metadata": {},
     "output_type": "execute_result"
    }
   ],
   "source": [
    "profile.probs"
   ]
  },
  {
   "cell_type": "code",
   "execution_count": 12,
   "metadata": {},
   "outputs": [],
   "source": [
    "profile.probs = [.8, .1, .1]"
   ]
  },
  {
   "cell_type": "code",
   "execution_count": 13,
   "metadata": {},
   "outputs": [
    {
     "data": {
      "text/plain": [
       "array([10.29783513, 11.99718391, 12.22788012,  9.27529716, 12.25717597,\n",
       "        8.96010836, 12.06362828,  9.65372397, 10.16045616,  9.63338483])"
      ]
     },
     "execution_count": 13,
     "metadata": {},
     "output_type": "execute_result"
    }
   ],
   "source": [
    "profile.bin_sampling(10)"
   ]
  },
  {
   "cell_type": "code",
   "execution_count": 14,
   "metadata": {},
   "outputs": [
    {
     "data": {
      "text/plain": [
       "array([12.0452862 , 11.21025242, 11.7627757 , 11.08390319, 11.29420411,\n",
       "       10.44717964, 10.86457373, 10.35924074,  9.68538585, 11.86742211])"
      ]
     },
     "execution_count": 14,
     "metadata": {},
     "output_type": "execute_result"
    }
   ],
   "source": [
    "profile.sample(10)"
   ]
  },
  {
   "cell_type": "code",
   "execution_count": 15,
   "metadata": {},
   "outputs": [],
   "source": [
    "profile = LogNormalDistribution(param_s=10, param_scale=9)"
   ]
  },
  {
   "cell_type": "code",
   "execution_count": 17,
   "metadata": {},
   "outputs": [
    {
     "data": {
      "text/plain": [
       "array([ 9.36365539,  2.25782101,  2.6257386 ,  4.67605333, 12.42345374,\n",
       "       10.7905985 , 31.32760041,  9.12066278, 16.15460048,  1.13928519,\n",
       "       17.00807855,  8.66006987,  3.34252742,  1.13847221,  2.45267126])"
      ]
     },
     "execution_count": 17,
     "metadata": {},
     "output_type": "execute_result"
    }
   ],
   "source": [
    "profile.sample(15)"
   ]
  },
  {
   "cell_type": "code",
   "execution_count": 18,
   "metadata": {},
   "outputs": [],
   "source": [
    "profile = NormalDistribution(param_loc=10, param_scale=5)"
   ]
  },
  {
   "cell_type": "code",
   "execution_count": 19,
   "metadata": {},
   "outputs": [
    {
     "data": {
      "text/plain": [
       "4"
      ]
     },
     "execution_count": 19,
     "metadata": {},
     "output_type": "execute_result"
    }
   ],
   "source": [
    "profile.param_scale = 4\n",
    "profile.param_scale"
   ]
  },
  {
   "cell_type": "code",
   "execution_count": 22,
   "metadata": {},
   "outputs": [
    {
     "data": {
      "text/plain": [
       "array([ 4.21477627,  7.10877976,  8.46322298,  8.96178168,  8.06941551,\n",
       "       10.89252083, 14.10473102, 12.20189361, 16.42098304])"
      ]
     },
     "execution_count": 22,
     "metadata": {},
     "output_type": "execute_result"
    }
   ],
   "source": [
    "profile.sample(9)"
   ]
  },
  {
   "cell_type": "code",
   "execution_count": 17,
   "metadata": {},
   "outputs": [],
   "source": [
    "import pandas as pd\n",
    "df = pd.read_csv(\"../not_git/historical_data.csv\")"
   ]
  },
  {
   "cell_type": "code",
   "execution_count": 18,
   "metadata": {},
   "outputs": [],
   "source": [
    "from surgeryschedulingunderuncertainty.patients_provider import PatientsFromHistoricalDataProvider"
   ]
  },
  {
   "cell_type": "code",
   "execution_count": 19,
   "metadata": {},
   "outputs": [],
   "source": [
    "from surgeryschedulingunderuncertainty.optimizer import ImplementorAdversary"
   ]
  },
  {
   "cell_type": "code",
   "execution_count": 20,
   "metadata": {},
   "outputs": [],
   "source": [
    "from surgeryschedulingunderuncertainty.task import Task"
   ]
  },
  {
   "cell_type": "code",
   "execution_count": 21,
   "metadata": {},
   "outputs": [],
   "source": [
    "task = Task(name = \"first task\", num_of_weeks = 5, num_of_patients = 300, robustness_risk = 0.1, robustness_overtime = 60)"
   ]
  },
  {
   "cell_type": "code",
   "execution_count": 22,
   "metadata": {},
   "outputs": [],
   "source": [
    "patient_provider = PatientsFromHistoricalDataProvider(task = task, historical_data=df)"
   ]
  },
  {
   "cell_type": "code",
   "execution_count": 23,
   "metadata": {},
   "outputs": [
    {
     "data": {
      "text/plain": [
       "array(['L', 'I', 'H', 'G', 'F', 'C', 'D', 'B', 'A', 'E'], dtype=object)"
      ]
     },
     "execution_count": 23,
     "metadata": {},
     "output_type": "execute_result"
    }
   ],
   "source": [
    "patient_provider._historical_data['equipe'].unique()"
   ]
  },
  {
   "cell_type": "code",
   "execution_count": 24,
   "metadata": {},
   "outputs": [
    {
     "data": {
      "text/html": [
       "<div>\n",
       "<style scoped>\n",
       "    .dataframe tbody tr th:only-of-type {\n",
       "        vertical-align: middle;\n",
       "    }\n",
       "\n",
       "    .dataframe tbody tr th {\n",
       "        vertical-align: top;\n",
       "    }\n",
       "\n",
       "    .dataframe thead th {\n",
       "        text-align: right;\n",
       "    }\n",
       "</style>\n",
       "<table border=\"1\" class=\"dataframe\">\n",
       "  <thead>\n",
       "    <tr style=\"text-align: right;\">\n",
       "      <th></th>\n",
       "      <th>asa_class</th>\n",
       "      <th>target</th>\n",
       "      <th>equipe</th>\n",
       "      <th>blood_required</th>\n",
       "      <th>plasma_required</th>\n",
       "      <th>platelets_required</th>\n",
       "      <th>age</th>\n",
       "      <th>allergy_class_MNC</th>\n",
       "      <th>allergy_class_MNC1</th>\n",
       "      <th>allergy_class_MNC2</th>\n",
       "      <th>...</th>\n",
       "      <th>surgeon_v78f</th>\n",
       "      <th>surgeon_vRho</th>\n",
       "      <th>surgeon_vje3</th>\n",
       "      <th>surgeon_w0qk</th>\n",
       "      <th>surgeon_w9VU</th>\n",
       "      <th>surgeon_xJgc</th>\n",
       "      <th>surgeon_xlU0</th>\n",
       "      <th>surgeon_xyvF</th>\n",
       "      <th>surgeon_yLop</th>\n",
       "      <th>surgeon_yj5u</th>\n",
       "    </tr>\n",
       "  </thead>\n",
       "  <tbody>\n",
       "    <tr>\n",
       "      <th>341</th>\n",
       "      <td>2</td>\n",
       "      <td>109</td>\n",
       "      <td>B</td>\n",
       "      <td>0</td>\n",
       "      <td>0</td>\n",
       "      <td>0</td>\n",
       "      <td>74</td>\n",
       "      <td>0.0</td>\n",
       "      <td>0.0</td>\n",
       "      <td>0.0</td>\n",
       "      <td>...</td>\n",
       "      <td>0.0</td>\n",
       "      <td>0.0</td>\n",
       "      <td>0.0</td>\n",
       "      <td>0.0</td>\n",
       "      <td>0.0</td>\n",
       "      <td>0.0</td>\n",
       "      <td>0.0</td>\n",
       "      <td>0.0</td>\n",
       "      <td>0.0</td>\n",
       "      <td>0.0</td>\n",
       "    </tr>\n",
       "  </tbody>\n",
       "</table>\n",
       "<p>1 rows × 9387 columns</p>\n",
       "</div>"
      ],
      "text/plain": [
       "     asa_class  target equipe  blood_required  plasma_required  \\\n",
       "341          2     109      B               0                0   \n",
       "\n",
       "     platelets_required  age  allergy_class_MNC  allergy_class_MNC1  \\\n",
       "341                   0   74                0.0                 0.0   \n",
       "\n",
       "     allergy_class_MNC2  ...  surgeon_v78f  surgeon_vRho  surgeon_vje3  \\\n",
       "341                 0.0  ...           0.0           0.0           0.0   \n",
       "\n",
       "     surgeon_w0qk  surgeon_w9VU  surgeon_xJgc  surgeon_xlU0  surgeon_xyvF  \\\n",
       "341           0.0           0.0           0.0           0.0           0.0   \n",
       "\n",
       "     surgeon_yLop  surgeon_yj5u  \n",
       "341           0.0           0.0  \n",
       "\n",
       "[1 rows x 9387 columns]"
      ]
     },
     "execution_count": 24,
     "metadata": {},
     "output_type": "execute_result"
    }
   ],
   "source": [
    "patient_provider._historical_data.sample()"
   ]
  },
  {
   "cell_type": "code",
   "execution_count": 28,
   "metadata": {},
   "outputs": [
    {
     "data": {
      "text/plain": [
       "array([3, 158, 'L', ..., 0.0, 0.0, 0.0], dtype=object)"
      ]
     },
     "execution_count": 28,
     "metadata": {},
     "output_type": "execute_result"
    }
   ],
   "source": [
    "np.array(patient_provider._historical_data.loc[10, ~patient_provider._historical_data.columns.isin(['gender', 'room'])])"
   ]
  },
  {
   "cell_type": "code",
   "execution_count": 27,
   "metadata": {},
   "outputs": [],
   "source": [
    "import numpy as np"
   ]
  },
  {
   "cell_type": "code",
   "execution_count": null,
   "metadata": {},
   "outputs": [],
   "source": [
    "import pandas as pd\n",
    "import random\n",
    "\n",
    "class PatientListGenerator:\n",
    "    def __init__(self, dataset_path):\n",
    "        self.dataset = pd.read_csv(dataset_path)\n",
    "        self.extracted_patients = set()\n",
    "\n",
    "    def _check_equipe_proportions(self, equipe_proportions):\n",
    "        if equipe_proportions is not None:\n",
    "            total_proportion = sum(equipe_proportions.values())\n",
    "            if not (0.99 <= total_proportion <= 1.01):\n",
    "                raise ValueError(\"The sum of equipe proportions must be close to 1.\")\n",
    "\n",
    "    def _extract_patients_from_equipe(self, equipe_proportions):\n",
    "        if equipe_proportions is None:\n",
    "            return self.dataset.sample()\n",
    "\n",
    "        selected_equipe = random.choices(\n",
    "            list(equipe_proportions.keys()),\n",
    "            weights=list(equipe_proportions.values())\n",
    "        )[0]\n",
    "\n",
    "        equipe_data = self.dataset[self.dataset['equipe'] == selected_equipe]\n",
    "        return equipe_data.sample()\n",
    "\n",
    "    def extract_patients(self, num_patients=1, equipe_proportions=None):\n",
    "        self._check_equipe_proportions(equipe_proportions)\n",
    "\n",
    "        extracted_patients = []\n",
    "        for _ in range(num_patients):\n",
    "            if self.dataset.empty:\n",
    "                print(\"Warning: No more patients available in the dataset.\")\n",
    "                break\n",
    "\n",
    "            patient_data = self._extract_patients_from_equipe(equipe_proportions)\n",
    "            patient_index = patient_data.index[0]\n",
    "\n",
    "            if patient_index in self.extracted_patients:\n",
    "                print(f\"Warning: Patient {patient_index} has already been extracted.\")\n",
    "            else:\n",
    "                extracted_patients.append(patient_data)\n",
    "                self.extracted_patients.add(patient_index)\n",
    "\n",
    "        return pd.concat(extracted_patients, ignore_index=True)\n",
    "\n",
    "# Esempio di utilizzo\n",
    "dataset_path = \"percorso/del/tuo/dataset.csv\"\n",
    "generator = PatientListGenerator(dataset_path)\n",
    "\n",
    "# Estrai 5 pazienti proporzionalmente alle equipe\n",
    "extracted_patients = generator.extract_patients(num_patients=5, equipe_proportions={\"equipe_A\": 0.4, \"equipe_B\": 0.6})\n",
    "\n",
    "# Visualizza i pazienti estratti\n",
    "print(extracted_patients)\n"
   ]
  }
 ],
 "metadata": {
  "kernelspec": {
   "display_name": "surgeryschedulingunderuncertainty-XOZq-E-P-py3.11",
   "language": "python",
   "name": "python3"
  },
  "language_info": {
   "codemirror_mode": {
    "name": "ipython",
    "version": 3
   },
   "file_extension": ".py",
   "mimetype": "text/x-python",
   "name": "python",
   "nbconvert_exporter": "python",
   "pygments_lexer": "ipython3",
   "version": "3.10.13"
  }
 },
 "nbformat": 4,
 "nbformat_minor": 2
}
