{
 "cells": [
  {
   "cell_type": "markdown",
   "metadata": {},
   "source": [
    "# Storytelling"
   ]
  },
  {
   "cell_type": "code",
   "execution_count": 1,
   "metadata": {},
   "outputs": [
    {
     "name": "stderr",
     "output_type": "stream",
     "text": [
      "/var/folders/w_/kqymfxcs5d561j515w6_cfqh0000gn/T/ipykernel_33355/2504811429.py:1: DeprecationWarning: \n",
      "Pyarrow will become a required dependency of pandas in the next major release of pandas (pandas 3.0),\n",
      "(to allow more performant data types, such as the Arrow string type, and better interoperability with other libraries)\n",
      "but was not found to be installed on your system.\n",
      "If this would cause problems for you,\n",
      "please provide us feedback at https://github.com/pandas-dev/pandas/issues/54466\n",
      "        \n",
      "  import pandas as pd\n"
     ]
    }
   ],
   "source": [
    "import pandas as pd\n",
    "import numpy as np\n",
    "\n"
   ]
  },
  {
   "cell_type": "markdown",
   "metadata": {},
   "source": [
    "## Creazione del Task (problema con pazienti da dati storici)"
   ]
  },
  {
   "cell_type": "code",
   "execution_count": 2,
   "metadata": {},
   "outputs": [],
   "source": [
    "from surgeryschedulingunderuncertainty.task import Task\n",
    "from surgeryschedulingunderuncertainty.patients_provider import PatientsFromHistoricalDataProvider\n",
    "from surgeryschedulingunderuncertainty.master import Master\n",
    "\n",
    "from surgeryschedulingunderuncertainty.implementor import StandardImplementor\n",
    "from surgeryschedulingunderuncertainty.optimizer import ImplementorAdversary"
   ]
  },
  {
   "cell_type": "code",
   "execution_count": 3,
   "metadata": {},
   "outputs": [],
   "source": [
    "# help(Task)"
   ]
  },
  {
   "cell_type": "code",
   "execution_count": 4,
   "metadata": {},
   "outputs": [],
   "source": [
    "# Instanziare un oggetto task\n",
    "\n",
    "task = Task(name = \"My first problem\",\n",
    "            num_of_weeks= 2,\n",
    "            num_of_patients= 300,\n",
    "            robustness_risk= 0.2,\n",
    "            robustness_overtime= 60, # TODO check robustness_overtime unit of measure\n",
    "            urgency_to_max_waiting_days= {0: 7, 1:30, 2:60, 3:180, 4:360}, \n",
    ")"
   ]
  },
  {
   "cell_type": "code",
   "execution_count": 5,
   "metadata": {},
   "outputs": [],
   "source": [
    "# Importare i dati e istanziare un oggetto patient provider\n",
    "\n",
    "historical_data_df = pd.read_csv(\"../data/historical_data.csv\")\n",
    "\n",
    "patient_provider = PatientsFromHistoricalDataProvider(\n",
    "                 historical_data= historical_data_df\n",
    "                 )"
   ]
  },
  {
   "cell_type": "code",
   "execution_count": 6,
   "metadata": {},
   "outputs": [
    {
     "data": {
      "text/plain": [
       "0       3\n",
       "1       1\n",
       "2       0\n",
       "3       3\n",
       "4       0\n",
       "       ..\n",
       "9155    1\n",
       "9156    4\n",
       "9157    1\n",
       "9158    1\n",
       "9159    4\n",
       "Name: urgency, Length: 9160, dtype: int64"
      ]
     },
     "execution_count": 6,
     "metadata": {},
     "output_type": "execute_result"
    }
   ],
   "source": [
    "historical_data_df.urgency"
   ]
  },
  {
   "cell_type": "code",
   "execution_count": 7,
   "metadata": {},
   "outputs": [
    {
     "name": "stdout",
     "output_type": "stream",
     "text": [
      "Patient id: 7183 \n",
      " equipe: L \n",
      " urgency: 4 \n",
      " days waiting: 273\n",
      "Patient id: 1502 \n",
      " equipe: C \n",
      " urgency: 3 \n",
      " days waiting: 157\n",
      "Patient id: 1129 \n",
      " equipe: B \n",
      " urgency: 3 \n",
      " days waiting: 95\n"
     ]
    }
   ],
   "source": [
    "# Campionatura di singoli pazienti\n",
    "patient = patient_provider.provide_patient()\n",
    "print(patient)\n",
    "\n",
    "# Campionatura di singoli pazienti\n",
    "patient = patient_provider.provide_patient(requested_equipe='C', requested_urgency=3)\n",
    "print(patient)\n",
    "\n",
    "# Campionatura di singoli pazienti\n",
    "patient = patient_provider.provide_patient(requested_equipe='B', requested_urgency=3)\n",
    "print(patient)"
   ]
  },
  {
   "cell_type": "code",
   "execution_count": 8,
   "metadata": {},
   "outputs": [],
   "source": [
    "# Inserire un insieme di pazienti in task\n",
    "task.patients = patient_provider.provide_patient_set(quantity=300)"
   ]
  },
  {
   "cell_type": "markdown",
   "metadata": {},
   "source": [
    "## Previsione del tempo operatorio"
   ]
  },
  {
   "cell_type": "code",
   "execution_count": 9,
   "metadata": {},
   "outputs": [],
   "source": [
    "from surgeryschedulingunderuncertainty.predictive_model import NGBLogNormal, NGBNormal\n"
   ]
  },
  {
   "cell_type": "code",
   "execution_count": 10,
   "metadata": {},
   "outputs": [],
   "source": [
    "patients, training = patient_provider.provide_sets(quantity=10, quantity_training=100)\n"
   ]
  },
  {
   "cell_type": "code",
   "execution_count": 11,
   "metadata": {},
   "outputs": [
    {
     "data": {
      "text/plain": [
       "[<surgeryschedulingunderuncertainty.patient.Patient at 0x17e0568f0>,\n",
       " <surgeryschedulingunderuncertainty.patient.Patient at 0x17f997640>,\n",
       " <surgeryschedulingunderuncertainty.patient.Patient at 0x10647c850>,\n",
       " <surgeryschedulingunderuncertainty.patient.Patient at 0x17f9975e0>,\n",
       " <surgeryschedulingunderuncertainty.patient.Patient at 0x17f997d60>,\n",
       " <surgeryschedulingunderuncertainty.patient.Patient at 0x17f997370>,\n",
       " <surgeryschedulingunderuncertainty.patient.Patient at 0x1477a2800>,\n",
       " <surgeryschedulingunderuncertainty.patient.Patient at 0x11f5f2080>,\n",
       " <surgeryschedulingunderuncertainty.patient.Patient at 0x11f5f20b0>,\n",
       " <surgeryschedulingunderuncertainty.patient.Patient at 0x17f9d0910>]"
      ]
     },
     "execution_count": 11,
     "metadata": {},
     "output_type": "execute_result"
    }
   ],
   "source": [
    "patients\n"
   ]
  },
  {
   "cell_type": "code",
   "execution_count": 12,
   "metadata": {},
   "outputs": [
    {
     "data": {
      "text/plain": [
       "array([2, 0, 0, ..., 0.0, 0.0, 0.0], dtype=object)"
      ]
     },
     "execution_count": 12,
     "metadata": {},
     "output_type": "execute_result"
    }
   ],
   "source": [
    "patients[0].features"
   ]
  },
  {
   "cell_type": "code",
   "execution_count": 13,
   "metadata": {},
   "outputs": [],
   "source": [
    "# instantiating the model, and training\n",
    "\n",
    "model = NGBNormal(description=\"test\", patients=training)"
   ]
  },
  {
   "cell_type": "code",
   "execution_count": 14,
   "metadata": {},
   "outputs": [],
   "source": [
    "patients_prediction = model.predict(patients)"
   ]
  },
  {
   "cell_type": "code",
   "execution_count": 15,
   "metadata": {},
   "outputs": [
    {
     "data": {
      "text/plain": [
       "78.67473379822106"
      ]
     },
     "execution_count": 15,
     "metadata": {},
     "output_type": "execute_result"
    }
   ],
   "source": [
    "patients_prediction[0].uncertainty_profile.param_loc"
   ]
  },
  {
   "cell_type": "code",
   "execution_count": 16,
   "metadata": {},
   "outputs": [
    {
     "data": {
      "text/plain": [
       "7.539118909785348"
      ]
     },
     "execution_count": 16,
     "metadata": {},
     "output_type": "execute_result"
    }
   ],
   "source": [
    "patients_prediction[0].uncertainty_profile.param_scale"
   ]
  },
  {
   "cell_type": "code",
   "execution_count": 17,
   "metadata": {},
   "outputs": [
    {
     "data": {
      "text/plain": [
       "array([76.99766753, 88.77739105, 85.24842154, 67.88130697, 73.64934741,\n",
       "       75.41898443, 94.78225632, 76.82876761, 75.34225925, 74.71887082])"
      ]
     },
     "execution_count": 17,
     "metadata": {},
     "output_type": "execute_result"
    }
   ],
   "source": [
    "patients_prediction[0].uncertainty_profile.sample(10)"
   ]
  },
  {
   "cell_type": "markdown",
   "metadata": {},
   "source": [
    "## Aggiunta dei pazienti con previsione (nuovo task)"
   ]
  },
  {
   "cell_type": "code",
   "execution_count": 18,
   "metadata": {},
   "outputs": [],
   "source": [
    "num_of_patients = 50"
   ]
  },
  {
   "cell_type": "code",
   "execution_count": 19,
   "metadata": {},
   "outputs": [],
   "source": [
    "patients, training = patient_provider.provide_sets(quantity=num_of_patients, quantity_training=1000)\n"
   ]
  },
  {
   "cell_type": "code",
   "execution_count": 20,
   "metadata": {},
   "outputs": [],
   "source": [
    "model = NGBLogNormal(description=\"test\", patients=training)\n",
    "\n",
    "patients = model.predict(patients)"
   ]
  },
  {
   "cell_type": "code",
   "execution_count": 21,
   "metadata": {},
   "outputs": [],
   "source": [
    "\n",
    "task = Task(name = \"My first problem\",\n",
    "            num_of_weeks= 2,\n",
    "            num_of_patients= num_of_patients,\n",
    "            robustness_risk= 0.2,\n",
    "            robustness_overtime= 10,\n",
    "            urgency_to_max_waiting_days= {0: 7, 1:30, 2:60, 3:180, 4:360}, \n",
    "            )\n",
    "\n",
    "task.patients = patients\n"
   ]
  },
  {
   "cell_type": "code",
   "execution_count": 22,
   "metadata": {},
   "outputs": [
    {
     "data": {
      "text/plain": [
       "7"
      ]
     },
     "execution_count": 22,
     "metadata": {},
     "output_type": "execute_result"
    }
   ],
   "source": [
    "patients = task.patients\n",
    "patients[1].max_waiting_days"
   ]
  },
  {
   "cell_type": "code",
   "execution_count": 23,
   "metadata": {},
   "outputs": [
    {
     "data": {
      "text/plain": [
       "7"
      ]
     },
     "execution_count": 23,
     "metadata": {},
     "output_type": "execute_result"
    }
   ],
   "source": [
    "patients[1].days_waiting"
   ]
  },
  {
   "cell_type": "code",
   "execution_count": 24,
   "metadata": {},
   "outputs": [
    {
     "name": "stdout",
     "output_type": "stream",
     "text": [
      "Patient id: 3128 \n",
      " equipe: H \n",
      " urgency: 4 \n",
      " nominal duration: 104 \n",
      " days waiting: 164\n"
     ]
    }
   ],
   "source": [
    "print(patients[0])"
   ]
  },
  {
   "cell_type": "markdown",
   "metadata": {},
   "source": [
    "## Aggiunta del master scheduling"
   ]
  },
  {
   "cell_type": "code",
   "execution_count": 25,
   "metadata": {},
   "outputs": [
    {
     "data": {
      "text/html": [
       "<div>\n",
       "<style scoped>\n",
       "    .dataframe tbody tr th:only-of-type {\n",
       "        vertical-align: middle;\n",
       "    }\n",
       "\n",
       "    .dataframe tbody tr th {\n",
       "        vertical-align: top;\n",
       "    }\n",
       "\n",
       "    .dataframe thead th {\n",
       "        text-align: right;\n",
       "    }\n",
       "</style>\n",
       "<table border=\"1\" class=\"dataframe\">\n",
       "  <thead>\n",
       "    <tr style=\"text-align: right;\">\n",
       "      <th></th>\n",
       "      <th>weekday</th>\n",
       "      <th>equipes</th>\n",
       "      <th>room</th>\n",
       "      <th>duration</th>\n",
       "    </tr>\n",
       "  </thead>\n",
       "  <tbody>\n",
       "    <tr>\n",
       "      <th>0</th>\n",
       "      <td>1</td>\n",
       "      <td>C, D</td>\n",
       "      <td>or1</td>\n",
       "      <td>300</td>\n",
       "    </tr>\n",
       "    <tr>\n",
       "      <th>1</th>\n",
       "      <td>1</td>\n",
       "      <td>D, C</td>\n",
       "      <td>or1</td>\n",
       "      <td>300</td>\n",
       "    </tr>\n",
       "    <tr>\n",
       "      <th>2</th>\n",
       "      <td>1</td>\n",
       "      <td>I</td>\n",
       "      <td>or2</td>\n",
       "      <td>600</td>\n",
       "    </tr>\n",
       "    <tr>\n",
       "      <th>3</th>\n",
       "      <td>2</td>\n",
       "      <td>H, F</td>\n",
       "      <td>or1</td>\n",
       "      <td>300</td>\n",
       "    </tr>\n",
       "    <tr>\n",
       "      <th>4</th>\n",
       "      <td>2</td>\n",
       "      <td>D, C</td>\n",
       "      <td>or1</td>\n",
       "      <td>300</td>\n",
       "    </tr>\n",
       "    <tr>\n",
       "      <th>5</th>\n",
       "      <td>2</td>\n",
       "      <td>L</td>\n",
       "      <td>or2</td>\n",
       "      <td>600</td>\n",
       "    </tr>\n",
       "    <tr>\n",
       "      <th>6</th>\n",
       "      <td>3</td>\n",
       "      <td>C, D</td>\n",
       "      <td>or1</td>\n",
       "      <td>300</td>\n",
       "    </tr>\n",
       "    <tr>\n",
       "      <th>7</th>\n",
       "      <td>3</td>\n",
       "      <td>F, H</td>\n",
       "      <td>or1</td>\n",
       "      <td>300</td>\n",
       "    </tr>\n",
       "    <tr>\n",
       "      <th>8</th>\n",
       "      <td>3</td>\n",
       "      <td>I</td>\n",
       "      <td>or1</td>\n",
       "      <td>300</td>\n",
       "    </tr>\n",
       "    <tr>\n",
       "      <th>9</th>\n",
       "      <td>3</td>\n",
       "      <td>H, F</td>\n",
       "      <td>or2</td>\n",
       "      <td>600</td>\n",
       "    </tr>\n",
       "    <tr>\n",
       "      <th>10</th>\n",
       "      <td>4</td>\n",
       "      <td>L</td>\n",
       "      <td>or1</td>\n",
       "      <td>300</td>\n",
       "    </tr>\n",
       "    <tr>\n",
       "      <th>11</th>\n",
       "      <td>4</td>\n",
       "      <td>B, E, A, G</td>\n",
       "      <td>or1</td>\n",
       "      <td>600</td>\n",
       "    </tr>\n",
       "    <tr>\n",
       "      <th>12</th>\n",
       "      <td>4</td>\n",
       "      <td>E, A, G, B</td>\n",
       "      <td>or2</td>\n",
       "      <td>600</td>\n",
       "    </tr>\n",
       "    <tr>\n",
       "      <th>13</th>\n",
       "      <td>5</td>\n",
       "      <td>F, H</td>\n",
       "      <td>or2</td>\n",
       "      <td>300</td>\n",
       "    </tr>\n",
       "    <tr>\n",
       "      <th>14</th>\n",
       "      <td>5</td>\n",
       "      <td>A, B, E, G</td>\n",
       "      <td>or1</td>\n",
       "      <td>600</td>\n",
       "    </tr>\n",
       "    <tr>\n",
       "      <th>15</th>\n",
       "      <td>5</td>\n",
       "      <td>G, B, E, A</td>\n",
       "      <td>or1</td>\n",
       "      <td>600</td>\n",
       "    </tr>\n",
       "  </tbody>\n",
       "</table>\n",
       "</div>"
      ],
      "text/plain": [
       "    weekday     equipes room  duration\n",
       "0         1        C, D  or1       300\n",
       "1         1        D, C  or1       300\n",
       "2         1           I  or2       600\n",
       "3         2        H, F  or1       300\n",
       "4         2        D, C  or1       300\n",
       "5         2           L  or2       600\n",
       "6         3        C, D  or1       300\n",
       "7         3        F, H  or1       300\n",
       "8         3           I  or1       300\n",
       "9         3        H, F  or2       600\n",
       "10        4           L  or1       300\n",
       "11        4  B, E, A, G  or1       600\n",
       "12        4  E, A, G, B  or2       600\n",
       "13        5        F, H  or2       300\n",
       "14        5  A, B, E, G  or1       600\n",
       "15        5  G, B, E, A  or1       600"
      ]
     },
     "execution_count": 25,
     "metadata": {},
     "output_type": "execute_result"
    }
   ],
   "source": [
    "or_master_schedule = pd.read_csv(\"../data/master_schedule_input.csv\", sep = ';')\n",
    "or_master_schedule"
   ]
  },
  {
   "cell_type": "code",
   "execution_count": 26,
   "metadata": {},
   "outputs": [],
   "source": [
    "master_schedule  = Master(name = \"my master\", table=or_master_schedule)"
   ]
  },
  {
   "cell_type": "code",
   "execution_count": 27,
   "metadata": {},
   "outputs": [
    {
     "name": "stdout",
     "output_type": "stream",
     "text": [
      "Master 'my master' - 16 blocks on 5 days.\n"
     ]
    }
   ],
   "source": [
    "print(master_schedule)"
   ]
  },
  {
   "cell_type": "code",
   "execution_count": 28,
   "metadata": {},
   "outputs": [],
   "source": [
    "task.master_schedule = master_schedule"
   ]
  },
  {
   "cell_type": "code",
   "execution_count": 29,
   "metadata": {},
   "outputs": [
    {
     "name": "stdout",
     "output_type": "stream",
     "text": [
      "Master Block number 0\n",
      "                \n",
      "Equipe: ['C', 'D']\n",
      "                \n",
      "Duration: 300\n",
      "                \n",
      "Room: or1\n",
      "                \n",
      "Weekday: 1\n",
      "                \n",
      "Number in day: 1\n",
      "                \n",
      "----\n",
      "\n",
      "Master Block number 1\n",
      "                \n",
      "Equipe: ['D', 'C']\n",
      "                \n",
      "Duration: 300\n",
      "                \n",
      "Room: or1\n",
      "                \n",
      "Weekday: 1\n",
      "                \n",
      "Number in day: 2\n",
      "                \n",
      "----\n",
      "\n",
      "Master Block number 2\n",
      "                \n",
      "Equipe: ['I']\n",
      "                \n",
      "Duration: 600\n",
      "                \n",
      "Room: or2\n",
      "                \n",
      "Weekday: 1\n",
      "                \n",
      "Number in day: 3\n",
      "                \n",
      "----\n",
      "\n",
      "Master Block number 3\n",
      "                \n",
      "Equipe: ['H', 'F']\n",
      "                \n",
      "Duration: 300\n",
      "                \n",
      "Room: or1\n",
      "                \n",
      "Weekday: 2\n",
      "                \n",
      "Number in day: 1\n",
      "                \n",
      "----\n",
      "\n",
      "Master Block number 4\n",
      "                \n",
      "Equipe: ['D', 'C']\n",
      "                \n",
      "Duration: 300\n",
      "                \n",
      "Room: or1\n",
      "                \n",
      "Weekday: 2\n",
      "                \n",
      "Number in day: 2\n",
      "                \n",
      "----\n",
      "\n",
      "Master Block number 5\n",
      "                \n",
      "Equipe: ['L']\n",
      "                \n",
      "Duration: 600\n",
      "                \n",
      "Room: or2\n",
      "                \n",
      "Weekday: 2\n",
      "                \n",
      "Number in day: 3\n",
      "                \n",
      "----\n",
      "\n",
      "Master Block number 6\n",
      "                \n",
      "Equipe: ['C', 'D']\n",
      "                \n",
      "Duration: 300\n",
      "                \n",
      "Room: or1\n",
      "                \n",
      "Weekday: 3\n",
      "                \n",
      "Number in day: 1\n",
      "                \n",
      "----\n",
      "\n",
      "Master Block number 7\n",
      "                \n",
      "Equipe: ['F', 'H']\n",
      "                \n",
      "Duration: 300\n",
      "                \n",
      "Room: or1\n",
      "                \n",
      "Weekday: 3\n",
      "                \n",
      "Number in day: 2\n",
      "                \n",
      "----\n",
      "\n",
      "Master Block number 8\n",
      "                \n",
      "Equipe: ['I']\n",
      "                \n",
      "Duration: 300\n",
      "                \n",
      "Room: or1\n",
      "                \n",
      "Weekday: 3\n",
      "                \n",
      "Number in day: 3\n",
      "                \n",
      "----\n",
      "\n",
      "Master Block number 9\n",
      "                \n",
      "Equipe: ['H', 'F']\n",
      "                \n",
      "Duration: 600\n",
      "                \n",
      "Room: or2\n",
      "                \n",
      "Weekday: 3\n",
      "                \n",
      "Number in day: 4\n",
      "                \n",
      "----\n",
      "\n",
      "Master Block number 10\n",
      "                \n",
      "Equipe: ['L']\n",
      "                \n",
      "Duration: 300\n",
      "                \n",
      "Room: or1\n",
      "                \n",
      "Weekday: 4\n",
      "                \n",
      "Number in day: 1\n",
      "                \n",
      "----\n",
      "\n",
      "Master Block number 11\n",
      "                \n",
      "Equipe: ['B', 'E', 'A', 'G']\n",
      "                \n",
      "Duration: 600\n",
      "                \n",
      "Room: or1\n",
      "                \n",
      "Weekday: 4\n",
      "                \n",
      "Number in day: 2\n",
      "                \n",
      "----\n",
      "\n",
      "Master Block number 12\n",
      "                \n",
      "Equipe: ['E', 'A', 'G', 'B']\n",
      "                \n",
      "Duration: 600\n",
      "                \n",
      "Room: or2\n",
      "                \n",
      "Weekday: 4\n",
      "                \n",
      "Number in day: 3\n",
      "                \n",
      "----\n",
      "\n",
      "Master Block number 13\n",
      "                \n",
      "Equipe: ['F', 'H']\n",
      "                \n",
      "Duration: 300\n",
      "                \n",
      "Room: or2\n",
      "                \n",
      "Weekday: 5\n",
      "                \n",
      "Number in day: 1\n",
      "                \n",
      "----\n",
      "\n",
      "Master Block number 14\n",
      "                \n",
      "Equipe: ['A', 'B', 'E', 'G']\n",
      "                \n",
      "Duration: 600\n",
      "                \n",
      "Room: or1\n",
      "                \n",
      "Weekday: 5\n",
      "                \n",
      "Number in day: 2\n",
      "                \n",
      "----\n",
      "\n",
      "Master Block number 15\n",
      "                \n",
      "Equipe: ['G', 'B', 'E', 'A']\n",
      "                \n",
      "Duration: 600\n",
      "                \n",
      "Room: or1\n",
      "                \n",
      "Weekday: 5\n",
      "                \n",
      "Number in day: 3\n",
      "                \n",
      "----\n",
      "\n"
     ]
    }
   ],
   "source": [
    "for block in master_schedule.blocks:\n",
    "    print(block)\n",
    "    print('----\\n')\n",
    "    \n",
    "    "
   ]
  },
  {
   "cell_type": "markdown",
   "metadata": {},
   "source": [
    "## Soluzione del modello - Implementor Adversary"
   ]
  },
  {
   "cell_type": "code",
   "execution_count": 30,
   "metadata": {},
   "outputs": [],
   "source": [
    "implementor_adversary = ImplementorAdversary(task = task, implementor=StandardImplementor(), adversary=None, description = 'Test')\n",
    "\n"
   ]
  },
  {
   "cell_type": "code",
   "execution_count": 31,
   "metadata": {},
   "outputs": [
    {
     "data": {
      "text/plain": [
       "<surgeryschedulingunderuncertainty.task.Task at 0x307ec31c0>"
      ]
     },
     "execution_count": 31,
     "metadata": {},
     "output_type": "execute_result"
    }
   ],
   "source": [
    "implementor_adversary._task\n",
    "\n"
   ]
  },
  {
   "cell_type": "code",
   "execution_count": 32,
   "metadata": {},
   "outputs": [],
   "source": [
    "implementor_adversary.create_instance()\n",
    "\n"
   ]
  },
  {
   "cell_type": "code",
   "execution_count": 33,
   "metadata": {},
   "outputs": [
    {
     "name": "stdout",
     "output_type": "stream",
     "text": [
      "implementor\n",
      "adversary\n"
     ]
    }
   ],
   "source": [
    "solution = implementor_adversary.run(10)"
   ]
  },
  {
   "cell_type": "code",
   "execution_count": null,
   "metadata": {},
   "outputs": [],
   "source": []
  },
  {
   "cell_type": "code",
   "execution_count": 34,
   "metadata": {},
   "outputs": [
    {
     "data": {
      "text/plain": [
       "{None: 50}"
      ]
     },
     "execution_count": 34,
     "metadata": {},
     "output_type": "execute_result"
    }
   ],
   "source": [
    "implementor_adversary._instance.get(None).get('n_pats')"
   ]
  },
  {
   "cell_type": "code",
   "execution_count": 35,
   "metadata": {},
   "outputs": [],
   "source": [
    "solution = implementor_adversary.run_implementor()\n"
   ]
  },
  {
   "cell_type": "code",
   "execution_count": 36,
   "metadata": {},
   "outputs": [
    {
     "name": "stdout",
     "output_type": "stream",
     "text": [
      "Patient id: 4401 \n",
      " equipe: D \n",
      " urgency: 1 \n",
      " nominal duration: 71 \n",
      " days waiting: 13\n",
      "Patient id: 9116 \n",
      " equipe: C \n",
      " urgency: 3 \n",
      " nominal duration: 86 \n",
      " days waiting: 149\n",
      "Patient id: 4431 \n",
      " equipe: D \n",
      " urgency: 1 \n",
      " nominal duration: 45 \n",
      " days waiting: 28\n"
     ]
    }
   ],
   "source": [
    "for pat in (solution._blocks[0].patients):\n",
    "    print(pat)"
   ]
  },
  {
   "cell_type": "markdown",
   "metadata": {},
   "source": [
    "solution._blocks[4].patients[0].uncertainty_profile.param_s"
   ]
  },
  {
   "cell_type": "code",
   "execution_count": 37,
   "metadata": {},
   "outputs": [
    {
     "data": {
      "text/plain": [
       "[<surgeryschedulingunderuncertainty.block.MasterBlock at 0x307f4ada0>,\n",
       " <surgeryschedulingunderuncertainty.block.MasterBlock at 0x307f48e20>,\n",
       " <surgeryschedulingunderuncertainty.block.MasterBlock at 0x307f4aa10>,\n",
       " <surgeryschedulingunderuncertainty.block.MasterBlock at 0x307f4a410>,\n",
       " <surgeryschedulingunderuncertainty.block.MasterBlock at 0x307f48580>,\n",
       " <surgeryschedulingunderuncertainty.block.MasterBlock at 0x307f4ab60>,\n",
       " <surgeryschedulingunderuncertainty.block.MasterBlock at 0x307f4b2b0>,\n",
       " <surgeryschedulingunderuncertainty.block.MasterBlock at 0x307f48460>,\n",
       " <surgeryschedulingunderuncertainty.block.MasterBlock at 0x307f48c40>,\n",
       " <surgeryschedulingunderuncertainty.block.MasterBlock at 0x307f4b3a0>,\n",
       " <surgeryschedulingunderuncertainty.block.MasterBlock at 0x307f4bf70>,\n",
       " <surgeryschedulingunderuncertainty.block.MasterBlock at 0x307f48af0>,\n",
       " <surgeryschedulingunderuncertainty.block.MasterBlock at 0x307f4a0b0>,\n",
       " <surgeryschedulingunderuncertainty.block.MasterBlock at 0x307f487f0>,\n",
       " <surgeryschedulingunderuncertainty.block.MasterBlock at 0x307f4b6a0>,\n",
       " <surgeryschedulingunderuncertainty.block.MasterBlock at 0x307f4ba90>]"
      ]
     },
     "execution_count": 37,
     "metadata": {},
     "output_type": "execute_result"
    }
   ],
   "source": [
    "task.master_schedule.blocks"
   ]
  },
  {
   "cell_type": "code",
   "execution_count": 38,
   "metadata": {},
   "outputs": [
    {
     "data": {
      "text/plain": [
       "[<surgeryschedulingunderuncertainty.patient.Patient at 0x106459c90>,\n",
       " <surgeryschedulingunderuncertainty.patient.Patient at 0x17f997430>,\n",
       " <surgeryschedulingunderuncertainty.patient.Patient at 0x17f997cd0>,\n",
       " <surgeryschedulingunderuncertainty.patient.Patient at 0x17f997250>,\n",
       " <surgeryschedulingunderuncertainty.patient.Patient at 0x17f9d3fd0>,\n",
       " <surgeryschedulingunderuncertainty.patient.Patient at 0x17f9d1ed0>,\n",
       " <surgeryschedulingunderuncertainty.patient.Patient at 0x17f9d1270>,\n",
       " <surgeryschedulingunderuncertainty.patient.Patient at 0x307ec3100>,\n",
       " <surgeryschedulingunderuncertainty.patient.Patient at 0x307ec1090>,\n",
       " <surgeryschedulingunderuncertainty.patient.Patient at 0x307ec2cb0>,\n",
       " <surgeryschedulingunderuncertainty.patient.Patient at 0x307ec2260>,\n",
       " <surgeryschedulingunderuncertainty.patient.Patient at 0x307ec3be0>,\n",
       " <surgeryschedulingunderuncertainty.patient.Patient at 0x307ec3f10>,\n",
       " <surgeryschedulingunderuncertainty.patient.Patient at 0x307ec1330>,\n",
       " <surgeryschedulingunderuncertainty.patient.Patient at 0x307ec0cd0>,\n",
       " <surgeryschedulingunderuncertainty.patient.Patient at 0x307ec2050>,\n",
       " <surgeryschedulingunderuncertainty.patient.Patient at 0x307ec1450>,\n",
       " <surgeryschedulingunderuncertainty.patient.Patient at 0x307ec3bb0>,\n",
       " <surgeryschedulingunderuncertainty.patient.Patient at 0x307ec0250>,\n",
       " <surgeryschedulingunderuncertainty.patient.Patient at 0x307ec2d70>,\n",
       " <surgeryschedulingunderuncertainty.patient.Patient at 0x307eed060>,\n",
       " <surgeryschedulingunderuncertainty.patient.Patient at 0x307eef6a0>,\n",
       " <surgeryschedulingunderuncertainty.patient.Patient at 0x307eed1b0>,\n",
       " <surgeryschedulingunderuncertainty.patient.Patient at 0x307eed150>,\n",
       " <surgeryschedulingunderuncertainty.patient.Patient at 0x307eef580>,\n",
       " <surgeryschedulingunderuncertainty.patient.Patient at 0x307eed570>,\n",
       " <surgeryschedulingunderuncertainty.patient.Patient at 0x307eecb80>,\n",
       " <surgeryschedulingunderuncertainty.patient.Patient at 0x307eef790>,\n",
       " <surgeryschedulingunderuncertainty.patient.Patient at 0x307eeefe0>,\n",
       " <surgeryschedulingunderuncertainty.patient.Patient at 0x307eed600>,\n",
       " <surgeryschedulingunderuncertainty.patient.Patient at 0x307eee980>,\n",
       " <surgeryschedulingunderuncertainty.patient.Patient at 0x307eec5b0>,\n",
       " <surgeryschedulingunderuncertainty.patient.Patient at 0x307eec160>,\n",
       " <surgeryschedulingunderuncertainty.patient.Patient at 0x307eed8a0>,\n",
       " <surgeryschedulingunderuncertainty.patient.Patient at 0x307eec400>,\n",
       " <surgeryschedulingunderuncertainty.patient.Patient at 0x307eedd80>,\n",
       " <surgeryschedulingunderuncertainty.patient.Patient at 0x307eeca30>,\n",
       " <surgeryschedulingunderuncertainty.patient.Patient at 0x307eee710>,\n",
       " <surgeryschedulingunderuncertainty.patient.Patient at 0x307eee620>,\n",
       " <surgeryschedulingunderuncertainty.patient.Patient at 0x307eeddb0>,\n",
       " <surgeryschedulingunderuncertainty.patient.Patient at 0x307eeea40>,\n",
       " <surgeryschedulingunderuncertainty.patient.Patient at 0x11dddf4f0>,\n",
       " <surgeryschedulingunderuncertainty.patient.Patient at 0x30670ada0>,\n",
       " <surgeryschedulingunderuncertainty.patient.Patient at 0x307eef160>,\n",
       " <surgeryschedulingunderuncertainty.patient.Patient at 0x307eed9c0>,\n",
       " <surgeryschedulingunderuncertainty.patient.Patient at 0x307eefdf0>,\n",
       " <surgeryschedulingunderuncertainty.patient.Patient at 0x306708f10>,\n",
       " <surgeryschedulingunderuncertainty.patient.Patient at 0x3046b5b10>,\n",
       " <surgeryschedulingunderuncertainty.patient.Patient at 0x30670a980>,\n",
       " <surgeryschedulingunderuncertainty.patient.Patient at 0x30670a380>]"
      ]
     },
     "execution_count": 38,
     "metadata": {},
     "output_type": "execute_result"
    }
   ],
   "source": [
    "task.patients"
   ]
  },
  {
   "cell_type": "code",
   "execution_count": 39,
   "metadata": {},
   "outputs": [
    {
     "data": {
      "text/plain": [
       "<surgeryschedulingunderuncertainty.uncertainty_profile.LogNormalDistribution at 0x17f997a90>"
      ]
     },
     "execution_count": 39,
     "metadata": {},
     "output_type": "execute_result"
    }
   ],
   "source": [
    "task.patients[0].uncertainty_profile"
   ]
  },
  {
   "cell_type": "code",
   "execution_count": null,
   "metadata": {},
   "outputs": [],
   "source": []
  },
  {
   "cell_type": "markdown",
   "metadata": {},
   "source": [
    "## Creazione dell'ottimizzatore"
   ]
  },
  {
   "cell_type": "code",
   "execution_count": 40,
   "metadata": {},
   "outputs": [],
   "source": [
    "from surgeryschedulingunderuncertainty.optimizer import VanillaImplementor\n",
    "from surgeryschedulingunderuncertainty.implementor import ChanceConstraintsImplementor\n"
   ]
  },
  {
   "cell_type": "code",
   "execution_count": 41,
   "metadata": {},
   "outputs": [],
   "source": [
    "chance_constraints_model = VanillaImplementor(task = task, \n",
    "                                              implementor=ChanceConstraintsImplementor(task = task), \n",
    "                                              description = 'Test')\n",
    "\n"
   ]
  },
  {
   "cell_type": "code",
   "execution_count": 42,
   "metadata": {},
   "outputs": [],
   "source": [
    "chance_constraints_model = VanillaImplementor(task = task, \n",
    "                                              implementor=ChanceConstraintsImplementor(task = task), \n",
    "                                              description = 'Test')"
   ]
  },
  {
   "cell_type": "code",
   "execution_count": null,
   "metadata": {},
   "outputs": [],
   "source": []
  },
  {
   "cell_type": "code",
   "execution_count": 43,
   "metadata": {},
   "outputs": [],
   "source": [
    "from surgeryschedulingunderuncertainty.optimizer import VanillaImplementor, BudgetSet\n",
    "from surgeryschedulingunderuncertainty.implementor import ChanceConstraintsImplementor, BSImplementor\n"
   ]
  },
  {
   "cell_type": "code",
   "execution_count": 44,
   "metadata": {},
   "outputs": [],
   "source": [
    "bs_model = BudgetSet(task = task, \n",
    "                              implementor=BSImplementor(task = task), \n",
    "                              description = 'Test')\n",
    "\n",
    "\n",
    "\n",
    "\n"
   ]
  },
  {
   "cell_type": "code",
   "execution_count": 45,
   "metadata": {},
   "outputs": [
    {
     "name": "stdout",
     "output_type": "stream",
     "text": [
      "hello!\n",
      "{'mean': 58.531308877183086, 'std': 3.4554520278717673, 'gamma': 9, 'time_increment': 333.3333333333333}\n",
      "{'mean': 58.531308877183086, 'std': 3.4554520278717673, 'gamma': 9, 'time_increment': 333.3333333333333}\n",
      "{'mean': 199.93388195843357, 'std': 11.801895638591114, 'gamma': 9, 'time_increment': 666.6666666666666}\n",
      "{'mean': 61.841420254529766, 'std': 0.98692242104967, 'gamma': 9, 'time_increment': 333.3333333333333}\n",
      "{'mean': 58.531308877183086, 'std': 3.4554520278717673, 'gamma': 9, 'time_increment': 333.3333333333333}\n",
      "{'mean': 217.4623516321134, 'std': 7.473759351119532, 'gamma': 9, 'time_increment': 666.6666666666666}\n",
      "{'mean': 58.531308877183086, 'std': 3.4554520278717673, 'gamma': 9, 'time_increment': 333.3333333333333}\n",
      "{'mean': 61.841420254529766, 'std': 0.98692242104967, 'gamma': 9, 'time_increment': 333.3333333333333}\n",
      "{'mean': 199.93388195843357, 'std': 11.801895638591114, 'gamma': 9, 'time_increment': 333.3333333333333}\n",
      "{'mean': 61.841420254529766, 'std': 0.98692242104967, 'gamma': 9, 'time_increment': 666.6666666666666}\n",
      "{'mean': 217.4623516321134, 'std': 7.473759351119532, 'gamma': 9, 'time_increment': 333.3333333333333}\n",
      "{'mean': 105.19441181045335, 'std': 2.6460772329589783, 'gamma': 9, 'time_increment': 666.6666666666666}\n",
      "{'mean': 105.19441181045335, 'std': 2.6460772329589783, 'gamma': 9, 'time_increment': 666.6666666666666}\n",
      "{'mean': 61.841420254529766, 'std': 0.98692242104967, 'gamma': 9, 'time_increment': 333.3333333333333}\n",
      "{'mean': 105.19441181045335, 'std': 2.6460772329589783, 'gamma': 9, 'time_increment': 666.6666666666666}\n",
      "{'mean': 105.19441181045335, 'std': 2.6460772329589783, 'gamma': 9, 'time_increment': 666.6666666666666}\n",
      "{'mean': 58.531308877183086, 'std': 3.4554520278717673, 'gamma': 9, 'time_increment': 333.3333333333333}\n",
      "{'mean': 58.531308877183086, 'std': 3.4554520278717673, 'gamma': 9, 'time_increment': 333.3333333333333}\n",
      "{'mean': 199.93388195843357, 'std': 11.801895638591114, 'gamma': 9, 'time_increment': 666.6666666666666}\n",
      "{'mean': 61.841420254529766, 'std': 0.98692242104967, 'gamma': 9, 'time_increment': 333.3333333333333}\n",
      "{'mean': 58.531308877183086, 'std': 3.4554520278717673, 'gamma': 9, 'time_increment': 333.3333333333333}\n",
      "{'mean': 217.4623516321134, 'std': 7.473759351119532, 'gamma': 9, 'time_increment': 666.6666666666666}\n",
      "{'mean': 58.531308877183086, 'std': 3.4554520278717673, 'gamma': 9, 'time_increment': 333.3333333333333}\n",
      "{'mean': 61.841420254529766, 'std': 0.98692242104967, 'gamma': 9, 'time_increment': 333.3333333333333}\n",
      "{'mean': 199.93388195843357, 'std': 11.801895638591114, 'gamma': 9, 'time_increment': 333.3333333333333}\n",
      "{'mean': 61.841420254529766, 'std': 0.98692242104967, 'gamma': 9, 'time_increment': 666.6666666666666}\n",
      "{'mean': 217.4623516321134, 'std': 7.473759351119532, 'gamma': 9, 'time_increment': 333.3333333333333}\n",
      "{'mean': 105.19441181045335, 'std': 2.6460772329589783, 'gamma': 9, 'time_increment': 666.6666666666666}\n",
      "{'mean': 105.19441181045335, 'std': 2.6460772329589783, 'gamma': 9, 'time_increment': 666.6666666666666}\n",
      "{'mean': 61.841420254529766, 'std': 0.98692242104967, 'gamma': 9, 'time_increment': 333.3333333333333}\n",
      "{'mean': 105.19441181045335, 'std': 2.6460772329589783, 'gamma': 9, 'time_increment': 666.6666666666666}\n",
      "{'mean': 105.19441181045335, 'std': 2.6460772329589783, 'gamma': 9, 'time_increment': 666.6666666666666}\n",
      "implementor\n"
     ]
    },
    {
     "data": {
      "text/plain": [
       "<surgeryschedulingunderuncertainty.schedule.Schedule at 0x11f1034f0>"
      ]
     },
     "execution_count": 45,
     "metadata": {},
     "output_type": "execute_result"
    }
   ],
   "source": [
    "bs_model.run()"
   ]
  },
  {
   "cell_type": "code",
   "execution_count": 46,
   "metadata": {},
   "outputs": [
    {
     "name": "stdout",
     "output_type": "stream",
     "text": [
      "hello!\n",
      "{'mean': 58.531308877183086, 'std': 3.4554520278717673, 'gamma': 9, 'time_increment': 333.3333333333333}\n",
      "{'mean': 58.531308877183086, 'std': 3.4554520278717673, 'gamma': 9, 'time_increment': 333.3333333333333}\n",
      "{'mean': 199.93388195843357, 'std': 11.801895638591114, 'gamma': 9, 'time_increment': 666.6666666666666}\n",
      "{'mean': 61.841420254529766, 'std': 0.98692242104967, 'gamma': 9, 'time_increment': 333.3333333333333}\n",
      "{'mean': 58.531308877183086, 'std': 3.4554520278717673, 'gamma': 9, 'time_increment': 333.3333333333333}\n",
      "{'mean': 217.4623516321134, 'std': 7.473759351119532, 'gamma': 9, 'time_increment': 666.6666666666666}\n",
      "{'mean': 58.531308877183086, 'std': 3.4554520278717673, 'gamma': 9, 'time_increment': 333.3333333333333}\n",
      "{'mean': 61.841420254529766, 'std': 0.98692242104967, 'gamma': 9, 'time_increment': 333.3333333333333}\n",
      "{'mean': 199.93388195843357, 'std': 11.801895638591114, 'gamma': 9, 'time_increment': 333.3333333333333}\n",
      "{'mean': 61.841420254529766, 'std': 0.98692242104967, 'gamma': 9, 'time_increment': 666.6666666666666}\n",
      "{'mean': 217.4623516321134, 'std': 7.473759351119532, 'gamma': 9, 'time_increment': 333.3333333333333}\n",
      "{'mean': 105.19441181045335, 'std': 2.6460772329589783, 'gamma': 9, 'time_increment': 666.6666666666666}\n",
      "{'mean': 105.19441181045335, 'std': 2.6460772329589783, 'gamma': 9, 'time_increment': 666.6666666666666}\n",
      "{'mean': 61.841420254529766, 'std': 0.98692242104967, 'gamma': 9, 'time_increment': 333.3333333333333}\n",
      "{'mean': 105.19441181045335, 'std': 2.6460772329589783, 'gamma': 9, 'time_increment': 666.6666666666666}\n",
      "{'mean': 105.19441181045335, 'std': 2.6460772329589783, 'gamma': 9, 'time_increment': 666.6666666666666}\n",
      "{'mean': 58.531308877183086, 'std': 3.4554520278717673, 'gamma': 9, 'time_increment': 333.3333333333333}\n",
      "{'mean': 58.531308877183086, 'std': 3.4554520278717673, 'gamma': 9, 'time_increment': 333.3333333333333}\n",
      "{'mean': 199.93388195843357, 'std': 11.801895638591114, 'gamma': 9, 'time_increment': 666.6666666666666}\n",
      "{'mean': 61.841420254529766, 'std': 0.98692242104967, 'gamma': 9, 'time_increment': 333.3333333333333}\n",
      "{'mean': 58.531308877183086, 'std': 3.4554520278717673, 'gamma': 9, 'time_increment': 333.3333333333333}\n",
      "{'mean': 217.4623516321134, 'std': 7.473759351119532, 'gamma': 9, 'time_increment': 666.6666666666666}\n",
      "{'mean': 58.531308877183086, 'std': 3.4554520278717673, 'gamma': 9, 'time_increment': 333.3333333333333}\n",
      "{'mean': 61.841420254529766, 'std': 0.98692242104967, 'gamma': 9, 'time_increment': 333.3333333333333}\n",
      "{'mean': 199.93388195843357, 'std': 11.801895638591114, 'gamma': 9, 'time_increment': 333.3333333333333}\n",
      "{'mean': 61.841420254529766, 'std': 0.98692242104967, 'gamma': 9, 'time_increment': 666.6666666666666}\n",
      "{'mean': 217.4623516321134, 'std': 7.473759351119532, 'gamma': 9, 'time_increment': 333.3333333333333}\n",
      "{'mean': 105.19441181045335, 'std': 2.6460772329589783, 'gamma': 9, 'time_increment': 666.6666666666666}\n",
      "{'mean': 105.19441181045335, 'std': 2.6460772329589783, 'gamma': 9, 'time_increment': 666.6666666666666}\n",
      "{'mean': 61.841420254529766, 'std': 0.98692242104967, 'gamma': 9, 'time_increment': 333.3333333333333}\n",
      "{'mean': 105.19441181045335, 'std': 2.6460772329589783, 'gamma': 9, 'time_increment': 666.6666666666666}\n",
      "{'mean': 105.19441181045335, 'std': 2.6460772329589783, 'gamma': 9, 'time_increment': 666.6666666666666}\n"
     ]
    }
   ],
   "source": [
    "bs_model.create_instance()"
   ]
  },
  {
   "cell_type": "code",
   "execution_count": 47,
   "metadata": {},
   "outputs": [
    {
     "data": {
      "text/plain": [
       "dict_keys(['g', 'gamma', 'time_increment', 'a', 't', 'u', 'w', 'l', 'n_days', 'n_blocks', 'n_rooms', 'n_pats', 'Gamma', 'c_exclusion', 'c_delay', 'n_realizations'])"
      ]
     },
     "execution_count": 47,
     "metadata": {},
     "output_type": "execute_result"
    }
   ],
   "source": [
    "bs_model._instance[None].keys()"
   ]
  },
  {
   "cell_type": "code",
   "execution_count": 48,
   "metadata": {},
   "outputs": [],
   "source": [
    "solution = bs_model.run_implementor()"
   ]
  },
  {
   "cell_type": "code",
   "execution_count": 49,
   "metadata": {},
   "outputs": [
    {
     "name": "stdout",
     "output_type": "stream",
     "text": [
      "269.8074043500128\n",
      "0.28911782425652044\n",
      "212.59926303720903\n",
      "0.34447445621504097\n"
     ]
    }
   ],
   "source": [
    "for pat in (solution._blocks[2].patients):\n",
    "    print(pat.uncertainty_profile.nominal_value)\n",
    "    print(pat.uncertainty_profile.param_s)"
   ]
  },
  {
   "cell_type": "code",
   "execution_count": null,
   "metadata": {},
   "outputs": [],
   "source": []
  },
  {
   "cell_type": "code",
   "execution_count": 50,
   "metadata": {},
   "outputs": [
    {
     "data": {
      "text/plain": [
       "<surgeryschedulingunderuncertainty.task.Task at 0x307ec31c0>"
      ]
     },
     "execution_count": 50,
     "metadata": {},
     "output_type": "execute_result"
    }
   ],
   "source": [
    "chance_constraints_model._task\n",
    "\n"
   ]
  },
  {
   "cell_type": "code",
   "execution_count": 51,
   "metadata": {},
   "outputs": [],
   "source": [
    "chance_constraints_model.create_instance()\n",
    "\n"
   ]
  },
  {
   "cell_type": "code",
   "execution_count": 52,
   "metadata": {},
   "outputs": [
    {
     "data": {
      "text/plain": [
       "{None: 50}"
      ]
     },
     "execution_count": 52,
     "metadata": {},
     "output_type": "execute_result"
    }
   ],
   "source": [
    "chance_constraints_model._instance.get(None).get('n_pats')"
   ]
  },
  {
   "cell_type": "code",
   "execution_count": 53,
   "metadata": {},
   "outputs": [],
   "source": [
    "solution = chance_constraints_model.run_implementor()\n"
   ]
  },
  {
   "cell_type": "code",
   "execution_count": 54,
   "metadata": {},
   "outputs": [
    {
     "data": {
      "text/plain": [
       "{1: 104.79345424348244,\n",
       " 2: 43.4504948310814,\n",
       " 3: 269.80766509262725,\n",
       " 4: 50.836240900424976,\n",
       " 5: 45.45570203195016,\n",
       " 6: 52.3301068843628,\n",
       " 7: 61.89321006422617,\n",
       " 8: 44.68895614106572,\n",
       " 9: 86.92001595624004,\n",
       " 10: 49.7917885362025,\n",
       " 11: 191.58419464781596,\n",
       " 12: 71.41814326150518,\n",
       " 13: 44.32216453301749,\n",
       " 14: 162.44995932204787,\n",
       " 15: 91.22385146459992,\n",
       " 16: 42.65425234106965,\n",
       " 17: 86.34609750363069,\n",
       " 18: 86.34637421607354,\n",
       " 19: 44.41679059261145,\n",
       " 20: 48.11419652673679,\n",
       " 21: 145.47527514935527,\n",
       " 22: 88.61363977396317,\n",
       " 23: 63.527900317013376,\n",
       " 24: 92.27218498878946,\n",
       " 25: 42.83888129443252,\n",
       " 26: 92.27239441980183,\n",
       " 27: 196.3295734366252,\n",
       " 28: 104.07258025397705,\n",
       " 29: 97.36351131425297,\n",
       " 30: 48.48480057846943,\n",
       " 31: 45.12404402250023,\n",
       " 32: 140.8915072790951,\n",
       " 33: 50.866687858082464,\n",
       " 34: 173.9155477439028,\n",
       " 35: 102.9400124455927,\n",
       " 36: 191.58419464781596,\n",
       " 37: 111.64048737822093,\n",
       " 38: 198.71161719491909,\n",
       " 39: 86.34638174143372,\n",
       " 40: 344.91678777101885,\n",
       " 41: 207.7883932647994,\n",
       " 42: 48.071578532504766,\n",
       " 43: 48.071517691639116,\n",
       " 44: 92.27207110935538,\n",
       " 45: 51.93833751143614,\n",
       " 46: 50.836240900424976,\n",
       " 47: 143.41416218710722,\n",
       " 48: 212.59973278824347,\n",
       " 49: 50.83625613434319,\n",
       " 50: 191.32539531557282}"
      ]
     },
     "execution_count": 54,
     "metadata": {},
     "output_type": "execute_result"
    }
   ],
   "source": [
    "chance_constraints_model._instance.get(None).get('f')"
   ]
  },
  {
   "cell_type": "code",
   "execution_count": 55,
   "metadata": {},
   "outputs": [
    {
     "name": "stdout",
     "output_type": "stream",
     "text": [
      "Patient id: 4401 \n",
      " equipe: D \n",
      " urgency: 1 \n",
      " nominal duration: 71 \n",
      " days waiting: 13\n",
      "Patient id: 9116 \n",
      " equipe: C \n",
      " urgency: 3 \n",
      " nominal duration: 86 \n",
      " days waiting: 149\n",
      "Patient id: 4431 \n",
      " equipe: D \n",
      " urgency: 1 \n",
      " nominal duration: 45 \n",
      " days waiting: 28\n"
     ]
    }
   ],
   "source": [
    "for pat in (solution._blocks[0].patients):\n",
    "    print(pat)"
   ]
  },
  {
   "cell_type": "code",
   "execution_count": 56,
   "metadata": {},
   "outputs": [
    {
     "data": {
      "text/plain": [
       "<surgeryschedulingunderuncertainty.uncertainty_profile.LogNormalDistribution at 0x307ec2380>"
      ]
     },
     "execution_count": 56,
     "metadata": {},
     "output_type": "execute_result"
    }
   ],
   "source": [
    "solution._blocks[0].patients[0].uncertainty_profile"
   ]
  },
  {
   "cell_type": "code",
   "execution_count": 57,
   "metadata": {},
   "outputs": [
    {
     "ename": "AttributeError",
     "evalue": "'Schedule' object has no attribute 'x'",
     "output_type": "error",
     "traceback": [
      "\u001b[0;31m---------------------------------------------------------------------------\u001b[0m",
      "\u001b[0;31mAttributeError\u001b[0m                            Traceback (most recent call last)",
      "Cell \u001b[0;32mIn[57], line 1\u001b[0m\n\u001b[0;32m----> 1\u001b[0m \u001b[43msolution\u001b[49m\u001b[38;5;241;43m.\u001b[39;49m\u001b[43mx\u001b[49m[\u001b[38;5;241m1\u001b[39m,\u001b[38;5;241m1\u001b[39m]()\n",
      "\u001b[0;31mAttributeError\u001b[0m: 'Schedule' object has no attribute 'x'"
     ]
    }
   ],
   "source": [
    "solution.x[1,1]()"
   ]
  },
  {
   "cell_type": "code",
   "execution_count": null,
   "metadata": {},
   "outputs": [],
   "source": [
    "task.master_schedule.blocks"
   ]
  },
  {
   "cell_type": "code",
   "execution_count": null,
   "metadata": {},
   "outputs": [],
   "source": [
    "task.patients"
   ]
  },
  {
   "cell_type": "code",
   "execution_count": null,
   "metadata": {},
   "outputs": [],
   "source": [
    "task.patients[0].uncertainty_profile"
   ]
  },
  {
   "cell_type": "code",
   "execution_count": null,
   "metadata": {},
   "outputs": [],
   "source": []
  },
  {
   "cell_type": "code",
   "execution_count": null,
   "metadata": {},
   "outputs": [],
   "source": []
  },
  {
   "cell_type": "code",
   "execution_count": null,
   "metadata": {},
   "outputs": [],
   "source": []
  }
 ],
 "metadata": {
  "kernelspec": {
   "display_name": "surgeryschedulingunderuncertainty-XOZq-E-P-py3.10",
   "language": "python",
   "name": "python3"
  },
  "language_info": {
   "codemirror_mode": {
    "name": "ipython",
    "version": 3
   },
   "file_extension": ".py",
   "mimetype": "text/x-python",
   "name": "python",
   "nbconvert_exporter": "python",
   "pygments_lexer": "ipython3",
   "version": "3.10.13"
  }
 },
 "nbformat": 4,
 "nbformat_minor": 2
}
