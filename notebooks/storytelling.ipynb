{
 "cells": [
  {
   "cell_type": "markdown",
   "metadata": {},
   "source": [
    "# Storytelling"
   ]
  },
  {
   "cell_type": "code",
   "execution_count": 1,
   "metadata": {},
   "outputs": [
    {
     "name": "stderr",
     "output_type": "stream",
     "text": [
      "/var/folders/w_/kqymfxcs5d561j515w6_cfqh0000gn/T/ipykernel_7956/2504811429.py:1: DeprecationWarning: \n",
      "Pyarrow will become a required dependency of pandas in the next major release of pandas (pandas 3.0),\n",
      "(to allow more performant data types, such as the Arrow string type, and better interoperability with other libraries)\n",
      "but was not found to be installed on your system.\n",
      "If this would cause problems for you,\n",
      "please provide us feedback at https://github.com/pandas-dev/pandas/issues/54466\n",
      "        \n",
      "  import pandas as pd\n"
     ]
    }
   ],
   "source": [
    "import pandas as pd\n",
    "import numpy as np\n",
    "\n"
   ]
  },
  {
   "cell_type": "markdown",
   "metadata": {},
   "source": [
    "## Creazione del Task (problema con pazienti da dati storici)"
   ]
  },
  {
   "cell_type": "code",
   "execution_count": 2,
   "metadata": {},
   "outputs": [],
   "source": [
    "from surgeryschedulingunderuncertainty.task import Task\n",
    "from surgeryschedulingunderuncertainty.patients_provider import PatientsFromHistoricalDataProvider\n",
    "from surgeryschedulingunderuncertainty.master import Master\n",
    "\n",
    "from surgeryschedulingunderuncertainty.implementor import StandardImplementor\n",
    "from surgeryschedulingunderuncertainty.optimizer import ImplementorAdversary"
   ]
  },
  {
   "cell_type": "code",
   "execution_count": 3,
   "metadata": {},
   "outputs": [],
   "source": [
    "# help(Task)"
   ]
  },
  {
   "cell_type": "code",
   "execution_count": 4,
   "metadata": {},
   "outputs": [],
   "source": [
    "# Instanziare un oggetto task\n",
    "\n",
    "task = Task(name = \"My first problem\",\n",
    "            num_of_weeks= 2,\n",
    "            num_of_patients= 300,\n",
    "            robustness_risk= 0.2,\n",
    "            robustness_overtime= 60, # TODO check robustness_overtime unit of measure\n",
    "            urgency_to_max_waiting_days= {0: 7, 1:30, 2:60, 3:180, 4:360}, \n",
    ")"
   ]
  },
  {
   "cell_type": "code",
   "execution_count": 5,
   "metadata": {},
   "outputs": [],
   "source": [
    "# Importare i dati e istanziare un oggetto patient provider\n",
    "\n",
    "historical_data_df = pd.read_csv(\"../data/historical_data.csv\")\n",
    "\n",
    "patient_provider = PatientsFromHistoricalDataProvider(\n",
    "                 historical_data= historical_data_df\n",
    "                 )"
   ]
  },
  {
   "cell_type": "code",
   "execution_count": 6,
   "metadata": {},
   "outputs": [
    {
     "data": {
      "text/plain": [
       "0       3\n",
       "1       1\n",
       "2       0\n",
       "3       3\n",
       "4       0\n",
       "       ..\n",
       "9155    1\n",
       "9156    4\n",
       "9157    1\n",
       "9158    1\n",
       "9159    4\n",
       "Name: urgency, Length: 9160, dtype: int64"
      ]
     },
     "execution_count": 6,
     "metadata": {},
     "output_type": "execute_result"
    }
   ],
   "source": [
    "historical_data_df.urgency"
   ]
  },
  {
   "cell_type": "code",
   "execution_count": 7,
   "metadata": {},
   "outputs": [
    {
     "name": "stdout",
     "output_type": "stream",
     "text": [
      "Patient id: 3572 \n",
      " equipe: G \n",
      " urgency: 2 \n",
      " days waiting: 46\n",
      "Patient id: 1857 \n",
      " equipe: C \n",
      " urgency: 3 \n",
      " days waiting: 13\n",
      "Patient id: 6259 \n",
      " equipe: B \n",
      " urgency: 3 \n",
      " days waiting: 56\n"
     ]
    }
   ],
   "source": [
    "# Campionatura di singoli pazienti\n",
    "patient = patient_provider.provide_patient()\n",
    "print(patient)\n",
    "\n",
    "# Campionatura di singoli pazienti\n",
    "patient = patient_provider.provide_patient(requested_equipe='C', requested_urgency=3)\n",
    "print(patient)\n",
    "\n",
    "# Campionatura di singoli pazienti\n",
    "patient = patient_provider.provide_patient(requested_equipe='B', requested_urgency=3)\n",
    "print(patient)"
   ]
  },
  {
   "cell_type": "code",
   "execution_count": 8,
   "metadata": {},
   "outputs": [],
   "source": [
    "# Inserire un insieme di pazienti in task\n",
    "task.patients = patient_provider.provide_patient_set(quantity=300)"
   ]
  },
  {
   "cell_type": "markdown",
   "metadata": {},
   "source": [
    "## Previsione del tempo operatorio"
   ]
  },
  {
   "cell_type": "code",
   "execution_count": 9,
   "metadata": {},
   "outputs": [],
   "source": [
    "from surgeryschedulingunderuncertainty.predictive_model import NGBLogNormal, NGBNormal\n"
   ]
  },
  {
   "cell_type": "code",
   "execution_count": 10,
   "metadata": {},
   "outputs": [],
   "source": [
    "patients, training = patient_provider.provide_sets(quantity=10, quantity_training=100)\n"
   ]
  },
  {
   "cell_type": "code",
   "execution_count": 11,
   "metadata": {},
   "outputs": [
    {
     "data": {
      "text/plain": [
       "[<surgeryschedulingunderuncertainty.patient.Patient at 0x107174a60>,\n",
       " <surgeryschedulingunderuncertainty.patient.Patient at 0x17e6fee90>,\n",
       " <surgeryschedulingunderuncertainty.patient.Patient at 0x3000747c0>,\n",
       " <surgeryschedulingunderuncertainty.patient.Patient at 0x300074460>,\n",
       " <surgeryschedulingunderuncertainty.patient.Patient at 0x30003fa30>,\n",
       " <surgeryschedulingunderuncertainty.patient.Patient at 0x30003feb0>,\n",
       " <surgeryschedulingunderuncertainty.patient.Patient at 0x30003f7f0>,\n",
       " <surgeryschedulingunderuncertainty.patient.Patient at 0x30003faf0>,\n",
       " <surgeryschedulingunderuncertainty.patient.Patient at 0x30003f7c0>,\n",
       " <surgeryschedulingunderuncertainty.patient.Patient at 0x30003f790>]"
      ]
     },
     "execution_count": 11,
     "metadata": {},
     "output_type": "execute_result"
    }
   ],
   "source": [
    "patients\n"
   ]
  },
  {
   "cell_type": "code",
   "execution_count": 12,
   "metadata": {},
   "outputs": [
    {
     "data": {
      "text/plain": [
       "array([1, 0, 0, ..., 0.0, 0.0, 0.0], dtype=object)"
      ]
     },
     "execution_count": 12,
     "metadata": {},
     "output_type": "execute_result"
    }
   ],
   "source": [
    "patients[0].features"
   ]
  },
  {
   "cell_type": "code",
   "execution_count": 13,
   "metadata": {},
   "outputs": [],
   "source": [
    "# instantiating the model, and training\n",
    "\n",
    "model = NGBNormal(description=\"test\", patients=training)"
   ]
  },
  {
   "cell_type": "code",
   "execution_count": 14,
   "metadata": {},
   "outputs": [],
   "source": [
    "patients_prediction = model.predict(patients)"
   ]
  },
  {
   "cell_type": "code",
   "execution_count": 15,
   "metadata": {},
   "outputs": [
    {
     "data": {
      "text/plain": [
       "47.224162430074216"
      ]
     },
     "execution_count": 15,
     "metadata": {},
     "output_type": "execute_result"
    }
   ],
   "source": [
    "patients_prediction[0].uncertainty_profile.param_loc"
   ]
  },
  {
   "cell_type": "code",
   "execution_count": 16,
   "metadata": {},
   "outputs": [
    {
     "data": {
      "text/plain": [
       "14.089926887728705"
      ]
     },
     "execution_count": 16,
     "metadata": {},
     "output_type": "execute_result"
    }
   ],
   "source": [
    "patients_prediction[0].uncertainty_profile.param_scale"
   ]
  },
  {
   "cell_type": "code",
   "execution_count": 17,
   "metadata": {},
   "outputs": [
    {
     "data": {
      "text/plain": [
       "array([39.66704288, 56.4530394 , 26.83201364, 42.69088718, 34.05202196,\n",
       "       66.4851825 , 57.16930776, 28.05175119, 40.15633902, 34.20607303])"
      ]
     },
     "execution_count": 17,
     "metadata": {},
     "output_type": "execute_result"
    }
   ],
   "source": [
    "patients_prediction[0].uncertainty_profile.sample(10)"
   ]
  },
  {
   "cell_type": "markdown",
   "metadata": {},
   "source": [
    "## Aggiunta dei pazienti con previsione (nuovo task)"
   ]
  },
  {
   "cell_type": "code",
   "execution_count": 18,
   "metadata": {},
   "outputs": [],
   "source": [
    "num_of_patients = 50"
   ]
  },
  {
   "cell_type": "code",
   "execution_count": 19,
   "metadata": {},
   "outputs": [],
   "source": [
    "patients, training = patient_provider.provide_sets(quantity=num_of_patients, quantity_training=1000)\n"
   ]
  },
  {
   "cell_type": "code",
   "execution_count": 20,
   "metadata": {},
   "outputs": [],
   "source": [
    "model = NGBLogNormal(description=\"test\", patients=training)\n",
    "\n",
    "patients = model.predict(patients)"
   ]
  },
  {
   "cell_type": "code",
   "execution_count": 21,
   "metadata": {},
   "outputs": [],
   "source": [
    "\n",
    "task = Task(name = \"My first problem\",\n",
    "            num_of_weeks= 2,\n",
    "            num_of_patients= num_of_patients,\n",
    "            robustness_risk= 0.2,\n",
    "            robustness_overtime= 10,\n",
    "            urgency_to_max_waiting_days= {0: 7, 1:30, 2:60, 3:180, 4:360}, \n",
    "            )\n",
    "\n",
    "task.patients = patients\n"
   ]
  },
  {
   "cell_type": "code",
   "execution_count": 22,
   "metadata": {},
   "outputs": [
    {
     "data": {
      "text/plain": [
       "360"
      ]
     },
     "execution_count": 22,
     "metadata": {},
     "output_type": "execute_result"
    }
   ],
   "source": [
    "patients = task.patients\n",
    "patients[1].max_waiting_days"
   ]
  },
  {
   "cell_type": "code",
   "execution_count": 23,
   "metadata": {},
   "outputs": [
    {
     "data": {
      "text/plain": [
       "307"
      ]
     },
     "execution_count": 23,
     "metadata": {},
     "output_type": "execute_result"
    }
   ],
   "source": [
    "patients[1].days_waiting"
   ]
  },
  {
   "cell_type": "code",
   "execution_count": 24,
   "metadata": {},
   "outputs": [
    {
     "name": "stdout",
     "output_type": "stream",
     "text": [
      "Patient id: 7197 \n",
      " equipe: D \n",
      " urgency: 0 \n",
      " nominal duration: 72 \n",
      " days waiting: 6\n"
     ]
    }
   ],
   "source": [
    "print(patients[0])"
   ]
  },
  {
   "cell_type": "markdown",
   "metadata": {},
   "source": [
    "## Aggiunta del master scheduling"
   ]
  },
  {
   "cell_type": "code",
   "execution_count": 25,
   "metadata": {},
   "outputs": [
    {
     "data": {
      "text/html": [
       "<div>\n",
       "<style scoped>\n",
       "    .dataframe tbody tr th:only-of-type {\n",
       "        vertical-align: middle;\n",
       "    }\n",
       "\n",
       "    .dataframe tbody tr th {\n",
       "        vertical-align: top;\n",
       "    }\n",
       "\n",
       "    .dataframe thead th {\n",
       "        text-align: right;\n",
       "    }\n",
       "</style>\n",
       "<table border=\"1\" class=\"dataframe\">\n",
       "  <thead>\n",
       "    <tr style=\"text-align: right;\">\n",
       "      <th></th>\n",
       "      <th>weekday</th>\n",
       "      <th>equipes</th>\n",
       "      <th>room</th>\n",
       "      <th>duration</th>\n",
       "    </tr>\n",
       "  </thead>\n",
       "  <tbody>\n",
       "    <tr>\n",
       "      <th>0</th>\n",
       "      <td>1</td>\n",
       "      <td>C, D</td>\n",
       "      <td>or1</td>\n",
       "      <td>300</td>\n",
       "    </tr>\n",
       "    <tr>\n",
       "      <th>1</th>\n",
       "      <td>1</td>\n",
       "      <td>D, C</td>\n",
       "      <td>or1</td>\n",
       "      <td>300</td>\n",
       "    </tr>\n",
       "    <tr>\n",
       "      <th>2</th>\n",
       "      <td>1</td>\n",
       "      <td>I</td>\n",
       "      <td>or2</td>\n",
       "      <td>600</td>\n",
       "    </tr>\n",
       "    <tr>\n",
       "      <th>3</th>\n",
       "      <td>2</td>\n",
       "      <td>H, F</td>\n",
       "      <td>or1</td>\n",
       "      <td>300</td>\n",
       "    </tr>\n",
       "    <tr>\n",
       "      <th>4</th>\n",
       "      <td>2</td>\n",
       "      <td>D, C</td>\n",
       "      <td>or1</td>\n",
       "      <td>300</td>\n",
       "    </tr>\n",
       "    <tr>\n",
       "      <th>5</th>\n",
       "      <td>2</td>\n",
       "      <td>L</td>\n",
       "      <td>or2</td>\n",
       "      <td>600</td>\n",
       "    </tr>\n",
       "    <tr>\n",
       "      <th>6</th>\n",
       "      <td>3</td>\n",
       "      <td>C, D</td>\n",
       "      <td>or1</td>\n",
       "      <td>300</td>\n",
       "    </tr>\n",
       "    <tr>\n",
       "      <th>7</th>\n",
       "      <td>3</td>\n",
       "      <td>F, H</td>\n",
       "      <td>or1</td>\n",
       "      <td>300</td>\n",
       "    </tr>\n",
       "    <tr>\n",
       "      <th>8</th>\n",
       "      <td>3</td>\n",
       "      <td>I</td>\n",
       "      <td>or1</td>\n",
       "      <td>300</td>\n",
       "    </tr>\n",
       "    <tr>\n",
       "      <th>9</th>\n",
       "      <td>3</td>\n",
       "      <td>H, F</td>\n",
       "      <td>or2</td>\n",
       "      <td>600</td>\n",
       "    </tr>\n",
       "    <tr>\n",
       "      <th>10</th>\n",
       "      <td>4</td>\n",
       "      <td>L</td>\n",
       "      <td>or1</td>\n",
       "      <td>300</td>\n",
       "    </tr>\n",
       "    <tr>\n",
       "      <th>11</th>\n",
       "      <td>4</td>\n",
       "      <td>B, E, A, G</td>\n",
       "      <td>or1</td>\n",
       "      <td>600</td>\n",
       "    </tr>\n",
       "    <tr>\n",
       "      <th>12</th>\n",
       "      <td>4</td>\n",
       "      <td>E, A, G, B</td>\n",
       "      <td>or2</td>\n",
       "      <td>600</td>\n",
       "    </tr>\n",
       "    <tr>\n",
       "      <th>13</th>\n",
       "      <td>5</td>\n",
       "      <td>F, H</td>\n",
       "      <td>or2</td>\n",
       "      <td>300</td>\n",
       "    </tr>\n",
       "    <tr>\n",
       "      <th>14</th>\n",
       "      <td>5</td>\n",
       "      <td>A, B, E, G</td>\n",
       "      <td>or1</td>\n",
       "      <td>600</td>\n",
       "    </tr>\n",
       "    <tr>\n",
       "      <th>15</th>\n",
       "      <td>5</td>\n",
       "      <td>G, B, E, A</td>\n",
       "      <td>or1</td>\n",
       "      <td>600</td>\n",
       "    </tr>\n",
       "  </tbody>\n",
       "</table>\n",
       "</div>"
      ],
      "text/plain": [
       "    weekday     equipes room  duration\n",
       "0         1        C, D  or1       300\n",
       "1         1        D, C  or1       300\n",
       "2         1           I  or2       600\n",
       "3         2        H, F  or1       300\n",
       "4         2        D, C  or1       300\n",
       "5         2           L  or2       600\n",
       "6         3        C, D  or1       300\n",
       "7         3        F, H  or1       300\n",
       "8         3           I  or1       300\n",
       "9         3        H, F  or2       600\n",
       "10        4           L  or1       300\n",
       "11        4  B, E, A, G  or1       600\n",
       "12        4  E, A, G, B  or2       600\n",
       "13        5        F, H  or2       300\n",
       "14        5  A, B, E, G  or1       600\n",
       "15        5  G, B, E, A  or1       600"
      ]
     },
     "execution_count": 25,
     "metadata": {},
     "output_type": "execute_result"
    }
   ],
   "source": [
    "or_master_schedule = pd.read_csv(\"../data/master_schedule_input.csv\", sep = ';')\n",
    "or_master_schedule"
   ]
  },
  {
   "cell_type": "code",
   "execution_count": 26,
   "metadata": {},
   "outputs": [],
   "source": [
    "master_schedule  = Master(name = \"my master\", table=or_master_schedule)"
   ]
  },
  {
   "cell_type": "code",
   "execution_count": 27,
   "metadata": {},
   "outputs": [
    {
     "name": "stdout",
     "output_type": "stream",
     "text": [
      "Master 'my master' - 16 blocks on 5 days.\n"
     ]
    }
   ],
   "source": [
    "print(master_schedule)"
   ]
  },
  {
   "cell_type": "code",
   "execution_count": 28,
   "metadata": {},
   "outputs": [],
   "source": [
    "task.master_schedule = master_schedule"
   ]
  },
  {
   "cell_type": "code",
   "execution_count": 29,
   "metadata": {},
   "outputs": [
    {
     "name": "stdout",
     "output_type": "stream",
     "text": [
      "Master Block number 0\n",
      "                \n",
      "Equipe: ['C', 'D']\n",
      "                \n",
      "Duration: 300\n",
      "                \n",
      "Room: or1\n",
      "                \n",
      "Weekday: 1\n",
      "                \n",
      "Number in day: 1\n",
      "                \n",
      "----\n",
      "\n",
      "Master Block number 1\n",
      "                \n",
      "Equipe: ['D', 'C']\n",
      "                \n",
      "Duration: 300\n",
      "                \n",
      "Room: or1\n",
      "                \n",
      "Weekday: 1\n",
      "                \n",
      "Number in day: 2\n",
      "                \n",
      "----\n",
      "\n",
      "Master Block number 2\n",
      "                \n",
      "Equipe: ['I']\n",
      "                \n",
      "Duration: 600\n",
      "                \n",
      "Room: or2\n",
      "                \n",
      "Weekday: 1\n",
      "                \n",
      "Number in day: 3\n",
      "                \n",
      "----\n",
      "\n",
      "Master Block number 3\n",
      "                \n",
      "Equipe: ['H', 'F']\n",
      "                \n",
      "Duration: 300\n",
      "                \n",
      "Room: or1\n",
      "                \n",
      "Weekday: 2\n",
      "                \n",
      "Number in day: 1\n",
      "                \n",
      "----\n",
      "\n",
      "Master Block number 4\n",
      "                \n",
      "Equipe: ['D', 'C']\n",
      "                \n",
      "Duration: 300\n",
      "                \n",
      "Room: or1\n",
      "                \n",
      "Weekday: 2\n",
      "                \n",
      "Number in day: 2\n",
      "                \n",
      "----\n",
      "\n",
      "Master Block number 5\n",
      "                \n",
      "Equipe: ['L']\n",
      "                \n",
      "Duration: 600\n",
      "                \n",
      "Room: or2\n",
      "                \n",
      "Weekday: 2\n",
      "                \n",
      "Number in day: 3\n",
      "                \n",
      "----\n",
      "\n",
      "Master Block number 6\n",
      "                \n",
      "Equipe: ['C', 'D']\n",
      "                \n",
      "Duration: 300\n",
      "                \n",
      "Room: or1\n",
      "                \n",
      "Weekday: 3\n",
      "                \n",
      "Number in day: 1\n",
      "                \n",
      "----\n",
      "\n",
      "Master Block number 7\n",
      "                \n",
      "Equipe: ['F', 'H']\n",
      "                \n",
      "Duration: 300\n",
      "                \n",
      "Room: or1\n",
      "                \n",
      "Weekday: 3\n",
      "                \n",
      "Number in day: 2\n",
      "                \n",
      "----\n",
      "\n",
      "Master Block number 8\n",
      "                \n",
      "Equipe: ['I']\n",
      "                \n",
      "Duration: 300\n",
      "                \n",
      "Room: or1\n",
      "                \n",
      "Weekday: 3\n",
      "                \n",
      "Number in day: 3\n",
      "                \n",
      "----\n",
      "\n",
      "Master Block number 9\n",
      "                \n",
      "Equipe: ['H', 'F']\n",
      "                \n",
      "Duration: 600\n",
      "                \n",
      "Room: or2\n",
      "                \n",
      "Weekday: 3\n",
      "                \n",
      "Number in day: 4\n",
      "                \n",
      "----\n",
      "\n",
      "Master Block number 10\n",
      "                \n",
      "Equipe: ['L']\n",
      "                \n",
      "Duration: 300\n",
      "                \n",
      "Room: or1\n",
      "                \n",
      "Weekday: 4\n",
      "                \n",
      "Number in day: 1\n",
      "                \n",
      "----\n",
      "\n",
      "Master Block number 11\n",
      "                \n",
      "Equipe: ['B', 'E', 'A', 'G']\n",
      "                \n",
      "Duration: 600\n",
      "                \n",
      "Room: or1\n",
      "                \n",
      "Weekday: 4\n",
      "                \n",
      "Number in day: 2\n",
      "                \n",
      "----\n",
      "\n",
      "Master Block number 12\n",
      "                \n",
      "Equipe: ['E', 'A', 'G', 'B']\n",
      "                \n",
      "Duration: 600\n",
      "                \n",
      "Room: or2\n",
      "                \n",
      "Weekday: 4\n",
      "                \n",
      "Number in day: 3\n",
      "                \n",
      "----\n",
      "\n",
      "Master Block number 13\n",
      "                \n",
      "Equipe: ['F', 'H']\n",
      "                \n",
      "Duration: 300\n",
      "                \n",
      "Room: or2\n",
      "                \n",
      "Weekday: 5\n",
      "                \n",
      "Number in day: 1\n",
      "                \n",
      "----\n",
      "\n",
      "Master Block number 14\n",
      "                \n",
      "Equipe: ['A', 'B', 'E', 'G']\n",
      "                \n",
      "Duration: 600\n",
      "                \n",
      "Room: or1\n",
      "                \n",
      "Weekday: 5\n",
      "                \n",
      "Number in day: 2\n",
      "                \n",
      "----\n",
      "\n",
      "Master Block number 15\n",
      "                \n",
      "Equipe: ['G', 'B', 'E', 'A']\n",
      "                \n",
      "Duration: 600\n",
      "                \n",
      "Room: or1\n",
      "                \n",
      "Weekday: 5\n",
      "                \n",
      "Number in day: 3\n",
      "                \n",
      "----\n",
      "\n"
     ]
    }
   ],
   "source": [
    "for block in master_schedule.blocks:\n",
    "    print(block)\n",
    "    print('----\\n')\n",
    "    \n",
    "    "
   ]
  },
  {
   "cell_type": "markdown",
   "metadata": {},
   "source": [
    "## Soluzione del modello - Implementor Adversary"
   ]
  },
  {
   "cell_type": "code",
   "execution_count": 30,
   "metadata": {},
   "outputs": [],
   "source": [
    "implementor_adversary = ImplementorAdversary(task = task, implementor=StandardImplementor(), adversary=None, description = 'Test')\n",
    "\n"
   ]
  },
  {
   "cell_type": "code",
   "execution_count": 31,
   "metadata": {},
   "outputs": [
    {
     "data": {
      "text/plain": [
       "<surgeryschedulingunderuncertainty.task.Task at 0x3000743a0>"
      ]
     },
     "execution_count": 31,
     "metadata": {},
     "output_type": "execute_result"
    }
   ],
   "source": [
    "implementor_adversary._task\n",
    "\n"
   ]
  },
  {
   "cell_type": "code",
   "execution_count": 32,
   "metadata": {},
   "outputs": [],
   "source": [
    "implementor_adversary.create_instance()\n",
    "\n"
   ]
  },
  {
   "cell_type": "code",
   "execution_count": 33,
   "metadata": {},
   "outputs": [
    {
     "name": "stdout",
     "output_type": "stream",
     "text": [
      "implementor\n",
      "adversary\n"
     ]
    }
   ],
   "source": [
    "solution = implementor_adversary.run(10)"
   ]
  },
  {
   "cell_type": "code",
   "execution_count": null,
   "metadata": {},
   "outputs": [],
   "source": []
  },
  {
   "cell_type": "code",
   "execution_count": 34,
   "metadata": {},
   "outputs": [
    {
     "data": {
      "text/plain": [
       "{None: 50}"
      ]
     },
     "execution_count": 34,
     "metadata": {},
     "output_type": "execute_result"
    }
   ],
   "source": [
    "implementor_adversary._instance.get(None).get('n_pats')"
   ]
  },
  {
   "cell_type": "code",
   "execution_count": 35,
   "metadata": {},
   "outputs": [],
   "source": [
    "solution = implementor_adversary.run_implementor()\n"
   ]
  },
  {
   "cell_type": "code",
   "execution_count": 36,
   "metadata": {},
   "outputs": [
    {
     "name": "stdout",
     "output_type": "stream",
     "text": [
      "Patient id: 135 \n",
      " equipe: C \n",
      " urgency: 3 \n",
      " nominal duration: 84 \n",
      " days waiting: 88\n",
      "Patient id: 4233 \n",
      " equipe: C \n",
      " urgency: 4 \n",
      " nominal duration: 85 \n",
      " days waiting: 133\n",
      "Patient id: 4463 \n",
      " equipe: D \n",
      " urgency: 2 \n",
      " nominal duration: 52 \n",
      " days waiting: 56\n",
      "Patient id: 7064 \n",
      " equipe: D \n",
      " urgency: 3 \n",
      " nominal duration: 73 \n",
      " days waiting: 123\n"
     ]
    }
   ],
   "source": [
    "for pat in (solution._blocks[0].patients):\n",
    "    print(pat)"
   ]
  },
  {
   "cell_type": "markdown",
   "metadata": {},
   "source": [
    "solution._blocks[4].patients[0].uncertainty_profile.param_s"
   ]
  },
  {
   "cell_type": "code",
   "execution_count": 37,
   "metadata": {},
   "outputs": [
    {
     "data": {
      "text/plain": [
       "[<surgeryschedulingunderuncertainty.block.MasterBlock at 0x302ccf0a0>,\n",
       " <surgeryschedulingunderuncertainty.block.MasterBlock at 0x302ccf9a0>,\n",
       " <surgeryschedulingunderuncertainty.block.MasterBlock at 0x302ccfa30>,\n",
       " <surgeryschedulingunderuncertainty.block.MasterBlock at 0x302ccf640>,\n",
       " <surgeryschedulingunderuncertainty.block.MasterBlock at 0x302ccf880>,\n",
       " <surgeryschedulingunderuncertainty.block.MasterBlock at 0x302ccfac0>,\n",
       " <surgeryschedulingunderuncertainty.block.MasterBlock at 0x302ccfe20>,\n",
       " <surgeryschedulingunderuncertainty.block.MasterBlock at 0x302ccfe80>,\n",
       " <surgeryschedulingunderuncertainty.block.MasterBlock at 0x302ccfd90>,\n",
       " <surgeryschedulingunderuncertainty.block.MasterBlock at 0x302ccef80>,\n",
       " <surgeryschedulingunderuncertainty.block.MasterBlock at 0x302ccfc70>,\n",
       " <surgeryschedulingunderuncertainty.block.MasterBlock at 0x302ccf910>,\n",
       " <surgeryschedulingunderuncertainty.block.MasterBlock at 0x302ccffa0>,\n",
       " <surgeryschedulingunderuncertainty.block.MasterBlock at 0x302ccf130>,\n",
       " <surgeryschedulingunderuncertainty.block.MasterBlock at 0x302cce4a0>,\n",
       " <surgeryschedulingunderuncertainty.block.MasterBlock at 0x302cce380>]"
      ]
     },
     "execution_count": 37,
     "metadata": {},
     "output_type": "execute_result"
    }
   ],
   "source": [
    "task.master_schedule.blocks"
   ]
  },
  {
   "cell_type": "code",
   "execution_count": 38,
   "metadata": {},
   "outputs": [
    {
     "data": {
      "text/plain": [
       "[<surgeryschedulingunderuncertainty.patient.Patient at 0x302cce920>,\n",
       " <surgeryschedulingunderuncertainty.patient.Patient at 0x107174550>,\n",
       " <surgeryschedulingunderuncertainty.patient.Patient at 0x304db7070>,\n",
       " <surgeryschedulingunderuncertainty.patient.Patient at 0x304db6ef0>,\n",
       " <surgeryschedulingunderuncertainty.patient.Patient at 0x3085bed10>,\n",
       " <surgeryschedulingunderuncertainty.patient.Patient at 0x3085bd2a0>,\n",
       " <surgeryschedulingunderuncertainty.patient.Patient at 0x3085bdae0>,\n",
       " <surgeryschedulingunderuncertainty.patient.Patient at 0x302cced70>,\n",
       " <surgeryschedulingunderuncertainty.patient.Patient at 0x302ccdff0>,\n",
       " <surgeryschedulingunderuncertainty.patient.Patient at 0x302ccdae0>,\n",
       " <surgeryschedulingunderuncertainty.patient.Patient at 0x302ccdba0>,\n",
       " <surgeryschedulingunderuncertainty.patient.Patient at 0x306e0ad10>,\n",
       " <surgeryschedulingunderuncertainty.patient.Patient at 0x306e0a9b0>,\n",
       " <surgeryschedulingunderuncertainty.patient.Patient at 0x306e0af50>,\n",
       " <surgeryschedulingunderuncertainty.patient.Patient at 0x306e083a0>,\n",
       " <surgeryschedulingunderuncertainty.patient.Patient at 0x3085e90c0>,\n",
       " <surgeryschedulingunderuncertainty.patient.Patient at 0x3085ebc70>,\n",
       " <surgeryschedulingunderuncertainty.patient.Patient at 0x3085ebd00>,\n",
       " <surgeryschedulingunderuncertainty.patient.Patient at 0x3085e80a0>,\n",
       " <surgeryschedulingunderuncertainty.patient.Patient at 0x3085e8640>,\n",
       " <surgeryschedulingunderuncertainty.patient.Patient at 0x3085ea320>,\n",
       " <surgeryschedulingunderuncertainty.patient.Patient at 0x3085eba60>,\n",
       " <surgeryschedulingunderuncertainty.patient.Patient at 0x3085eb490>,\n",
       " <surgeryschedulingunderuncertainty.patient.Patient at 0x3085e8e50>,\n",
       " <surgeryschedulingunderuncertainty.patient.Patient at 0x3085ea980>,\n",
       " <surgeryschedulingunderuncertainty.patient.Patient at 0x3085eaf20>,\n",
       " <surgeryschedulingunderuncertainty.patient.Patient at 0x3085eae00>,\n",
       " <surgeryschedulingunderuncertainty.patient.Patient at 0x3085eb7f0>,\n",
       " <surgeryschedulingunderuncertainty.patient.Patient at 0x106ffdab0>,\n",
       " <surgeryschedulingunderuncertainty.patient.Patient at 0x3085e8a00>,\n",
       " <surgeryschedulingunderuncertainty.patient.Patient at 0x304db5810>,\n",
       " <surgeryschedulingunderuncertainty.patient.Patient at 0x304db6110>,\n",
       " <surgeryschedulingunderuncertainty.patient.Patient at 0x304db6c20>,\n",
       " <surgeryschedulingunderuncertainty.patient.Patient at 0x306e08400>,\n",
       " <surgeryschedulingunderuncertainty.patient.Patient at 0x306e0a710>,\n",
       " <surgeryschedulingunderuncertainty.patient.Patient at 0x306e085e0>,\n",
       " <surgeryschedulingunderuncertainty.patient.Patient at 0x306e08100>,\n",
       " <surgeryschedulingunderuncertainty.patient.Patient at 0x306e097b0>,\n",
       " <surgeryschedulingunderuncertainty.patient.Patient at 0x306e09cc0>,\n",
       " <surgeryschedulingunderuncertainty.patient.Patient at 0x306e0b970>,\n",
       " <surgeryschedulingunderuncertainty.patient.Patient at 0x304db52d0>,\n",
       " <surgeryschedulingunderuncertainty.patient.Patient at 0x304db4100>,\n",
       " <surgeryschedulingunderuncertainty.patient.Patient at 0x304db5510>,\n",
       " <surgeryschedulingunderuncertainty.patient.Patient at 0x304db4670>,\n",
       " <surgeryschedulingunderuncertainty.patient.Patient at 0x304db44f0>,\n",
       " <surgeryschedulingunderuncertainty.patient.Patient at 0x304db4610>,\n",
       " <surgeryschedulingunderuncertainty.patient.Patient at 0x304db6620>,\n",
       " <surgeryschedulingunderuncertainty.patient.Patient at 0x304db4dc0>,\n",
       " <surgeryschedulingunderuncertainty.patient.Patient at 0x3085bcbe0>,\n",
       " <surgeryschedulingunderuncertainty.patient.Patient at 0x3085bd210>]"
      ]
     },
     "execution_count": 38,
     "metadata": {},
     "output_type": "execute_result"
    }
   ],
   "source": [
    "task.patients"
   ]
  },
  {
   "cell_type": "code",
   "execution_count": 39,
   "metadata": {},
   "outputs": [
    {
     "data": {
      "text/plain": [
       "<surgeryschedulingunderuncertainty.uncertainty_profile.LogNormalDistribution at 0x106f4fb20>"
      ]
     },
     "execution_count": 39,
     "metadata": {},
     "output_type": "execute_result"
    }
   ],
   "source": [
    "task.patients[0].uncertainty_profile"
   ]
  },
  {
   "cell_type": "code",
   "execution_count": null,
   "metadata": {},
   "outputs": [],
   "source": []
  },
  {
   "cell_type": "markdown",
   "metadata": {},
   "source": [
    "## Creazione dell'ottimizzatore"
   ]
  },
  {
   "cell_type": "code",
   "execution_count": 40,
   "metadata": {},
   "outputs": [],
   "source": [
    "from surgeryschedulingunderuncertainty.optimizer import VanillaImplementor\n",
    "from surgeryschedulingunderuncertainty.implementor import ChanceConstraintsImplementor\n"
   ]
  },
  {
   "cell_type": "code",
   "execution_count": 41,
   "metadata": {},
   "outputs": [],
   "source": [
    "chance_constraints_model = VanillaImplementor(task = task, \n",
    "                                              implementor=ChanceConstraintsImplementor(task = task), \n",
    "                                              description = 'Test')\n",
    "\n"
   ]
  },
  {
   "cell_type": "code",
   "execution_count": 42,
   "metadata": {},
   "outputs": [],
   "source": [
    "chance_constraints_model = VanillaImplementor(task = task, \n",
    "                                              implementor=ChanceConstraintsImplementor(task = task), \n",
    "                                              description = 'Test')"
   ]
  },
  {
   "cell_type": "code",
   "execution_count": null,
   "metadata": {},
   "outputs": [],
   "source": []
  },
  {
   "cell_type": "code",
   "execution_count": 43,
   "metadata": {},
   "outputs": [],
   "source": [
    "from surgeryschedulingunderuncertainty.optimizer import VanillaImplementor\n",
    "from surgeryschedulingunderuncertainty.implementor import ChanceConstraintsImplementor, BSImplementor\n"
   ]
  },
  {
   "cell_type": "code",
   "execution_count": 44,
   "metadata": {},
   "outputs": [],
   "source": [
    "bs_model = VanillaImplementor(task = task, \n",
    "                              implementor=BSImplementor(task = task), \n",
    "                              description = 'Test')\n",
    "\n",
    "\n",
    "\n",
    "\n"
   ]
  },
  {
   "cell_type": "code",
   "execution_count": 45,
   "metadata": {},
   "outputs": [],
   "source": [
    "bs_model.create_instance()"
   ]
  },
  {
   "cell_type": "code",
   "execution_count": 46,
   "metadata": {},
   "outputs": [],
   "source": [
    "solution = bs_model.run_implementor()"
   ]
  },
  {
   "cell_type": "code",
   "execution_count": 66,
   "metadata": {},
   "outputs": [
    {
     "name": "stdout",
     "output_type": "stream",
     "text": [
      "281.8918165477524\n",
      "0.3252834201781905\n",
      "77.3606320257393\n",
      "0.4230817105615229\n",
      "105.34059089536085\n",
      "0.34880319344452676\n"
     ]
    }
   ],
   "source": [
    "for pat in (solution._blocks[2].patients):\n",
    "    print(pat.uncertainty_profile.nominal_value)\n",
    "    print(pat.uncertainty_profile.param_s)"
   ]
  },
  {
   "cell_type": "code",
   "execution_count": null,
   "metadata": {},
   "outputs": [],
   "source": []
  },
  {
   "cell_type": "code",
   "execution_count": 47,
   "metadata": {},
   "outputs": [
    {
     "data": {
      "text/plain": [
       "<surgeryschedulingunderuncertainty.task.Task at 0x3000743a0>"
      ]
     },
     "execution_count": 47,
     "metadata": {},
     "output_type": "execute_result"
    }
   ],
   "source": [
    "chance_constraints_model._task\n",
    "\n"
   ]
  },
  {
   "cell_type": "code",
   "execution_count": 48,
   "metadata": {},
   "outputs": [],
   "source": [
    "chance_constraints_model.create_instance()\n",
    "\n"
   ]
  },
  {
   "cell_type": "code",
   "execution_count": 49,
   "metadata": {},
   "outputs": [
    {
     "data": {
      "text/plain": [
       "{None: 50}"
      ]
     },
     "execution_count": 49,
     "metadata": {},
     "output_type": "execute_result"
    }
   ],
   "source": [
    "chance_constraints_model._instance.get(None).get('n_pats')"
   ]
  },
  {
   "cell_type": "code",
   "execution_count": 50,
   "metadata": {},
   "outputs": [],
   "source": [
    "solution = chance_constraints_model.run_implementor()\n"
   ]
  },
  {
   "cell_type": "code",
   "execution_count": 51,
   "metadata": {},
   "outputs": [
    {
     "data": {
      "text/plain": [
       "{1: 72.99123060695435,\n",
       " 2: 95.04288574480726,\n",
       " 3: 111.35005166844253,\n",
       " 4: 57.94566218788996,\n",
       " 5: 71.94658992067338,\n",
       " 6: 109.63547827722087,\n",
       " 7: 46.20284275007701,\n",
       " 8: 84.57415624194532,\n",
       " 9: 91.44072345935848,\n",
       " 10: 193.30409752760164,\n",
       " 11: 85.86124840592773,\n",
       " 12: 50.45001940886659,\n",
       " 13: 48.1794593609872,\n",
       " 14: 53.7330721723585,\n",
       " 15: 106.70157239770458,\n",
       " 16: 116.53137584012534,\n",
       " 17: 108.97248969764664,\n",
       " 18: 46.981531917908896,\n",
       " 19: 52.394620282148225,\n",
       " 20: 46.78742186897293,\n",
       " 21: 81.79132409579192,\n",
       " 22: 204.88574033198785,\n",
       " 23: 54.84126483271296,\n",
       " 24: 77.10443566368518,\n",
       " 25: 71.98020454488127,\n",
       " 26: 106.84704165378372,\n",
       " 27: 85.36206521417066,\n",
       " 28: 115.20261033656946,\n",
       " 29: 54.23100414463426,\n",
       " 30: 101.42651379274861,\n",
       " 31: 47.550319596841526,\n",
       " 32: 50.61509832396679,\n",
       " 33: 281.89213245344143,\n",
       " 34: 77.36257931810114,\n",
       " 35: 105.34156291871611,\n",
       " 36: 58.862971063025896,\n",
       " 37: 116.11297532913193,\n",
       " 38: 77.50763575048576,\n",
       " 39: 88.78849193631066,\n",
       " 40: 102.08371603409213,\n",
       " 41: 103.2098312017267,\n",
       " 42: 81.3943015263937,\n",
       " 43: 53.82652382345099,\n",
       " 44: 53.03000351382313,\n",
       " 45: 103.49494800357961,\n",
       " 46: 140.3444702499058,\n",
       " 47: 73.52032818507179,\n",
       " 48: 139.27015057990602,\n",
       " 49: 76.60932808613649,\n",
       " 50: 102.64934782254028}"
      ]
     },
     "execution_count": 51,
     "metadata": {},
     "output_type": "execute_result"
    }
   ],
   "source": [
    "chance_constraints_model._instance.get(None).get('f')"
   ]
  },
  {
   "cell_type": "code",
   "execution_count": 52,
   "metadata": {},
   "outputs": [
    {
     "name": "stdout",
     "output_type": "stream",
     "text": [
      "Patient id: 842 \n",
      " equipe: D \n",
      " urgency: 3 \n",
      " nominal duration: 48 \n",
      " days waiting: 65\n",
      "Patient id: 6089 \n",
      " equipe: D \n",
      " urgency: 1 \n",
      " nominal duration: 53 \n",
      " days waiting: 30\n",
      "Patient id: 5747 \n",
      " equipe: D \n",
      " urgency: 4 \n",
      " nominal duration: 46 \n",
      " days waiting: 186\n",
      "Patient id: 4570 \n",
      " equipe: D \n",
      " urgency: 4 \n",
      " nominal duration: 47 \n",
      " days waiting: 242\n",
      "Patient id: 696 \n",
      " equipe: D \n",
      " urgency: 4 \n",
      " nominal duration: 50 \n",
      " days waiting: 24\n"
     ]
    }
   ],
   "source": [
    "for pat in (solution._blocks[0].patients):\n",
    "    print(pat)"
   ]
  },
  {
   "cell_type": "code",
   "execution_count": 53,
   "metadata": {},
   "outputs": [
    {
     "data": {
      "text/plain": [
       "<surgeryschedulingunderuncertainty.uncertainty_profile.LogNormalDistribution at 0x302ccf5e0>"
      ]
     },
     "execution_count": 53,
     "metadata": {},
     "output_type": "execute_result"
    }
   ],
   "source": [
    "solution._blocks[0].patients[0].uncertainty_profile"
   ]
  },
  {
   "cell_type": "code",
   "execution_count": 54,
   "metadata": {},
   "outputs": [
    {
     "ename": "AttributeError",
     "evalue": "'Schedule' object has no attribute 'x'",
     "output_type": "error",
     "traceback": [
      "\u001b[0;31m---------------------------------------------------------------------------\u001b[0m",
      "\u001b[0;31mAttributeError\u001b[0m                            Traceback (most recent call last)",
      "Cell \u001b[0;32mIn[54], line 1\u001b[0m\n\u001b[0;32m----> 1\u001b[0m \u001b[43msolution\u001b[49m\u001b[38;5;241;43m.\u001b[39;49m\u001b[43mx\u001b[49m[\u001b[38;5;241m1\u001b[39m,\u001b[38;5;241m1\u001b[39m]()\n",
      "\u001b[0;31mAttributeError\u001b[0m: 'Schedule' object has no attribute 'x'"
     ]
    }
   ],
   "source": [
    "solution.x[1,1]()"
   ]
  },
  {
   "cell_type": "code",
   "execution_count": null,
   "metadata": {},
   "outputs": [],
   "source": [
    "task.master_schedule.blocks"
   ]
  },
  {
   "cell_type": "code",
   "execution_count": null,
   "metadata": {},
   "outputs": [],
   "source": [
    "task.patients"
   ]
  },
  {
   "cell_type": "code",
   "execution_count": null,
   "metadata": {},
   "outputs": [],
   "source": [
    "task.patients[0].uncertainty_profile"
   ]
  },
  {
   "cell_type": "code",
   "execution_count": null,
   "metadata": {},
   "outputs": [],
   "source": []
  },
  {
   "cell_type": "code",
   "execution_count": null,
   "metadata": {},
   "outputs": [],
   "source": []
  },
  {
   "cell_type": "code",
   "execution_count": null,
   "metadata": {},
   "outputs": [],
   "source": []
  }
 ],
 "metadata": {
  "kernelspec": {
   "display_name": "surgeryschedulingunderuncertainty-XOZq-E-P-py3.10",
   "language": "python",
   "name": "python3"
  },
  "language_info": {
   "codemirror_mode": {
    "name": "ipython",
    "version": 3
   },
   "file_extension": ".py",
   "mimetype": "text/x-python",
   "name": "python",
   "nbconvert_exporter": "python",
   "pygments_lexer": "ipython3",
   "version": "3.10.13"
  }
 },
 "nbformat": 4,
 "nbformat_minor": 2
}
