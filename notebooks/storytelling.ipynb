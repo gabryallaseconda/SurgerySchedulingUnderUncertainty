{
 "cells": [
  {
   "cell_type": "markdown",
   "metadata": {},
   "source": [
    "# Storytelling dei flussi"
   ]
  },
  {
   "cell_type": "code",
   "execution_count": 1,
   "metadata": {},
   "outputs": [
    {
     "name": "stderr",
     "output_type": "stream",
     "text": [
      "/var/folders/w_/kqymfxcs5d561j515w6_cfqh0000gn/T/ipykernel_88081/2504811429.py:1: DeprecationWarning: \n",
      "Pyarrow will become a required dependency of pandas in the next major release of pandas (pandas 3.0),\n",
      "(to allow more performant data types, such as the Arrow string type, and better interoperability with other libraries)\n",
      "but was not found to be installed on your system.\n",
      "If this would cause problems for you,\n",
      "please provide us feedback at https://github.com/pandas-dev/pandas/issues/54466\n",
      "        \n",
      "  import pandas as pd\n"
     ]
    }
   ],
   "source": [
    "import pandas as pd\n",
    "import numpy as np\n",
    "\n"
   ]
  },
  {
   "cell_type": "markdown",
   "metadata": {},
   "source": [
    "## Creazione del Task da dati storici"
   ]
  },
  {
   "cell_type": "code",
   "execution_count": 2,
   "metadata": {},
   "outputs": [],
   "source": [
    "from surgeryschedulingunderuncertainty.task import Task\n",
    "from surgeryschedulingunderuncertainty.patients_provider import PatientsFromHistoricalDataProvider\n",
    "from surgeryschedulingunderuncertainty.master import Master\n",
    "\n",
    "from surgeryschedulingunderuncertainty.implementor import StandardImplementor\n",
    "from surgeryschedulingunderuncertainty.optimizer import ImplementorAdversary"
   ]
  },
  {
   "cell_type": "code",
   "execution_count": 3,
   "metadata": {},
   "outputs": [],
   "source": [
    "# help(Task)"
   ]
  },
  {
   "cell_type": "code",
   "execution_count": 4,
   "metadata": {},
   "outputs": [],
   "source": [
    "# Instanziare un oggetto task\n",
    "\n",
    "task = Task(name = \"My first problem\",\n",
    "            num_of_weeks= 2,\n",
    "            num_of_patients= 300,\n",
    "            robustness_risk= 0.2,\n",
    "            robustness_overtime= 60, # TODO check robustness_overtime unit of measure\n",
    "            urgency_to_max_waiting_days= {0: 7, 1:30, 2:60, 3:180, 4:360}, \n",
    ")"
   ]
  },
  {
   "cell_type": "code",
   "execution_count": 5,
   "metadata": {},
   "outputs": [],
   "source": [
    "# Importare i dati e istanziare un oggetto patient provider\n",
    "\n",
    "historical_data_df = pd.read_csv(\"../data/historical_data.csv\")\n",
    "\n",
    "patient_provider = PatientsFromHistoricalDataProvider(\n",
    "                 historical_data= historical_data_df\n",
    "                 )"
   ]
  },
  {
   "cell_type": "code",
   "execution_count": 6,
   "metadata": {},
   "outputs": [
    {
     "data": {
      "text/plain": [
       "0       3\n",
       "1       1\n",
       "2       0\n",
       "3       3\n",
       "4       0\n",
       "       ..\n",
       "9155    1\n",
       "9156    4\n",
       "9157    1\n",
       "9158    1\n",
       "9159    4\n",
       "Name: urgency, Length: 9160, dtype: int64"
      ]
     },
     "execution_count": 6,
     "metadata": {},
     "output_type": "execute_result"
    }
   ],
   "source": [
    "historical_data_df.urgency"
   ]
  },
  {
   "cell_type": "code",
   "execution_count": 7,
   "metadata": {},
   "outputs": [
    {
     "name": "stdout",
     "output_type": "stream",
     "text": [
      "Patient id: 5298 \n",
      " equipe: G \n",
      " urgency: 4\n",
      "Patient id: 7481 \n",
      " equipe: C \n",
      " urgency: 3\n",
      "Patient id: 8714 \n",
      " equipe: B \n",
      " urgency: 3\n"
     ]
    }
   ],
   "source": [
    "# Campionatura di singoli pazienti\n",
    "patient = patient_provider.provide_patient()\n",
    "print(patient)\n",
    "\n",
    "# Campionatura di singoli pazienti\n",
    "patient = patient_provider.provide_patient(requested_equipe='C', requested_urgency=3)\n",
    "print(patient)\n",
    "\n",
    "# Campionatura di singoli pazienti\n",
    "patient = patient_provider.provide_patient(requested_equipe='B', requested_urgency=3)\n",
    "print(patient)"
   ]
  },
  {
   "cell_type": "code",
   "execution_count": 8,
   "metadata": {},
   "outputs": [],
   "source": [
    "# Inserire un insieme di pazienti in task\n",
    "task.patients = patient_provider.provide_patient_set(quantity=300)"
   ]
  },
  {
   "cell_type": "markdown",
   "metadata": {},
   "source": [
    "## Previsione del tempo operatorio"
   ]
  },
  {
   "cell_type": "code",
   "execution_count": 9,
   "metadata": {},
   "outputs": [],
   "source": [
    "from surgeryschedulingunderuncertainty.predictive_model import NGBLogNormal, NGBNormal"
   ]
  },
  {
   "cell_type": "code",
   "execution_count": 10,
   "metadata": {},
   "outputs": [],
   "source": [
    "patients, training = patient_provider.provide_sets(quantity=10, quantity_training=100)\n"
   ]
  },
  {
   "cell_type": "code",
   "execution_count": 11,
   "metadata": {},
   "outputs": [
    {
     "data": {
      "text/plain": [
       "[<surgeryschedulingunderuncertainty.patient.Patient at 0x107e704f0>,\n",
       " <surgeryschedulingunderuncertainty.patient.Patient at 0x13e7af6d0>,\n",
       " <surgeryschedulingunderuncertainty.patient.Patient at 0x13e7af940>,\n",
       " <surgeryschedulingunderuncertainty.patient.Patient at 0x13e7af310>,\n",
       " <surgeryschedulingunderuncertainty.patient.Patient at 0x107e70370>,\n",
       " <surgeryschedulingunderuncertainty.patient.Patient at 0x107e70220>,\n",
       " <surgeryschedulingunderuncertainty.patient.Patient at 0x13e7af970>,\n",
       " <surgeryschedulingunderuncertainty.patient.Patient at 0x13e7afcd0>,\n",
       " <surgeryschedulingunderuncertainty.patient.Patient at 0x13e7af490>,\n",
       " <surgeryschedulingunderuncertainty.patient.Patient at 0x13e7afac0>]"
      ]
     },
     "execution_count": 11,
     "metadata": {},
     "output_type": "execute_result"
    }
   ],
   "source": [
    "patients"
   ]
  },
  {
   "cell_type": "code",
   "execution_count": 12,
   "metadata": {},
   "outputs": [
    {
     "data": {
      "text/plain": [
       "array([3, 0, 0, ..., 0.0, 0.0, 0.0], dtype=object)"
      ]
     },
     "execution_count": 12,
     "metadata": {},
     "output_type": "execute_result"
    }
   ],
   "source": [
    "patients[0].features"
   ]
  },
  {
   "cell_type": "code",
   "execution_count": 13,
   "metadata": {},
   "outputs": [],
   "source": [
    "# instantiating the model, and training\n",
    "\n",
    "model = NGBNormal(description=\"test\", patients=training)"
   ]
  },
  {
   "cell_type": "code",
   "execution_count": 14,
   "metadata": {},
   "outputs": [],
   "source": [
    "patients_prediction = model.predict(patients)"
   ]
  },
  {
   "cell_type": "code",
   "execution_count": 15,
   "metadata": {},
   "outputs": [
    {
     "data": {
      "text/plain": [
       "128.74437012654414"
      ]
     },
     "execution_count": 15,
     "metadata": {},
     "output_type": "execute_result"
    }
   ],
   "source": [
    "patients_prediction[0].uncertainty_profile.param_loc"
   ]
  },
  {
   "cell_type": "code",
   "execution_count": 16,
   "metadata": {},
   "outputs": [
    {
     "data": {
      "text/plain": [
       "24.103471444246846"
      ]
     },
     "execution_count": 16,
     "metadata": {},
     "output_type": "execute_result"
    }
   ],
   "source": [
    "patients_prediction[0].uncertainty_profile.param_scale"
   ]
  },
  {
   "cell_type": "code",
   "execution_count": 17,
   "metadata": {},
   "outputs": [
    {
     "data": {
      "text/plain": [
       "array([122.19756244, 127.96037846, 131.90363054, 102.93238268,\n",
       "       115.85312874, 128.71733197, 118.32048576, 176.51521727,\n",
       "       123.16312098, 127.68478018])"
      ]
     },
     "execution_count": 17,
     "metadata": {},
     "output_type": "execute_result"
    }
   ],
   "source": [
    "patients_prediction[0].uncertainty_profile.sample(10)"
   ]
  },
  {
   "cell_type": "markdown",
   "metadata": {},
   "source": [
    "## Creazione del Task con pazienti completi"
   ]
  },
  {
   "cell_type": "code",
   "execution_count": 18,
   "metadata": {},
   "outputs": [],
   "source": [
    "patients, training = patient_provider.provide_sets(quantity=300, quantity_training=300)\n"
   ]
  },
  {
   "cell_type": "code",
   "execution_count": 19,
   "metadata": {},
   "outputs": [],
   "source": [
    "model = NGBLogNormal(description=\"test\", patients=training)\n",
    "\n",
    "patients = model.predict(patients)"
   ]
  },
  {
   "cell_type": "code",
   "execution_count": 20,
   "metadata": {},
   "outputs": [],
   "source": [
    "\n",
    "task = Task(name = \"My first problem\",\n",
    "            num_of_weeks= 2,\n",
    "            num_of_patients= 300,\n",
    "            robustness_risk= 0.2,\n",
    "            robustness_overtime= 0.9,\n",
    "            urgency_to_max_waiting_days= {0: 7, 1:30, 2:60, 3:180, 4:360}, \n",
    "            )\n",
    "\n",
    "task.patients = patients\n"
   ]
  },
  {
   "cell_type": "code",
   "execution_count": 21,
   "metadata": {},
   "outputs": [
    {
     "data": {
      "text/plain": [
       "7"
      ]
     },
     "execution_count": 21,
     "metadata": {},
     "output_type": "execute_result"
    }
   ],
   "source": [
    "patients = task.patients\n",
    "patients[1].max_waiting_days"
   ]
  },
  {
   "cell_type": "code",
   "execution_count": 22,
   "metadata": {},
   "outputs": [
    {
     "data": {
      "text/plain": [
       "3"
      ]
     },
     "execution_count": 22,
     "metadata": {},
     "output_type": "execute_result"
    }
   ],
   "source": [
    "patients[1].days_waiting"
   ]
  },
  {
   "cell_type": "code",
   "execution_count": 23,
   "metadata": {},
   "outputs": [
    {
     "name": "stdout",
     "output_type": "stream",
     "text": [
      "Patient id: 4111 \n",
      " equipe: L \n",
      " urgency: 0 \n",
      " nominal duration: 343.2773687697954\n"
     ]
    }
   ],
   "source": [
    "print(patients[0])"
   ]
  },
  {
   "cell_type": "markdown",
   "metadata": {},
   "source": [
    "## Creazione del task con il Master Scheduling"
   ]
  },
  {
   "cell_type": "code",
   "execution_count": 24,
   "metadata": {},
   "outputs": [
    {
     "data": {
      "text/html": [
       "<div>\n",
       "<style scoped>\n",
       "    .dataframe tbody tr th:only-of-type {\n",
       "        vertical-align: middle;\n",
       "    }\n",
       "\n",
       "    .dataframe tbody tr th {\n",
       "        vertical-align: top;\n",
       "    }\n",
       "\n",
       "    .dataframe thead th {\n",
       "        text-align: right;\n",
       "    }\n",
       "</style>\n",
       "<table border=\"1\" class=\"dataframe\">\n",
       "  <thead>\n",
       "    <tr style=\"text-align: right;\">\n",
       "      <th></th>\n",
       "      <th>weekday</th>\n",
       "      <th>equipes</th>\n",
       "      <th>room</th>\n",
       "      <th>duration</th>\n",
       "    </tr>\n",
       "  </thead>\n",
       "  <tbody>\n",
       "    <tr>\n",
       "      <th>0</th>\n",
       "      <td>1</td>\n",
       "      <td>C, D</td>\n",
       "      <td>or1</td>\n",
       "      <td>300</td>\n",
       "    </tr>\n",
       "    <tr>\n",
       "      <th>1</th>\n",
       "      <td>1</td>\n",
       "      <td>D, C</td>\n",
       "      <td>or1</td>\n",
       "      <td>300</td>\n",
       "    </tr>\n",
       "    <tr>\n",
       "      <th>2</th>\n",
       "      <td>1</td>\n",
       "      <td>I</td>\n",
       "      <td>or2</td>\n",
       "      <td>600</td>\n",
       "    </tr>\n",
       "    <tr>\n",
       "      <th>3</th>\n",
       "      <td>2</td>\n",
       "      <td>H, F</td>\n",
       "      <td>or1</td>\n",
       "      <td>300</td>\n",
       "    </tr>\n",
       "    <tr>\n",
       "      <th>4</th>\n",
       "      <td>2</td>\n",
       "      <td>D, C</td>\n",
       "      <td>or1</td>\n",
       "      <td>300</td>\n",
       "    </tr>\n",
       "    <tr>\n",
       "      <th>5</th>\n",
       "      <td>2</td>\n",
       "      <td>L</td>\n",
       "      <td>or2</td>\n",
       "      <td>600</td>\n",
       "    </tr>\n",
       "    <tr>\n",
       "      <th>6</th>\n",
       "      <td>3</td>\n",
       "      <td>C, D</td>\n",
       "      <td>or1</td>\n",
       "      <td>300</td>\n",
       "    </tr>\n",
       "    <tr>\n",
       "      <th>7</th>\n",
       "      <td>3</td>\n",
       "      <td>F, H</td>\n",
       "      <td>or1</td>\n",
       "      <td>300</td>\n",
       "    </tr>\n",
       "    <tr>\n",
       "      <th>8</th>\n",
       "      <td>3</td>\n",
       "      <td>I</td>\n",
       "      <td>or1</td>\n",
       "      <td>300</td>\n",
       "    </tr>\n",
       "    <tr>\n",
       "      <th>9</th>\n",
       "      <td>3</td>\n",
       "      <td>H, F</td>\n",
       "      <td>or2</td>\n",
       "      <td>600</td>\n",
       "    </tr>\n",
       "    <tr>\n",
       "      <th>10</th>\n",
       "      <td>4</td>\n",
       "      <td>L</td>\n",
       "      <td>or1</td>\n",
       "      <td>300</td>\n",
       "    </tr>\n",
       "    <tr>\n",
       "      <th>11</th>\n",
       "      <td>4</td>\n",
       "      <td>B, E, A, G</td>\n",
       "      <td>or1</td>\n",
       "      <td>600</td>\n",
       "    </tr>\n",
       "    <tr>\n",
       "      <th>12</th>\n",
       "      <td>4</td>\n",
       "      <td>E, A, G, B</td>\n",
       "      <td>or2</td>\n",
       "      <td>600</td>\n",
       "    </tr>\n",
       "    <tr>\n",
       "      <th>13</th>\n",
       "      <td>5</td>\n",
       "      <td>F, H</td>\n",
       "      <td>or2</td>\n",
       "      <td>300</td>\n",
       "    </tr>\n",
       "    <tr>\n",
       "      <th>14</th>\n",
       "      <td>5</td>\n",
       "      <td>A, B, E, G</td>\n",
       "      <td>or1</td>\n",
       "      <td>600</td>\n",
       "    </tr>\n",
       "    <tr>\n",
       "      <th>15</th>\n",
       "      <td>5</td>\n",
       "      <td>G, B, E, A</td>\n",
       "      <td>or1</td>\n",
       "      <td>600</td>\n",
       "    </tr>\n",
       "  </tbody>\n",
       "</table>\n",
       "</div>"
      ],
      "text/plain": [
       "    weekday     equipes room  duration\n",
       "0         1        C, D  or1       300\n",
       "1         1        D, C  or1       300\n",
       "2         1           I  or2       600\n",
       "3         2        H, F  or1       300\n",
       "4         2        D, C  or1       300\n",
       "5         2           L  or2       600\n",
       "6         3        C, D  or1       300\n",
       "7         3        F, H  or1       300\n",
       "8         3           I  or1       300\n",
       "9         3        H, F  or2       600\n",
       "10        4           L  or1       300\n",
       "11        4  B, E, A, G  or1       600\n",
       "12        4  E, A, G, B  or2       600\n",
       "13        5        F, H  or2       300\n",
       "14        5  A, B, E, G  or1       600\n",
       "15        5  G, B, E, A  or1       600"
      ]
     },
     "execution_count": 24,
     "metadata": {},
     "output_type": "execute_result"
    }
   ],
   "source": [
    "or_master_schedule = pd.read_csv(\"../data/master_schedule_input.csv\", sep = ';')\n",
    "or_master_schedule"
   ]
  },
  {
   "cell_type": "code",
   "execution_count": 25,
   "metadata": {},
   "outputs": [],
   "source": [
    "master_schedule  = Master(name = \"my master\", table=or_master_schedule)"
   ]
  },
  {
   "cell_type": "code",
   "execution_count": 26,
   "metadata": {},
   "outputs": [
    {
     "name": "stdout",
     "output_type": "stream",
     "text": [
      "Master 'my master' - 16 blocks on 5 days.\n"
     ]
    }
   ],
   "source": [
    "print(master_schedule)"
   ]
  },
  {
   "cell_type": "code",
   "execution_count": 27,
   "metadata": {},
   "outputs": [],
   "source": [
    "task.master_schedule = master_schedule"
   ]
  },
  {
   "cell_type": "code",
   "execution_count": 28,
   "metadata": {},
   "outputs": [
    {
     "name": "stdout",
     "output_type": "stream",
     "text": [
      "Master Block number 0\n",
      "                \n",
      "Equipe: ['C', 'D']\n",
      "                \n",
      "Duration: 300\n",
      "                \n",
      "Room: or1\n",
      "                \n",
      "Weekday: 1\n",
      "                \n",
      "Number in day: 1\n",
      "                \n",
      "----\n",
      "\n",
      "Master Block number 1\n",
      "                \n",
      "Equipe: ['D', 'C']\n",
      "                \n",
      "Duration: 300\n",
      "                \n",
      "Room: or1\n",
      "                \n",
      "Weekday: 1\n",
      "                \n",
      "Number in day: 2\n",
      "                \n",
      "----\n",
      "\n",
      "Master Block number 2\n",
      "                \n",
      "Equipe: ['I']\n",
      "                \n",
      "Duration: 600\n",
      "                \n",
      "Room: or2\n",
      "                \n",
      "Weekday: 1\n",
      "                \n",
      "Number in day: 3\n",
      "                \n",
      "----\n",
      "\n",
      "Master Block number 3\n",
      "                \n",
      "Equipe: ['H', 'F']\n",
      "                \n",
      "Duration: 300\n",
      "                \n",
      "Room: or1\n",
      "                \n",
      "Weekday: 2\n",
      "                \n",
      "Number in day: 1\n",
      "                \n",
      "----\n",
      "\n",
      "Master Block number 4\n",
      "                \n",
      "Equipe: ['D', 'C']\n",
      "                \n",
      "Duration: 300\n",
      "                \n",
      "Room: or1\n",
      "                \n",
      "Weekday: 2\n",
      "                \n",
      "Number in day: 2\n",
      "                \n",
      "----\n",
      "\n",
      "Master Block number 5\n",
      "                \n",
      "Equipe: ['L']\n",
      "                \n",
      "Duration: 600\n",
      "                \n",
      "Room: or2\n",
      "                \n",
      "Weekday: 2\n",
      "                \n",
      "Number in day: 3\n",
      "                \n",
      "----\n",
      "\n",
      "Master Block number 6\n",
      "                \n",
      "Equipe: ['C', 'D']\n",
      "                \n",
      "Duration: 300\n",
      "                \n",
      "Room: or1\n",
      "                \n",
      "Weekday: 3\n",
      "                \n",
      "Number in day: 1\n",
      "                \n",
      "----\n",
      "\n",
      "Master Block number 7\n",
      "                \n",
      "Equipe: ['F', 'H']\n",
      "                \n",
      "Duration: 300\n",
      "                \n",
      "Room: or1\n",
      "                \n",
      "Weekday: 3\n",
      "                \n",
      "Number in day: 2\n",
      "                \n",
      "----\n",
      "\n",
      "Master Block number 8\n",
      "                \n",
      "Equipe: ['I']\n",
      "                \n",
      "Duration: 300\n",
      "                \n",
      "Room: or1\n",
      "                \n",
      "Weekday: 3\n",
      "                \n",
      "Number in day: 3\n",
      "                \n",
      "----\n",
      "\n",
      "Master Block number 9\n",
      "                \n",
      "Equipe: ['H', 'F']\n",
      "                \n",
      "Duration: 600\n",
      "                \n",
      "Room: or2\n",
      "                \n",
      "Weekday: 3\n",
      "                \n",
      "Number in day: 4\n",
      "                \n",
      "----\n",
      "\n",
      "Master Block number 10\n",
      "                \n",
      "Equipe: ['L']\n",
      "                \n",
      "Duration: 300\n",
      "                \n",
      "Room: or1\n",
      "                \n",
      "Weekday: 4\n",
      "                \n",
      "Number in day: 1\n",
      "                \n",
      "----\n",
      "\n",
      "Master Block number 11\n",
      "                \n",
      "Equipe: ['B', 'E', 'A', 'G']\n",
      "                \n",
      "Duration: 600\n",
      "                \n",
      "Room: or1\n",
      "                \n",
      "Weekday: 4\n",
      "                \n",
      "Number in day: 2\n",
      "                \n",
      "----\n",
      "\n",
      "Master Block number 12\n",
      "                \n",
      "Equipe: ['E', 'A', 'G', 'B']\n",
      "                \n",
      "Duration: 600\n",
      "                \n",
      "Room: or2\n",
      "                \n",
      "Weekday: 4\n",
      "                \n",
      "Number in day: 3\n",
      "                \n",
      "----\n",
      "\n",
      "Master Block number 13\n",
      "                \n",
      "Equipe: ['F', 'H']\n",
      "                \n",
      "Duration: 300\n",
      "                \n",
      "Room: or2\n",
      "                \n",
      "Weekday: 5\n",
      "                \n",
      "Number in day: 1\n",
      "                \n",
      "----\n",
      "\n",
      "Master Block number 14\n",
      "                \n",
      "Equipe: ['A', 'B', 'E', 'G']\n",
      "                \n",
      "Duration: 600\n",
      "                \n",
      "Room: or1\n",
      "                \n",
      "Weekday: 5\n",
      "                \n",
      "Number in day: 2\n",
      "                \n",
      "----\n",
      "\n",
      "Master Block number 15\n",
      "                \n",
      "Equipe: ['G', 'B', 'E', 'A']\n",
      "                \n",
      "Duration: 600\n",
      "                \n",
      "Room: or1\n",
      "                \n",
      "Weekday: 5\n",
      "                \n",
      "Number in day: 3\n",
      "                \n",
      "----\n",
      "\n"
     ]
    }
   ],
   "source": [
    "for block in master_schedule.blocks:\n",
    "    print(block)\n",
    "    print('----\\n')\n",
    "    \n",
    "    "
   ]
  },
  {
   "cell_type": "markdown",
   "metadata": {},
   "source": [
    "## Creazione dell'ottimizzatore"
   ]
  },
  {
   "cell_type": "code",
   "execution_count": 29,
   "metadata": {},
   "outputs": [],
   "source": [
    "implementor_adversary = ImplementorAdversary(task = task, implementor=StandardImplementor(), adversary=None, description = 'Test')\n",
    "\n"
   ]
  },
  {
   "cell_type": "code",
   "execution_count": 30,
   "metadata": {},
   "outputs": [
    {
     "data": {
      "text/plain": [
       "<surgeryschedulingunderuncertainty.task.Task at 0x302909390>"
      ]
     },
     "execution_count": 30,
     "metadata": {},
     "output_type": "execute_result"
    }
   ],
   "source": [
    "implementor_adversary._task\n",
    "\n"
   ]
  },
  {
   "cell_type": "code",
   "execution_count": 31,
   "metadata": {},
   "outputs": [],
   "source": [
    "implementor_adversary.create_instance()\n",
    "\n"
   ]
  },
  {
   "cell_type": "code",
   "execution_count": 32,
   "metadata": {},
   "outputs": [
    {
     "data": {
      "text/plain": [
       "{None: 300}"
      ]
     },
     "execution_count": 32,
     "metadata": {},
     "output_type": "execute_result"
    }
   ],
   "source": [
    "implementor_adversary._instance.get(None).get('n_pats')"
   ]
  },
  {
   "cell_type": "code",
   "execution_count": 33,
   "metadata": {},
   "outputs": [],
   "source": [
    "hello = implementor_adversary.run_implementor()\n"
   ]
  },
  {
   "cell_type": "code",
   "execution_count": null,
   "metadata": {},
   "outputs": [],
   "source": [
    "for pat in (hello._blocks[10].patients):\n",
    "    print(pat)"
   ]
  },
  {
   "cell_type": "code",
   "execution_count": null,
   "metadata": {},
   "outputs": [
    {
     "data": {
      "text/plain": [
       "0.2963662971803107"
      ]
     },
     "execution_count": 35,
     "metadata": {},
     "output_type": "execute_result"
    }
   ],
   "source": [
    "hello._blocks[4].patients[0].uncertainty_profile.param_s"
   ]
  },
  {
   "cell_type": "code",
   "execution_count": null,
   "metadata": {},
   "outputs": [
    {
     "data": {
      "text/plain": [
       "[<surgeryschedulingunderuncertainty.block.MasterBlock at 0x1720c7f40>,\n",
       " <surgeryschedulingunderuncertainty.block.MasterBlock at 0x1720c7fd0>,\n",
       " <surgeryschedulingunderuncertainty.block.MasterBlock at 0x176ea2aa0>,\n",
       " <surgeryschedulingunderuncertainty.block.MasterBlock at 0x1720c7f70>,\n",
       " <surgeryschedulingunderuncertainty.block.MasterBlock at 0x176ea25f0>,\n",
       " <surgeryschedulingunderuncertainty.block.MasterBlock at 0x176ea2da0>,\n",
       " <surgeryschedulingunderuncertainty.block.MasterBlock at 0x176ea3400>,\n",
       " <surgeryschedulingunderuncertainty.block.MasterBlock at 0x176ea1480>,\n",
       " <surgeryschedulingunderuncertainty.block.MasterBlock at 0x176ea36a0>,\n",
       " <surgeryschedulingunderuncertainty.block.MasterBlock at 0x176ea1ba0>,\n",
       " <surgeryschedulingunderuncertainty.block.MasterBlock at 0x1720c7970>,\n",
       " <surgeryschedulingunderuncertainty.block.MasterBlock at 0x1720c7d60>,\n",
       " <surgeryschedulingunderuncertainty.block.MasterBlock at 0x1720c7f10>,\n",
       " <surgeryschedulingunderuncertainty.block.MasterBlock at 0x30240a4d0>,\n",
       " <surgeryschedulingunderuncertainty.block.MasterBlock at 0x1720c7bb0>,\n",
       " <surgeryschedulingunderuncertainty.block.MasterBlock at 0x176ea2530>]"
      ]
     },
     "execution_count": 36,
     "metadata": {},
     "output_type": "execute_result"
    }
   ],
   "source": [
    "task.master_schedule.blocks"
   ]
  },
  {
   "cell_type": "code",
   "execution_count": null,
   "metadata": {},
   "outputs": [
    {
     "data": {
      "text/plain": [
       "[<surgeryschedulingunderuncertainty.patient.Patient at 0x30248f640>,\n",
       " <surgeryschedulingunderuncertainty.patient.Patient at 0x174db64a0>,\n",
       " <surgeryschedulingunderuncertainty.patient.Patient at 0x176ea2c20>,\n",
       " <surgeryschedulingunderuncertainty.patient.Patient at 0x174db61d0>,\n",
       " <surgeryschedulingunderuncertainty.patient.Patient at 0x176ea2b90>,\n",
       " <surgeryschedulingunderuncertainty.patient.Patient at 0x174db5420>,\n",
       " <surgeryschedulingunderuncertainty.patient.Patient at 0x174db51e0>,\n",
       " <surgeryschedulingunderuncertainty.patient.Patient at 0x174db4100>,\n",
       " <surgeryschedulingunderuncertainty.patient.Patient at 0x10854af20>,\n",
       " <surgeryschedulingunderuncertainty.patient.Patient at 0x174db6d70>,\n",
       " <surgeryschedulingunderuncertainty.patient.Patient at 0x174db4ac0>,\n",
       " <surgeryschedulingunderuncertainty.patient.Patient at 0x176ea2cb0>,\n",
       " <surgeryschedulingunderuncertainty.patient.Patient at 0x176ea1c60>,\n",
       " <surgeryschedulingunderuncertainty.patient.Patient at 0x176ea2680>,\n",
       " <surgeryschedulingunderuncertainty.patient.Patient at 0x176ea06a0>,\n",
       " <surgeryschedulingunderuncertainty.patient.Patient at 0x176ea2830>,\n",
       " <surgeryschedulingunderuncertainty.patient.Patient at 0x176ea24d0>,\n",
       " <surgeryschedulingunderuncertainty.patient.Patient at 0x30248e500>,\n",
       " <surgeryschedulingunderuncertainty.patient.Patient at 0x30248f670>,\n",
       " <surgeryschedulingunderuncertainty.patient.Patient at 0x30248e860>,\n",
       " <surgeryschedulingunderuncertainty.patient.Patient at 0x30248fe80>,\n",
       " <surgeryschedulingunderuncertainty.patient.Patient at 0x30248d480>,\n",
       " <surgeryschedulingunderuncertainty.patient.Patient at 0x171f0bb50>,\n",
       " <surgeryschedulingunderuncertainty.patient.Patient at 0x171f0bb80>,\n",
       " <surgeryschedulingunderuncertainty.patient.Patient at 0x171f0b340>,\n",
       " <surgeryschedulingunderuncertainty.patient.Patient at 0x171f0bb20>,\n",
       " <surgeryschedulingunderuncertainty.patient.Patient at 0x171f0a290>,\n",
       " <surgeryschedulingunderuncertainty.patient.Patient at 0x171f0af80>,\n",
       " <surgeryschedulingunderuncertainty.patient.Patient at 0x30248da80>,\n",
       " <surgeryschedulingunderuncertainty.patient.Patient at 0x30248eda0>,\n",
       " <surgeryschedulingunderuncertainty.patient.Patient at 0x30248fa90>,\n",
       " <surgeryschedulingunderuncertainty.patient.Patient at 0x30248c250>,\n",
       " <surgeryschedulingunderuncertainty.patient.Patient at 0x30248ee90>,\n",
       " <surgeryschedulingunderuncertainty.patient.Patient at 0x300f767a0>,\n",
       " <surgeryschedulingunderuncertainty.patient.Patient at 0x30248c340>,\n",
       " <surgeryschedulingunderuncertainty.patient.Patient at 0x30248ce80>,\n",
       " <surgeryschedulingunderuncertainty.patient.Patient at 0x30248e4d0>,\n",
       " <surgeryschedulingunderuncertainty.patient.Patient at 0x30248d690>,\n",
       " <surgeryschedulingunderuncertainty.patient.Patient at 0x300f764a0>,\n",
       " <surgeryschedulingunderuncertainty.patient.Patient at 0x300f761d0>,\n",
       " <surgeryschedulingunderuncertainty.patient.Patient at 0x300f76410>,\n",
       " <surgeryschedulingunderuncertainty.patient.Patient at 0x300f76830>,\n",
       " <surgeryschedulingunderuncertainty.patient.Patient at 0x300f77070>,\n",
       " <surgeryschedulingunderuncertainty.patient.Patient at 0x300f76380>,\n",
       " <surgeryschedulingunderuncertainty.patient.Patient at 0x30248fee0>,\n",
       " <surgeryschedulingunderuncertainty.patient.Patient at 0x30248f760>,\n",
       " <surgeryschedulingunderuncertainty.patient.Patient at 0x30248dd20>,\n",
       " <surgeryschedulingunderuncertainty.patient.Patient at 0x302409e40>,\n",
       " <surgeryschedulingunderuncertainty.patient.Patient at 0x30248dbd0>,\n",
       " <surgeryschedulingunderuncertainty.patient.Patient at 0x302408130>,\n",
       " <surgeryschedulingunderuncertainty.patient.Patient at 0x302408910>,\n",
       " <surgeryschedulingunderuncertainty.patient.Patient at 0x30240a350>,\n",
       " <surgeryschedulingunderuncertainty.patient.Patient at 0x302409570>,\n",
       " <surgeryschedulingunderuncertainty.patient.Patient at 0x30248eec0>,\n",
       " <surgeryschedulingunderuncertainty.patient.Patient at 0x30248f730>,\n",
       " <surgeryschedulingunderuncertainty.patient.Patient at 0x30248dc60>,\n",
       " <surgeryschedulingunderuncertainty.patient.Patient at 0x30248de40>,\n",
       " <surgeryschedulingunderuncertainty.patient.Patient at 0x3024333d0>,\n",
       " <surgeryschedulingunderuncertainty.patient.Patient at 0x302431f60>,\n",
       " <surgeryschedulingunderuncertainty.patient.Patient at 0x302433e50>,\n",
       " <surgeryschedulingunderuncertainty.patient.Patient at 0x3024330a0>,\n",
       " <surgeryschedulingunderuncertainty.patient.Patient at 0x302433a30>,\n",
       " <surgeryschedulingunderuncertainty.patient.Patient at 0x3024303a0>,\n",
       " <surgeryschedulingunderuncertainty.patient.Patient at 0x302430e20>,\n",
       " <surgeryschedulingunderuncertainty.patient.Patient at 0x3024305b0>,\n",
       " <surgeryschedulingunderuncertainty.patient.Patient at 0x302431330>,\n",
       " <surgeryschedulingunderuncertainty.patient.Patient at 0x302432140>,\n",
       " <surgeryschedulingunderuncertainty.patient.Patient at 0x3024336a0>,\n",
       " <surgeryschedulingunderuncertainty.patient.Patient at 0x302433bb0>,\n",
       " <surgeryschedulingunderuncertainty.patient.Patient at 0x1720c6950>,\n",
       " <surgeryschedulingunderuncertainty.patient.Patient at 0x3024314b0>,\n",
       " <surgeryschedulingunderuncertainty.patient.Patient at 0x1720c4760>,\n",
       " <surgeryschedulingunderuncertainty.patient.Patient at 0x1720c7130>,\n",
       " <surgeryschedulingunderuncertainty.patient.Patient at 0x1720c5ba0>,\n",
       " <surgeryschedulingunderuncertainty.patient.Patient at 0x1720c7d00>,\n",
       " <surgeryschedulingunderuncertainty.patient.Patient at 0x302430760>,\n",
       " <surgeryschedulingunderuncertainty.patient.Patient at 0x302432410>,\n",
       " <surgeryschedulingunderuncertainty.patient.Patient at 0x302430b50>,\n",
       " <surgeryschedulingunderuncertainty.patient.Patient at 0x302431d80>,\n",
       " <surgeryschedulingunderuncertainty.patient.Patient at 0x3024b4940>,\n",
       " <surgeryschedulingunderuncertainty.patient.Patient at 0x3024b4f70>,\n",
       " <surgeryschedulingunderuncertainty.patient.Patient at 0x3024b5090>,\n",
       " <surgeryschedulingunderuncertainty.patient.Patient at 0x3024b4820>,\n",
       " <surgeryschedulingunderuncertainty.patient.Patient at 0x3024b4c10>,\n",
       " <surgeryschedulingunderuncertainty.patient.Patient at 0x3024b4730>,\n",
       " <surgeryschedulingunderuncertainty.patient.Patient at 0x3024b4160>,\n",
       " <surgeryschedulingunderuncertainty.patient.Patient at 0x3024b48e0>,\n",
       " <surgeryschedulingunderuncertainty.patient.Patient at 0x3024b4af0>,\n",
       " <surgeryschedulingunderuncertainty.patient.Patient at 0x3024b5b40>,\n",
       " <surgeryschedulingunderuncertainty.patient.Patient at 0x3024b5000>,\n",
       " <surgeryschedulingunderuncertainty.patient.Patient at 0x3024b57e0>,\n",
       " <surgeryschedulingunderuncertainty.patient.Patient at 0x3024b5ae0>,\n",
       " <surgeryschedulingunderuncertainty.patient.Patient at 0x3024b5300>,\n",
       " <surgeryschedulingunderuncertainty.patient.Patient at 0x3024b4e20>,\n",
       " <surgeryschedulingunderuncertainty.patient.Patient at 0x3024b4d60>,\n",
       " <surgeryschedulingunderuncertainty.patient.Patient at 0x3024b4ca0>,\n",
       " <surgeryschedulingunderuncertainty.patient.Patient at 0x3024b5060>,\n",
       " <surgeryschedulingunderuncertainty.patient.Patient at 0x3024b5570>,\n",
       " <surgeryschedulingunderuncertainty.patient.Patient at 0x3024b4d90>,\n",
       " <surgeryschedulingunderuncertainty.patient.Patient at 0x3024b4d30>,\n",
       " <surgeryschedulingunderuncertainty.patient.Patient at 0x3024b50f0>,\n",
       " <surgeryschedulingunderuncertainty.patient.Patient at 0x3024b4130>,\n",
       " <surgeryschedulingunderuncertainty.patient.Patient at 0x3024b4d00>,\n",
       " <surgeryschedulingunderuncertainty.patient.Patient at 0x3024b58a0>,\n",
       " <surgeryschedulingunderuncertainty.patient.Patient at 0x3024b44f0>,\n",
       " <surgeryschedulingunderuncertainty.patient.Patient at 0x3024b4580>,\n",
       " <surgeryschedulingunderuncertainty.patient.Patient at 0x3024b4100>,\n",
       " <surgeryschedulingunderuncertainty.patient.Patient at 0x3024b4bb0>,\n",
       " <surgeryschedulingunderuncertainty.patient.Patient at 0x3024b60b0>,\n",
       " <surgeryschedulingunderuncertainty.patient.Patient at 0x3024b4700>,\n",
       " <surgeryschedulingunderuncertainty.patient.Patient at 0x3024b43a0>,\n",
       " <surgeryschedulingunderuncertainty.patient.Patient at 0x3024b5450>,\n",
       " <surgeryschedulingunderuncertainty.patient.Patient at 0x3024b51b0>,\n",
       " <surgeryschedulingunderuncertainty.patient.Patient at 0x3024b5f30>,\n",
       " <surgeryschedulingunderuncertainty.patient.Patient at 0x3024b5ea0>,\n",
       " <surgeryschedulingunderuncertainty.patient.Patient at 0x3024b49a0>,\n",
       " <surgeryschedulingunderuncertainty.patient.Patient at 0x3024b45e0>,\n",
       " <surgeryschedulingunderuncertainty.patient.Patient at 0x3024b41c0>,\n",
       " <surgeryschedulingunderuncertainty.patient.Patient at 0x3024b4280>,\n",
       " <surgeryschedulingunderuncertainty.patient.Patient at 0x3024b5360>,\n",
       " <surgeryschedulingunderuncertainty.patient.Patient at 0x3024b6170>,\n",
       " <surgeryschedulingunderuncertainty.patient.Patient at 0x3024b6200>,\n",
       " <surgeryschedulingunderuncertainty.patient.Patient at 0x3024b6290>,\n",
       " <surgeryschedulingunderuncertainty.patient.Patient at 0x3024b6320>,\n",
       " <surgeryschedulingunderuncertainty.patient.Patient at 0x3024b63b0>,\n",
       " <surgeryschedulingunderuncertainty.patient.Patient at 0x3024b6440>,\n",
       " <surgeryschedulingunderuncertainty.patient.Patient at 0x3024b64d0>,\n",
       " <surgeryschedulingunderuncertainty.patient.Patient at 0x3024b6560>,\n",
       " <surgeryschedulingunderuncertainty.patient.Patient at 0x3024b65f0>,\n",
       " <surgeryschedulingunderuncertainty.patient.Patient at 0x3024b6680>,\n",
       " <surgeryschedulingunderuncertainty.patient.Patient at 0x3024b6710>,\n",
       " <surgeryschedulingunderuncertainty.patient.Patient at 0x3024b67a0>,\n",
       " <surgeryschedulingunderuncertainty.patient.Patient at 0x3024b6830>,\n",
       " <surgeryschedulingunderuncertainty.patient.Patient at 0x3024b68c0>,\n",
       " <surgeryschedulingunderuncertainty.patient.Patient at 0x3024b6950>,\n",
       " <surgeryschedulingunderuncertainty.patient.Patient at 0x3024b69e0>,\n",
       " <surgeryschedulingunderuncertainty.patient.Patient at 0x3024b6a70>,\n",
       " <surgeryschedulingunderuncertainty.patient.Patient at 0x3024b6b00>,\n",
       " <surgeryschedulingunderuncertainty.patient.Patient at 0x3024b6b90>,\n",
       " <surgeryschedulingunderuncertainty.patient.Patient at 0x3024b6c20>,\n",
       " <surgeryschedulingunderuncertainty.patient.Patient at 0x3024b6cb0>,\n",
       " <surgeryschedulingunderuncertainty.patient.Patient at 0x3024b6d40>,\n",
       " <surgeryschedulingunderuncertainty.patient.Patient at 0x3024b6dd0>,\n",
       " <surgeryschedulingunderuncertainty.patient.Patient at 0x3024b6e60>,\n",
       " <surgeryschedulingunderuncertainty.patient.Patient at 0x3024b6ef0>,\n",
       " <surgeryschedulingunderuncertainty.patient.Patient at 0x3024b6f80>,\n",
       " <surgeryschedulingunderuncertainty.patient.Patient at 0x3024b7010>,\n",
       " <surgeryschedulingunderuncertainty.patient.Patient at 0x3024b70a0>,\n",
       " <surgeryschedulingunderuncertainty.patient.Patient at 0x3024b7130>,\n",
       " <surgeryschedulingunderuncertainty.patient.Patient at 0x3024b71c0>,\n",
       " <surgeryschedulingunderuncertainty.patient.Patient at 0x3024b7250>,\n",
       " <surgeryschedulingunderuncertainty.patient.Patient at 0x3024b72e0>,\n",
       " <surgeryschedulingunderuncertainty.patient.Patient at 0x3024b7370>,\n",
       " <surgeryschedulingunderuncertainty.patient.Patient at 0x3024b7400>,\n",
       " <surgeryschedulingunderuncertainty.patient.Patient at 0x3024b7490>,\n",
       " <surgeryschedulingunderuncertainty.patient.Patient at 0x3024b7520>,\n",
       " <surgeryschedulingunderuncertainty.patient.Patient at 0x3024b75b0>,\n",
       " <surgeryschedulingunderuncertainty.patient.Patient at 0x3024b7640>,\n",
       " <surgeryschedulingunderuncertainty.patient.Patient at 0x3024b76d0>,\n",
       " <surgeryschedulingunderuncertainty.patient.Patient at 0x3024b7760>,\n",
       " <surgeryschedulingunderuncertainty.patient.Patient at 0x3024b77f0>,\n",
       " <surgeryschedulingunderuncertainty.patient.Patient at 0x3024b7880>,\n",
       " <surgeryschedulingunderuncertainty.patient.Patient at 0x3024b7910>,\n",
       " <surgeryschedulingunderuncertainty.patient.Patient at 0x3024b79a0>,\n",
       " <surgeryschedulingunderuncertainty.patient.Patient at 0x3024b7a30>,\n",
       " <surgeryschedulingunderuncertainty.patient.Patient at 0x3024b7ac0>,\n",
       " <surgeryschedulingunderuncertainty.patient.Patient at 0x3024b7b50>,\n",
       " <surgeryschedulingunderuncertainty.patient.Patient at 0x3024b7be0>,\n",
       " <surgeryschedulingunderuncertainty.patient.Patient at 0x3024b7c70>,\n",
       " <surgeryschedulingunderuncertainty.patient.Patient at 0x3024b7d00>,\n",
       " <surgeryschedulingunderuncertainty.patient.Patient at 0x3024b7d90>,\n",
       " <surgeryschedulingunderuncertainty.patient.Patient at 0x3024b7e20>,\n",
       " <surgeryschedulingunderuncertainty.patient.Patient at 0x3024b7eb0>,\n",
       " <surgeryschedulingunderuncertainty.patient.Patient at 0x3024b7f40>,\n",
       " <surgeryschedulingunderuncertainty.patient.Patient at 0x3024b7df0>,\n",
       " <surgeryschedulingunderuncertainty.patient.Patient at 0x3024b7dc0>,\n",
       " <surgeryschedulingunderuncertainty.patient.Patient at 0x3024b79d0>,\n",
       " <surgeryschedulingunderuncertainty.patient.Patient at 0x3024b7af0>,\n",
       " <surgeryschedulingunderuncertainty.patient.Patient at 0x3024b7b80>,\n",
       " <surgeryschedulingunderuncertainty.patient.Patient at 0x3024b7fa0>,\n",
       " <surgeryschedulingunderuncertainty.patient.Patient at 0x3024b7e80>,\n",
       " <surgeryschedulingunderuncertainty.patient.Patient at 0x3024b7f70>,\n",
       " <surgeryschedulingunderuncertainty.patient.Patient at 0x3024b7a60>,\n",
       " <surgeryschedulingunderuncertainty.patient.Patient at 0x3024b7940>,\n",
       " <surgeryschedulingunderuncertainty.patient.Patient at 0x3024b7f10>,\n",
       " <surgeryschedulingunderuncertainty.patient.Patient at 0x3024b7ee0>,\n",
       " <surgeryschedulingunderuncertainty.patient.Patient at 0x3024b7d30>,\n",
       " <surgeryschedulingunderuncertainty.patient.Patient at 0x3024b7ca0>,\n",
       " <surgeryschedulingunderuncertainty.patient.Patient at 0x305758340>,\n",
       " <surgeryschedulingunderuncertainty.patient.Patient at 0x305758850>,\n",
       " <surgeryschedulingunderuncertainty.patient.Patient at 0x305758910>,\n",
       " <surgeryschedulingunderuncertainty.patient.Patient at 0x3057589a0>,\n",
       " <surgeryschedulingunderuncertainty.patient.Patient at 0x305758a30>,\n",
       " <surgeryschedulingunderuncertainty.patient.Patient at 0x305758ac0>,\n",
       " <surgeryschedulingunderuncertainty.patient.Patient at 0x305758b50>,\n",
       " <surgeryschedulingunderuncertainty.patient.Patient at 0x305758be0>,\n",
       " <surgeryschedulingunderuncertainty.patient.Patient at 0x305758c70>,\n",
       " <surgeryschedulingunderuncertainty.patient.Patient at 0x305758d00>,\n",
       " <surgeryschedulingunderuncertainty.patient.Patient at 0x305758d90>,\n",
       " <surgeryschedulingunderuncertainty.patient.Patient at 0x305758e20>,\n",
       " <surgeryschedulingunderuncertainty.patient.Patient at 0x305758eb0>,\n",
       " <surgeryschedulingunderuncertainty.patient.Patient at 0x305758f40>,\n",
       " <surgeryschedulingunderuncertainty.patient.Patient at 0x305758fd0>,\n",
       " <surgeryschedulingunderuncertainty.patient.Patient at 0x305759060>,\n",
       " <surgeryschedulingunderuncertainty.patient.Patient at 0x3057590f0>,\n",
       " <surgeryschedulingunderuncertainty.patient.Patient at 0x305759180>,\n",
       " <surgeryschedulingunderuncertainty.patient.Patient at 0x305759210>,\n",
       " <surgeryschedulingunderuncertainty.patient.Patient at 0x3057592a0>,\n",
       " <surgeryschedulingunderuncertainty.patient.Patient at 0x305759330>,\n",
       " <surgeryschedulingunderuncertainty.patient.Patient at 0x176ea3940>,\n",
       " <surgeryschedulingunderuncertainty.patient.Patient at 0x176ea2080>,\n",
       " <surgeryschedulingunderuncertainty.patient.Patient at 0x176ea11e0>,\n",
       " <surgeryschedulingunderuncertainty.patient.Patient at 0x176ea0700>,\n",
       " <surgeryschedulingunderuncertainty.patient.Patient at 0x176ea1780>,\n",
       " <surgeryschedulingunderuncertainty.patient.Patient at 0x176ea01f0>,\n",
       " <surgeryschedulingunderuncertainty.patient.Patient at 0x176ea1fc0>,\n",
       " <surgeryschedulingunderuncertainty.patient.Patient at 0x176ea0ee0>,\n",
       " <surgeryschedulingunderuncertainty.patient.Patient at 0x176ea2620>,\n",
       " <surgeryschedulingunderuncertainty.patient.Patient at 0x176ea0130>,\n",
       " <surgeryschedulingunderuncertainty.patient.Patient at 0x302432f20>,\n",
       " <surgeryschedulingunderuncertainty.patient.Patient at 0x3024339d0>,\n",
       " <surgeryschedulingunderuncertainty.patient.Patient at 0x302433130>,\n",
       " <surgeryschedulingunderuncertainty.patient.Patient at 0x302431a50>,\n",
       " <surgeryschedulingunderuncertainty.patient.Patient at 0x302431990>,\n",
       " <surgeryschedulingunderuncertainty.patient.Patient at 0x302432c80>,\n",
       " <surgeryschedulingunderuncertainty.patient.Patient at 0x302430250>,\n",
       " <surgeryschedulingunderuncertainty.patient.Patient at 0x302432f80>,\n",
       " <surgeryschedulingunderuncertainty.patient.Patient at 0x3024309d0>,\n",
       " <surgeryschedulingunderuncertainty.patient.Patient at 0x302431120>,\n",
       " <surgeryschedulingunderuncertainty.patient.Patient at 0x3024303d0>,\n",
       " <surgeryschedulingunderuncertainty.patient.Patient at 0x302433df0>,\n",
       " <surgeryschedulingunderuncertainty.patient.Patient at 0x302430490>,\n",
       " <surgeryschedulingunderuncertainty.patient.Patient at 0x302432aa0>,\n",
       " <surgeryschedulingunderuncertainty.patient.Patient at 0x302431f90>,\n",
       " <surgeryschedulingunderuncertainty.patient.Patient at 0x3024316c0>,\n",
       " <surgeryschedulingunderuncertainty.patient.Patient at 0x3024323b0>,\n",
       " <surgeryschedulingunderuncertainty.patient.Patient at 0x3024338e0>,\n",
       " <surgeryschedulingunderuncertainty.patient.Patient at 0x302431a20>,\n",
       " <surgeryschedulingunderuncertainty.patient.Patient at 0x3024300a0>,\n",
       " <surgeryschedulingunderuncertainty.patient.Patient at 0x300f755a0>,\n",
       " <surgeryschedulingunderuncertainty.patient.Patient at 0x300f74220>,\n",
       " <surgeryschedulingunderuncertainty.patient.Patient at 0x300f76bf0>,\n",
       " <surgeryschedulingunderuncertainty.patient.Patient at 0x300f76c50>,\n",
       " <surgeryschedulingunderuncertainty.patient.Patient at 0x300f76e00>,\n",
       " <surgeryschedulingunderuncertainty.patient.Patient at 0x300f77a00>,\n",
       " <surgeryschedulingunderuncertainty.patient.Patient at 0x300f77a30>,\n",
       " <surgeryschedulingunderuncertainty.patient.Patient at 0x300f746d0>,\n",
       " <surgeryschedulingunderuncertainty.patient.Patient at 0x30248d180>,\n",
       " <surgeryschedulingunderuncertainty.patient.Patient at 0x30248c2b0>,\n",
       " <surgeryschedulingunderuncertainty.patient.Patient at 0x30248d390>,\n",
       " <surgeryschedulingunderuncertainty.patient.Patient at 0x30248cac0>,\n",
       " <surgeryschedulingunderuncertainty.patient.Patient at 0x30248ccd0>,\n",
       " <surgeryschedulingunderuncertainty.patient.Patient at 0x30248fac0>,\n",
       " <surgeryschedulingunderuncertainty.patient.Patient at 0x30248c610>,\n",
       " <surgeryschedulingunderuncertainty.patient.Patient at 0x30248f3a0>,\n",
       " <surgeryschedulingunderuncertainty.patient.Patient at 0x30248c640>,\n",
       " <surgeryschedulingunderuncertainty.patient.Patient at 0x30248c190>,\n",
       " <surgeryschedulingunderuncertainty.patient.Patient at 0x30248fcd0>,\n",
       " <surgeryschedulingunderuncertainty.patient.Patient at 0x30248ff40>,\n",
       " <surgeryschedulingunderuncertainty.patient.Patient at 0x30248e4a0>,\n",
       " <surgeryschedulingunderuncertainty.patient.Patient at 0x30248fbe0>,\n",
       " <surgeryschedulingunderuncertainty.patient.Patient at 0x30248c1f0>,\n",
       " <surgeryschedulingunderuncertainty.patient.Patient at 0x30248d2d0>,\n",
       " <surgeryschedulingunderuncertainty.patient.Patient at 0x30248ea10>,\n",
       " <surgeryschedulingunderuncertainty.patient.Patient at 0x30248fd30>,\n",
       " <surgeryschedulingunderuncertainty.patient.Patient at 0x30248ead0>,\n",
       " <surgeryschedulingunderuncertainty.patient.Patient at 0x30248e290>,\n",
       " <surgeryschedulingunderuncertainty.patient.Patient at 0x30248c370>,\n",
       " <surgeryschedulingunderuncertainty.patient.Patient at 0x30248c940>,\n",
       " <surgeryschedulingunderuncertainty.patient.Patient at 0x30248c5b0>,\n",
       " <surgeryschedulingunderuncertainty.patient.Patient at 0x30248cdc0>,\n",
       " <surgeryschedulingunderuncertainty.patient.Patient at 0x30248fdc0>,\n",
       " <surgeryschedulingunderuncertainty.patient.Patient at 0x174db4310>,\n",
       " <surgeryschedulingunderuncertainty.patient.Patient at 0x174db6ad0>,\n",
       " <surgeryschedulingunderuncertainty.patient.Patient at 0x30248e920>,\n",
       " <surgeryschedulingunderuncertainty.patient.Patient at 0x30248cc70>,\n",
       " <surgeryschedulingunderuncertainty.patient.Patient at 0x30248d8d0>,\n",
       " <surgeryschedulingunderuncertainty.patient.Patient at 0x30248eb30>,\n",
       " <surgeryschedulingunderuncertainty.patient.Patient at 0x30248f850>,\n",
       " <surgeryschedulingunderuncertainty.patient.Patient at 0x30248c7f0>,\n",
       " <surgeryschedulingunderuncertainty.patient.Patient at 0x30248edd0>,\n",
       " <surgeryschedulingunderuncertainty.patient.Patient at 0x30248ee60>,\n",
       " <surgeryschedulingunderuncertainty.patient.Patient at 0x30248ff10>,\n",
       " <surgeryschedulingunderuncertainty.patient.Patient at 0x30248db40>,\n",
       " <surgeryschedulingunderuncertainty.patient.Patient at 0x30248d0c0>,\n",
       " <surgeryschedulingunderuncertainty.patient.Patient at 0x30248e3e0>,\n",
       " <surgeryschedulingunderuncertainty.patient.Patient at 0x30248d360>,\n",
       " <surgeryschedulingunderuncertainty.patient.Patient at 0x1720c4310>,\n",
       " <surgeryschedulingunderuncertainty.patient.Patient at 0x1720c7a30>,\n",
       " <surgeryschedulingunderuncertainty.patient.Patient at 0x1720c4940>,\n",
       " <surgeryschedulingunderuncertainty.patient.Patient at 0x1720c50f0>,\n",
       " <surgeryschedulingunderuncertainty.patient.Patient at 0x30240b250>,\n",
       " <surgeryschedulingunderuncertainty.patient.Patient at 0x1720c4610>,\n",
       " <surgeryschedulingunderuncertainty.patient.Patient at 0x302408df0>,\n",
       " <surgeryschedulingunderuncertainty.patient.Patient at 0x30240b3d0>,\n",
       " <surgeryschedulingunderuncertainty.patient.Patient at 0x30240a770>,\n",
       " <surgeryschedulingunderuncertainty.patient.Patient at 0x30240ad70>,\n",
       " <surgeryschedulingunderuncertainty.patient.Patient at 0x1720c77c0>,\n",
       " <surgeryschedulingunderuncertainty.patient.Patient at 0x1720c6650>,\n",
       " <surgeryschedulingunderuncertainty.patient.Patient at 0x1720c4ca0>]"
      ]
     },
     "execution_count": 37,
     "metadata": {},
     "output_type": "execute_result"
    }
   ],
   "source": [
    "task.patients"
   ]
  },
  {
   "cell_type": "code",
   "execution_count": null,
   "metadata": {},
   "outputs": [
    {
     "data": {
      "text/plain": [
       "<surgeryschedulingunderuncertainty.uncertainty_profile.LogNormalDistribution at 0x302408af0>"
      ]
     },
     "execution_count": 38,
     "metadata": {},
     "output_type": "execute_result"
    }
   ],
   "source": [
    "task.patients[0].uncertainty_profile"
   ]
  },
  {
   "cell_type": "code",
   "execution_count": null,
   "metadata": {},
   "outputs": [],
   "source": []
  },
  {
   "cell_type": "markdown",
   "metadata": {},
   "source": [
    "## Creazione dell'ottimizzatore"
   ]
  },
  {
   "cell_type": "code",
   "execution_count": null,
   "metadata": {},
   "outputs": [],
   "source": [
    "from surgeryschedulingunderuncertainty.optimizer import VanillaImplementor\n",
    "from surgeryschedulingunderuncertainty.implementor import ChanceConstraintsImplementor"
   ]
  },
  {
   "cell_type": "code",
   "execution_count": null,
   "metadata": {},
   "outputs": [],
   "source": [
    "implementor_adversary = VanillaImplementor(task = task, implementor=ChanceConstraintsImplementor(task = task), description = 'Test')\n",
    "\n"
   ]
  },
  {
   "cell_type": "code",
   "execution_count": null,
   "metadata": {},
   "outputs": [
    {
     "data": {
      "text/plain": [
       "<surgeryschedulingunderuncertainty.task.Task at 0x176ea15a0>"
      ]
     },
     "execution_count": 41,
     "metadata": {},
     "output_type": "execute_result"
    }
   ],
   "source": [
    "implementor_adversary._task\n",
    "\n"
   ]
  },
  {
   "cell_type": "code",
   "execution_count": null,
   "metadata": {},
   "outputs": [],
   "source": [
    "implementor_adversary.create_instance()\n",
    "\n"
   ]
  },
  {
   "cell_type": "code",
   "execution_count": null,
   "metadata": {},
   "outputs": [
    {
     "data": {
      "text/plain": [
       "{None: 300}"
      ]
     },
     "execution_count": 43,
     "metadata": {},
     "output_type": "execute_result"
    }
   ],
   "source": [
    "implementor_adversary._instance.get(None).get('n_pats')"
   ]
  },
  {
   "cell_type": "code",
   "execution_count": null,
   "metadata": {},
   "outputs": [
    {
     "ename": "RuntimeError",
     "evalue": "A feasible solution was not found, so no solution can be loaded.Please set opt.config.load_solution=False and check results.termination_condition and results.best_feasible_objective before loading a solution.",
     "output_type": "error",
     "traceback": [
      "\u001b[0;31m---------------------------------------------------------------------------\u001b[0m",
      "\u001b[0;31mRuntimeError\u001b[0m                              Traceback (most recent call last)",
      "Cell \u001b[0;32mIn[44], line 1\u001b[0m\n\u001b[0;32m----> 1\u001b[0m hello \u001b[38;5;241m=\u001b[39m \u001b[43mimplementor_adversary\u001b[49m\u001b[38;5;241;43m.\u001b[39;49m\u001b[43mrun_implementor\u001b[49m\u001b[43m(\u001b[49m\u001b[43m)\u001b[49m\n",
      "File \u001b[0;32m~/Documents/SurgerySchedulingUnderUncertainty/surgeryschedulingunderuncertainty/optimizer.py:388\u001b[0m, in \u001b[0;36mVanillaImplementor.run_implementor\u001b[0;34m(self)\u001b[0m\n\u001b[1;32m    387\u001b[0m \u001b[38;5;28;01mdef\u001b[39;00m \u001b[38;5;21mrun_implementor\u001b[39m(\u001b[38;5;28mself\u001b[39m):\n\u001b[0;32m--> 388\u001b[0m     solved_instance \u001b[38;5;241m=\u001b[39m \u001b[38;5;28;43mself\u001b[39;49m\u001b[38;5;241;43m.\u001b[39;49m\u001b[43m_implementor\u001b[49m\u001b[38;5;241;43m.\u001b[39;49m\u001b[43mrun\u001b[49m\u001b[43m(\u001b[49m\u001b[43m)\u001b[49m\n\u001b[1;32m    389\u001b[0m     \u001b[38;5;28;01mreturn\u001b[39;00m Schedule(task \u001b[38;5;241m=\u001b[39m \u001b[38;5;28mself\u001b[39m\u001b[38;5;241m.\u001b[39mtask, solved_instance \u001b[38;5;241m=\u001b[39m solved_instance)\n",
      "File \u001b[0;32m~/Documents/SurgerySchedulingUnderUncertainty/surgeryschedulingunderuncertainty/implementor.py:65\u001b[0m, in \u001b[0;36mImplementor.run\u001b[0;34m(self)\u001b[0m\n\u001b[1;32m     62\u001b[0m \u001b[38;5;28mself\u001b[39m\u001b[38;5;241m.\u001b[39m_solver \u001b[38;5;241m=\u001b[39m pyo\u001b[38;5;241m.\u001b[39mSolverFactory(\u001b[38;5;124m'\u001b[39m\u001b[38;5;124mappsi_highs\u001b[39m\u001b[38;5;124m'\u001b[39m)\n\u001b[1;32m     64\u001b[0m \u001b[38;5;66;03m# Solver launching\u001b[39;00m\n\u001b[0;32m---> 65\u001b[0m solver_result \u001b[38;5;241m=\u001b[39m \u001b[38;5;28;43mself\u001b[39;49m\u001b[38;5;241;43m.\u001b[39;49m\u001b[43m_solver\u001b[49m\u001b[38;5;241;43m.\u001b[39;49m\u001b[43msolve\u001b[49m\u001b[43m(\u001b[49m\u001b[38;5;28;43mself\u001b[39;49m\u001b[38;5;241;43m.\u001b[39;49m\u001b[43m_instance\u001b[49m\u001b[43m,\u001b[49m\u001b[43m \u001b[49m\u001b[43mtee\u001b[49m\u001b[38;5;241;43m=\u001b[39;49m\u001b[38;5;28;43;01mFalse\u001b[39;49;00m\u001b[43m)\u001b[49m\n\u001b[1;32m     67\u001b[0m \u001b[38;5;66;03m# Saving data of the solution\u001b[39;00m\n\u001b[1;32m     68\u001b[0m \u001b[38;5;28mself\u001b[39m\u001b[38;5;241m.\u001b[39m_instance\u001b[38;5;241m.\u001b[39msolutions\u001b[38;5;241m.\u001b[39mstore_to(solver_result)\n",
      "File \u001b[0;32m~/Library/Caches/pypoetry/virtualenvs/surgeryschedulingunderuncertainty-XOZq-E-P-py3.10/lib/python3.10/site-packages/pyomo/contrib/appsi/base.py:1557\u001b[0m, in \u001b[0;36mLegacySolverInterface.solve\u001b[0;34m(self, model, tee, load_solutions, logfile, solnfile, timelimit, report_timing, solver_io, suffixes, options, keepfiles, symbolic_solver_labels)\u001b[0m\n\u001b[1;32m   1554\u001b[0m \u001b[38;5;28;01mif\u001b[39;00m options \u001b[38;5;129;01mis\u001b[39;00m \u001b[38;5;129;01mnot\u001b[39;00m \u001b[38;5;28;01mNone\u001b[39;00m:\n\u001b[1;32m   1555\u001b[0m     \u001b[38;5;28mself\u001b[39m\u001b[38;5;241m.\u001b[39moptions \u001b[38;5;241m=\u001b[39m options\n\u001b[0;32m-> 1557\u001b[0m results: Results \u001b[38;5;241m=\u001b[39m \u001b[38;5;28;43msuper\u001b[39;49m\u001b[43m(\u001b[49m\u001b[43mLegacySolverInterface\u001b[49m\u001b[43m,\u001b[49m\u001b[43m \u001b[49m\u001b[38;5;28;43mself\u001b[39;49m\u001b[43m)\u001b[49m\u001b[38;5;241;43m.\u001b[39;49m\u001b[43msolve\u001b[49m\u001b[43m(\u001b[49m\u001b[43mmodel\u001b[49m\u001b[43m)\u001b[49m\n\u001b[1;32m   1559\u001b[0m legacy_results \u001b[38;5;241m=\u001b[39m LegacySolverResults()\n\u001b[1;32m   1560\u001b[0m legacy_soln \u001b[38;5;241m=\u001b[39m LegacySolution()\n",
      "File \u001b[0;32m~/Library/Caches/pypoetry/virtualenvs/surgeryschedulingunderuncertainty-XOZq-E-P-py3.10/lib/python3.10/site-packages/pyomo/contrib/appsi/solvers/highs.py:250\u001b[0m, in \u001b[0;36mHighs.solve\u001b[0;34m(self, model, timer)\u001b[0m\n\u001b[1;32m    248\u001b[0m     \u001b[38;5;28mself\u001b[39m\u001b[38;5;241m.\u001b[39mupdate(timer\u001b[38;5;241m=\u001b[39mtimer)\n\u001b[1;32m    249\u001b[0m     timer\u001b[38;5;241m.\u001b[39mstop(\u001b[38;5;124m'\u001b[39m\u001b[38;5;124mupdate\u001b[39m\u001b[38;5;124m'\u001b[39m)\n\u001b[0;32m--> 250\u001b[0m res \u001b[38;5;241m=\u001b[39m \u001b[38;5;28;43mself\u001b[39;49m\u001b[38;5;241;43m.\u001b[39;49m\u001b[43m_solve\u001b[49m\u001b[43m(\u001b[49m\u001b[43mtimer\u001b[49m\u001b[43m)\u001b[49m\n\u001b[1;32m    251\u001b[0m \u001b[38;5;28mself\u001b[39m\u001b[38;5;241m.\u001b[39m_last_results_object \u001b[38;5;241m=\u001b[39m res\n\u001b[1;32m    252\u001b[0m \u001b[38;5;28;01mif\u001b[39;00m \u001b[38;5;28mself\u001b[39m\u001b[38;5;241m.\u001b[39mconfig\u001b[38;5;241m.\u001b[39mreport_timing:\n",
      "File \u001b[0;32m~/Library/Caches/pypoetry/virtualenvs/surgeryschedulingunderuncertainty-XOZq-E-P-py3.10/lib/python3.10/site-packages/pyomo/contrib/appsi/solvers/highs.py:234\u001b[0m, in \u001b[0;36mHighs._solve\u001b[0;34m(self, timer)\u001b[0m\n\u001b[1;32m    231\u001b[0m         \u001b[38;5;28mself\u001b[39m\u001b[38;5;241m.\u001b[39m_solver_model\u001b[38;5;241m.\u001b[39mrun()\n\u001b[1;32m    232\u001b[0m         timer\u001b[38;5;241m.\u001b[39mstop(\u001b[38;5;124m'\u001b[39m\u001b[38;5;124moptimize\u001b[39m\u001b[38;5;124m'\u001b[39m)\n\u001b[0;32m--> 234\u001b[0m \u001b[38;5;28;01mreturn\u001b[39;00m \u001b[38;5;28;43mself\u001b[39;49m\u001b[38;5;241;43m.\u001b[39;49m\u001b[43m_postsolve\u001b[49m\u001b[43m(\u001b[49m\u001b[43mtimer\u001b[49m\u001b[43m)\u001b[49m\n",
      "File \u001b[0;32m~/Library/Caches/pypoetry/virtualenvs/surgeryschedulingunderuncertainty-XOZq-E-P-py3.10/lib/python3.10/site-packages/pyomo/contrib/appsi/solvers/highs.py:671\u001b[0m, in \u001b[0;36mHighs._postsolve\u001b[0;34m(self, timer)\u001b[0m\n\u001b[1;32m    669\u001b[0m         \u001b[38;5;28mself\u001b[39m\u001b[38;5;241m.\u001b[39mload_vars()\n\u001b[1;32m    670\u001b[0m     \u001b[38;5;28;01melse\u001b[39;00m:\n\u001b[0;32m--> 671\u001b[0m         \u001b[38;5;28;01mraise\u001b[39;00m \u001b[38;5;167;01mRuntimeError\u001b[39;00m(\n\u001b[1;32m    672\u001b[0m             \u001b[38;5;124m'\u001b[39m\u001b[38;5;124mA feasible solution was not found, so no solution can be loaded.\u001b[39m\u001b[38;5;124m'\u001b[39m\n\u001b[1;32m    673\u001b[0m             \u001b[38;5;124m'\u001b[39m\u001b[38;5;124mPlease set opt.config.load_solution=False and check \u001b[39m\u001b[38;5;124m'\u001b[39m\n\u001b[1;32m    674\u001b[0m             \u001b[38;5;124m'\u001b[39m\u001b[38;5;124mresults.termination_condition and \u001b[39m\u001b[38;5;124m'\u001b[39m\n\u001b[1;32m    675\u001b[0m             \u001b[38;5;124m'\u001b[39m\u001b[38;5;124mresults.best_feasible_objective before loading a solution.\u001b[39m\u001b[38;5;124m'\u001b[39m\n\u001b[1;32m    676\u001b[0m         )\n\u001b[1;32m    677\u001b[0m timer\u001b[38;5;241m.\u001b[39mstop(\u001b[38;5;124m'\u001b[39m\u001b[38;5;124mload solution\u001b[39m\u001b[38;5;124m'\u001b[39m)\n\u001b[1;32m    679\u001b[0m info \u001b[38;5;241m=\u001b[39m highs\u001b[38;5;241m.\u001b[39mgetInfo()\n",
      "\u001b[0;31mRuntimeError\u001b[0m: A feasible solution was not found, so no solution can be loaded.Please set opt.config.load_solution=False and check results.termination_condition and results.best_feasible_objective before loading a solution."
     ]
    }
   ],
   "source": [
    "hello = implementor_adversary.run_implementor()\n"
   ]
  },
  {
   "cell_type": "code",
   "execution_count": null,
   "metadata": {},
   "outputs": [],
   "source": [
    "implementor_adversary._instance.get(None).get('f')"
   ]
  },
  {
   "cell_type": "code",
   "execution_count": null,
   "metadata": {},
   "outputs": [],
   "source": [
    "for pat in (hello._blocks[0].patients):\n",
    "    print(pat)"
   ]
  },
  {
   "cell_type": "code",
   "execution_count": null,
   "metadata": {},
   "outputs": [],
   "source": [
    "hello._blocks[0].patients[0].uncertainty_profile"
   ]
  },
  {
   "cell_type": "code",
   "execution_count": null,
   "metadata": {},
   "outputs": [],
   "source": [
    "hello.x[1,1]()"
   ]
  },
  {
   "cell_type": "code",
   "execution_count": null,
   "metadata": {},
   "outputs": [],
   "source": [
    "task.master_schedule.blocks"
   ]
  },
  {
   "cell_type": "code",
   "execution_count": null,
   "metadata": {},
   "outputs": [],
   "source": [
    "task.patients"
   ]
  },
  {
   "cell_type": "code",
   "execution_count": null,
   "metadata": {},
   "outputs": [],
   "source": [
    "task.patients[0].uncertainty_profile"
   ]
  },
  {
   "cell_type": "code",
   "execution_count": null,
   "metadata": {},
   "outputs": [],
   "source": []
  }
 ],
 "metadata": {
  "kernelspec": {
   "display_name": "surgeryschedulingunderuncertainty-XOZq-E-P-py3.10",
   "language": "python",
   "name": "python3"
  },
  "language_info": {
   "codemirror_mode": {
    "name": "ipython",
    "version": 3
   },
   "file_extension": ".py",
   "mimetype": "text/x-python",
   "name": "python",
   "nbconvert_exporter": "python",
   "pygments_lexer": "ipython3",
   "version": "3.10.13"
  }
 },
 "nbformat": 4,
 "nbformat_minor": 2
}
