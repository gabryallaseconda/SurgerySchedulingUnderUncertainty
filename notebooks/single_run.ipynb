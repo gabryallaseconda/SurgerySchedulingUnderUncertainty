{
 "cells": [
  {
   "cell_type": "markdown",
   "metadata": {},
   "source": [
    "# Single Run"
   ]
  },
  {
   "cell_type": "code",
   "execution_count": 1,
   "metadata": {},
   "outputs": [
    {
     "name": "stderr",
     "output_type": "stream",
     "text": [
      "/var/folders/w_/kqymfxcs5d561j515w6_cfqh0000gn/T/ipykernel_32224/317628422.py:1: DeprecationWarning: \n",
      "Pyarrow will become a required dependency of pandas in the next major release of pandas (pandas 3.0),\n",
      "(to allow more performant data types, such as the Arrow string type, and better interoperability with other libraries)\n",
      "but was not found to be installed on your system.\n",
      "If this would cause problems for you,\n",
      "please provide us feedback at https://github.com/pandas-dev/pandas/issues/54466\n",
      "        \n",
      "  import pandas as pd\n"
     ]
    }
   ],
   "source": [
    "import pandas as pd\n",
    "\n",
    "from surgeryschedulingunderuncertainty.task import Task\n",
    "from surgeryschedulingunderuncertainty.patients_provider import PatientsFromHistoricalDataProvider\n",
    "from surgeryschedulingunderuncertainty.master import Master\n",
    "\n",
    "from surgeryschedulingunderuncertainty.implementor import StandardImplementor\n",
    "from surgeryschedulingunderuncertainty.optimizer import ImplementorAdversary\n",
    "\n",
    "from surgeryschedulingunderuncertainty.predictive_model import NGBLogNormal, NGBNormal\n"
   ]
  },
  {
   "cell_type": "markdown",
   "metadata": {},
   "source": [
    "## Task: pazienti storici"
   ]
  },
  {
   "cell_type": "code",
   "execution_count": 2,
   "metadata": {},
   "outputs": [],
   "source": [
    "historical_data_df = pd.read_csv(\"../data/historical_data.csv\")\n",
    "\n",
    "patient_provider = PatientsFromHistoricalDataProvider(\n",
    "                 historical_data= historical_data_df\n",
    "                 )"
   ]
  },
  {
   "cell_type": "code",
   "execution_count": 3,
   "metadata": {},
   "outputs": [],
   "source": [
    "or_master_schedule = pd.read_csv(\"../data/master_schedule_input.csv\", sep = ';')\n",
    "master_schedule  = Master(name = \"my master\", table=or_master_schedule)"
   ]
  },
  {
   "cell_type": "code",
   "execution_count": 4,
   "metadata": {},
   "outputs": [],
   "source": [
    "num_of_patients = 100"
   ]
  },
  {
   "cell_type": "code",
   "execution_count": 5,
   "metadata": {},
   "outputs": [],
   "source": [
    "patients, training = patient_provider.provide_sets(quantity=num_of_patients, quantity_training=1000)\n"
   ]
  },
  {
   "cell_type": "code",
   "execution_count": 6,
   "metadata": {},
   "outputs": [],
   "source": [
    "model = NGBLogNormal(description=\"test\", patients=training)\n",
    "patients = model.predict(patients)"
   ]
  },
  {
   "cell_type": "code",
   "execution_count": 7,
   "metadata": {},
   "outputs": [],
   "source": [
    "\n",
    "task = Task(name = \"My first problem\",\n",
    "            num_of_weeks= 2,\n",
    "            num_of_patients= num_of_patients,\n",
    "            robustness_risk= 0.2,\n",
    "            robustness_overtime= 30,\n",
    "            urgency_to_max_waiting_days= {0: 7, 1:30, 2:60, 3:180, 4:360}, \n",
    "            )\n",
    "\n",
    "task.patients = patients\n",
    "task.master_schedule = master_schedule\n"
   ]
  },
  {
   "cell_type": "markdown",
   "metadata": {},
   "source": [
    "### Implementor - Adversary"
   ]
  },
  {
   "cell_type": "code",
   "execution_count": 8,
   "metadata": {},
   "outputs": [],
   "source": [
    "implementor_adversary = ImplementorAdversary(task = task, implementor=StandardImplementor(), adversary=None, description = 'Test')"
   ]
  },
  {
   "cell_type": "code",
   "execution_count": 9,
   "metadata": {},
   "outputs": [],
   "source": [
    "implementor_adversary.create_instance()"
   ]
  },
  {
   "cell_type": "code",
   "execution_count": 10,
   "metadata": {},
   "outputs": [
    {
     "name": "stdout",
     "output_type": "stream",
     "text": [
      "implementor\n",
      "adversary\n"
     ]
    }
   ],
   "source": [
    "solution_implementor_adversary = implementor_adversary.run(15)"
   ]
  },
  {
   "cell_type": "code",
   "execution_count": 11,
   "metadata": {},
   "outputs": [
    {
     "name": "stdout",
     "output_type": "stream",
     "text": [
      "Patient id: 5906 \n",
      " equipe: D \n",
      " urgency: 4 \n",
      " nominal duration: 49 \n",
      " days waiting: 169\n",
      "Patient id: 3714 \n",
      " equipe: D \n",
      " urgency: 3 \n",
      " nominal duration: 46 \n",
      " days waiting: 145\n",
      "Patient id: 3883 \n",
      " equipe: D \n",
      " urgency: 3 \n",
      " nominal duration: 46 \n",
      " days waiting: 146\n",
      "Patient id: 6300 \n",
      " equipe: D \n",
      " urgency: 4 \n",
      " nominal duration: 73 \n",
      " days waiting: 329\n",
      "Patient id: 6198 \n",
      " equipe: D \n",
      " urgency: 2 \n",
      " nominal duration: 41 \n",
      " days waiting: 42\n",
      "Patient id: 7496 \n",
      " equipe: D \n",
      " urgency: 2 \n",
      " nominal duration: 40 \n",
      " days waiting: 33\n"
     ]
    }
   ],
   "source": [
    "for pat in (solution_implementor_adversary._blocks[0].patients):\n",
    "    print(pat)"
   ]
  },
  {
   "cell_type": "markdown",
   "metadata": {},
   "source": [
    "solution._blocks[4].patients[0].uncertainty_profile.param_s"
   ]
  },
  {
   "cell_type": "markdown",
   "metadata": {},
   "source": [
    "### Chance constraint"
   ]
  },
  {
   "cell_type": "code",
   "execution_count": 12,
   "metadata": {},
   "outputs": [],
   "source": [
    "from surgeryschedulingunderuncertainty.optimizer import VanillaImplementor\n",
    "from surgeryschedulingunderuncertainty.implementor import ChanceConstraintsImplementor\n"
   ]
  },
  {
   "cell_type": "code",
   "execution_count": 13,
   "metadata": {},
   "outputs": [],
   "source": [
    "chance_constraints = VanillaImplementor(task = task, \n",
    "                                              implementor=ChanceConstraintsImplementor(task = task), \n",
    "                                              description = 'Test')"
   ]
  },
  {
   "cell_type": "code",
   "execution_count": 14,
   "metadata": {},
   "outputs": [],
   "source": [
    "chance_constraints.create_instance()"
   ]
  },
  {
   "cell_type": "code",
   "execution_count": 15,
   "metadata": {},
   "outputs": [],
   "source": [
    "solution_chance_constraints = chance_constraints.run()"
   ]
  },
  {
   "cell_type": "code",
   "execution_count": 16,
   "metadata": {},
   "outputs": [
    {
     "ename": "AttributeError",
     "evalue": "'ConcreteModel' object has no attribute '_blocks'",
     "output_type": "error",
     "traceback": [
      "\u001b[0;31m---------------------------------------------------------------------------\u001b[0m",
      "\u001b[0;31mAttributeError\u001b[0m                            Traceback (most recent call last)",
      "Cell \u001b[0;32mIn[16], line 1\u001b[0m\n\u001b[0;32m----> 1\u001b[0m \u001b[38;5;28;01mfor\u001b[39;00m pat \u001b[38;5;129;01min\u001b[39;00m (\u001b[43msolution_chance_constraints\u001b[49m\u001b[38;5;241;43m.\u001b[39;49m\u001b[43m_blocks\u001b[49m[\u001b[38;5;241m0\u001b[39m]\u001b[38;5;241m.\u001b[39mpatients):\n\u001b[1;32m      2\u001b[0m     \u001b[38;5;28mprint\u001b[39m(pat)\n",
      "File \u001b[0;32m~/Library/Caches/pypoetry/virtualenvs/surgeryschedulingunderuncertainty-XOZq-E-P-py3.10/lib/python3.10/site-packages/pyomo/core/base/block.py:559\u001b[0m, in \u001b[0;36m_BlockData.__getattr__\u001b[0;34m(self, val)\u001b[0m\n\u001b[1;32m    556\u001b[0m     \u001b[38;5;28;01mreturn\u001b[39;00m _component_decorator(\u001b[38;5;28mself\u001b[39m, ModelComponentFactory\u001b[38;5;241m.\u001b[39mget_class(val))\n\u001b[1;32m    557\u001b[0m \u001b[38;5;66;03m# Since the base classes don't support getattr, we can just\u001b[39;00m\n\u001b[1;32m    558\u001b[0m \u001b[38;5;66;03m# throw the \"normal\" AttributeError\u001b[39;00m\n\u001b[0;32m--> 559\u001b[0m \u001b[38;5;28;01mraise\u001b[39;00m \u001b[38;5;167;01mAttributeError\u001b[39;00m(\n\u001b[1;32m    560\u001b[0m     \u001b[38;5;124m\"\u001b[39m\u001b[38;5;124m'\u001b[39m\u001b[38;5;132;01m%s\u001b[39;00m\u001b[38;5;124m'\u001b[39m\u001b[38;5;124m object has no attribute \u001b[39m\u001b[38;5;124m'\u001b[39m\u001b[38;5;132;01m%s\u001b[39;00m\u001b[38;5;124m'\u001b[39m\u001b[38;5;124m\"\u001b[39m \u001b[38;5;241m%\u001b[39m (\u001b[38;5;28mself\u001b[39m\u001b[38;5;241m.\u001b[39m\u001b[38;5;18m__class__\u001b[39m\u001b[38;5;241m.\u001b[39m\u001b[38;5;18m__name__\u001b[39m, val)\n\u001b[1;32m    561\u001b[0m )\n",
      "\u001b[0;31mAttributeError\u001b[0m: 'ConcreteModel' object has no attribute '_blocks'"
     ]
    }
   ],
   "source": [
    "for pat in (solution_chance_constraints._blocks[0].patients):\n",
    "    print(pat)"
   ]
  },
  {
   "cell_type": "code",
   "execution_count": null,
   "metadata": {},
   "outputs": [],
   "source": []
  },
  {
   "cell_type": "markdown",
   "metadata": {},
   "source": [
    "### Budget Set"
   ]
  },
  {
   "cell_type": "code",
   "execution_count": null,
   "metadata": {},
   "outputs": [],
   "source": [
    "from surgeryschedulingunderuncertainty.optimizer import  BudgetSet\n",
    "from surgeryschedulingunderuncertainty.implementor import  BudgetSetImplementor\n"
   ]
  },
  {
   "cell_type": "code",
   "execution_count": null,
   "metadata": {},
   "outputs": [],
   "source": [
    "task.gamma_variation = 0\n",
    "\n",
    "\n",
    "budget_set = BudgetSet(task = task, \n",
    "                              implementor=BudgetSetImplementor(task = task), \n",
    "                              description = 'Test')\n",
    "\n",
    "\n",
    "\n",
    "\n"
   ]
  },
  {
   "cell_type": "code",
   "execution_count": null,
   "metadata": {},
   "outputs": [
    {
     "name": "stdout",
     "output_type": "stream",
     "text": [
      "6\n",
      "['C', 'D']\n",
      "----\n",
      "6\n",
      "['D', 'C']\n",
      "----\n",
      "4\n",
      "['I']\n",
      "----\n",
      "5\n",
      "['H', 'F']\n",
      "----\n",
      "6\n",
      "['D', 'C']\n",
      "----\n",
      "4\n",
      "['L']\n",
      "----\n",
      "6\n",
      "['C', 'D']\n",
      "----\n",
      "5\n",
      "['F', 'H']\n",
      "----\n",
      "2\n",
      "['I']\n",
      "----\n",
      "9\n",
      "['H', 'F']\n",
      "----\n",
      "2\n",
      "['L']\n",
      "----\n",
      "7\n",
      "['B', 'E', 'A', 'G']\n",
      "----\n",
      "7\n",
      "['E', 'A', 'G', 'B']\n",
      "----\n",
      "5\n",
      "['F', 'H']\n",
      "----\n",
      "7\n",
      "['A', 'B', 'E', 'G']\n",
      "----\n",
      "7\n",
      "['G', 'B', 'E', 'A']\n",
      "----\n"
     ]
    }
   ],
   "source": [
    "soulution_budget_set = budget_set.run()"
   ]
  },
  {
   "cell_type": "code",
   "execution_count": null,
   "metadata": {},
   "outputs": [
    {
     "data": {
      "text/plain": [
       "{1: 3.7498030910937326,\n",
       " 2: 4.09161270629753,\n",
       " 3: 3.6771076447125863,\n",
       " 4: 12.666269750463933,\n",
       " 5: 12.892810500396733,\n",
       " 6: 3.8191502687188916,\n",
       " 7: 4.084713198016788,\n",
       " 8: 26.995653104038183,\n",
       " 9: 7.4679030682143015,\n",
       " 10: 3.679958286966773,\n",
       " 11: 3.6086629092750644,\n",
       " 12: 4.102741409424607,\n",
       " 13: 4.733383663703206,\n",
       " 14: 10.713692648253076,\n",
       " 15: 3.992007088791223,\n",
       " 16: 3.489027646393643,\n",
       " 17: 5.205845055324746,\n",
       " 18: 6.845018641646168,\n",
       " 19: 5.806914555282409,\n",
       " 20: 3.5579944452596233,\n",
       " 21: 4.0308912340708565,\n",
       " 22: 4.810345213802426,\n",
       " 23: 6.568997089910099,\n",
       " 24: 8.3703269285588,\n",
       " 25: 3.454124784961164,\n",
       " 26: 8.573698889956118,\n",
       " 27: 6.525031866843483,\n",
       " 28: 6.737139575490656,\n",
       " 29: 6.911171397916507,\n",
       " 30: 5.2749028865729946,\n",
       " 31: 9.06606943543722,\n",
       " 32: 7.396420874422615,\n",
       " 33: 7.906850052728971,\n",
       " 34: 4.411391315893926,\n",
       " 35: 3.6770993766656765,\n",
       " 36: 9.51165893836611,\n",
       " 37: 4.968861703785849,\n",
       " 38: 13.938784874873814,\n",
       " 39: 4.819762144578456,\n",
       " 40: 4.330064766628166,\n",
       " 41: 5.373158346668775,\n",
       " 42: 12.720915149127666,\n",
       " 43: 3.5508996405696465,\n",
       " 44: 3.6770829768727196,\n",
       " 45: 3.6799941618457863,\n",
       " 46: 9.063473382154033,\n",
       " 47: 7.840602839650186,\n",
       " 48: 5.9189955765102304,\n",
       " 49: 25.466811527207202,\n",
       " 50: 7.842422176078975,\n",
       " 51: 5.19446133204044,\n",
       " 52: 3.6799941618457863,\n",
       " 53: 3.834016463064532,\n",
       " 54: 8.148387055637407,\n",
       " 55: 9.10158535255692,\n",
       " 56: 4.157517780221566,\n",
       " 57: 3.8935203714769644,\n",
       " 58: 3.6799941618457863,\n",
       " 59: 3.679991929149846,\n",
       " 60: 4.3532754449432405,\n",
       " 61: 3.6799941618457863,\n",
       " 62: 16.356945413685647,\n",
       " 63: 6.91117336407446,\n",
       " 64: 3.570098015048304,\n",
       " 65: 5.3000445382446735,\n",
       " 66: 7.791458091740862,\n",
       " 67: 4.266785800450032,\n",
       " 68: 14.928158634307263,\n",
       " 69: 12.886181247079493,\n",
       " 70: 28.645873277657373,\n",
       " 71: 4.084704079145637,\n",
       " 72: 3.0578473001630946,\n",
       " 73: 5.547373384274794,\n",
       " 74: 7.802597067071315,\n",
       " 75: 18.246077235031596,\n",
       " 76: 27.87673387447378,\n",
       " 77: 3.6799941618457863,\n",
       " 78: 8.014617108633264,\n",
       " 79: 3.789632674682303,\n",
       " 80: 7.396423431821386,\n",
       " 81: 3.00938599005728,\n",
       " 82: 4.102728352932178,\n",
       " 83: 14.865423611527524,\n",
       " 84: 7.706942562101494,\n",
       " 85: 9.935809627418529,\n",
       " 86: 8.668945775966268,\n",
       " 87: 5.351266283189949,\n",
       " 88: 7.791458091740862,\n",
       " 89: 7.4679030682143015,\n",
       " 90: 3.0234598725792186,\n",
       " 91: 13.034795533174744,\n",
       " 92: 3.6799941618457863,\n",
       " 93: 13.468081917344342,\n",
       " 94: 4.0377156359315425,\n",
       " 95: 3.652613262471492,\n",
       " 96: 17.02969621549185,\n",
       " 97: 4.13258320427149,\n",
       " 98: 4.1027323443404935,\n",
       " 99: 5.806917781780075,\n",
       " 100: 8.549299554567488}"
      ]
     },
     "execution_count": 20,
     "metadata": {},
     "output_type": "execute_result"
    }
   ],
   "source": [
    "budget_set._instance.get(None).get('time_increment')"
   ]
  },
  {
   "cell_type": "code",
   "execution_count": null,
   "metadata": {},
   "outputs": [
    {
     "data": {
      "text/plain": [
       "{1: 6,\n",
       " 2: 6,\n",
       " 3: 4,\n",
       " 4: 5,\n",
       " 5: 6,\n",
       " 6: 4,\n",
       " 7: 6,\n",
       " 8: 5,\n",
       " 9: 2,\n",
       " 10: 9,\n",
       " 11: 2,\n",
       " 12: 7,\n",
       " 13: 7,\n",
       " 14: 5,\n",
       " 15: 7,\n",
       " 16: 7,\n",
       " 17: 6,\n",
       " 18: 6,\n",
       " 19: 4,\n",
       " 20: 5,\n",
       " 21: 6,\n",
       " 22: 4,\n",
       " 23: 6,\n",
       " 24: 5,\n",
       " 25: 2,\n",
       " 26: 9,\n",
       " 27: 2,\n",
       " 28: 7,\n",
       " 29: 7,\n",
       " 30: 5,\n",
       " 31: 7,\n",
       " 32: 7}"
      ]
     },
     "execution_count": 21,
     "metadata": {},
     "output_type": "execute_result"
    }
   ],
   "source": [
    "budget_set._instance.get(None).get('gamma')"
   ]
  },
  {
   "cell_type": "code",
   "execution_count": null,
   "metadata": {},
   "outputs": [
    {
     "name": "stdout",
     "output_type": "stream",
     "text": [
      "<surgeryschedulingunderuncertainty.block.ScheduleBlock object at 0x301437e80>\n",
      "Patient id: 6196 \n",
      " equipe: D \n",
      " urgency: 3 \n",
      " nominal duration: 45 \n",
      " days waiting: 92\n",
      "Patient id: 3203 \n",
      " equipe: D \n",
      " urgency: 4 \n",
      " nominal duration: 46 \n",
      " days waiting: 298\n",
      "Patient id: 1821 \n",
      " equipe: D \n",
      " urgency: 3 \n",
      " nominal duration: 44 \n",
      " days waiting: 147\n",
      "Patient id: 7199 \n",
      " equipe: D \n",
      " urgency: 4 \n",
      " nominal duration: 45 \n",
      " days waiting: 207\n",
      "Patient id: 8274 \n",
      " equipe: D \n",
      " urgency: 4 \n",
      " nominal duration: 45 \n",
      " days waiting: 183\n",
      "---\n",
      "<surgeryschedulingunderuncertainty.block.ScheduleBlock object at 0x118c78fa0>\n",
      "Patient id: 7064 \n",
      " equipe: D \n",
      " urgency: 3 \n",
      " nominal duration: 63 \n",
      " days waiting: 123\n",
      "Patient id: 7906 \n",
      " equipe: D \n",
      " urgency: 2 \n",
      " nominal duration: 45 \n",
      " days waiting: 38\n",
      "Patient id: 4221 \n",
      " equipe: D \n",
      " urgency: 2 \n",
      " nominal duration: 45 \n",
      " days waiting: 24\n",
      "Patient id: 7613 \n",
      " equipe: D \n",
      " urgency: 3 \n",
      " nominal duration: 68 \n",
      " days waiting: 171\n",
      "Patient id: 1016 \n",
      " equipe: D \n",
      " urgency: 2 \n",
      " nominal duration: 45 \n",
      " days waiting: 14\n",
      "---\n",
      "<surgeryschedulingunderuncertainty.block.ScheduleBlock object at 0x118c79ea0>\n",
      "Patient id: 7119 \n",
      " equipe: I \n",
      " urgency: 1 \n",
      " nominal duration: 108 \n",
      " days waiting: 24\n",
      "Patient id: 584 \n",
      " equipe: I \n",
      " urgency: 3 \n",
      " nominal duration: 188 \n",
      " days waiting: 103\n",
      "Patient id: 4877 \n",
      " equipe: I \n",
      " urgency: 3 \n",
      " nominal duration: 230 \n",
      " days waiting: 165\n",
      "---\n",
      "<surgeryschedulingunderuncertainty.block.ScheduleBlock object at 0x32f385090>\n",
      "Patient id: 6767 \n",
      " equipe: F \n",
      " urgency: 4 \n",
      " nominal duration: 52 \n",
      " days waiting: 128\n",
      "Patient id: 670 \n",
      " equipe: H \n",
      " urgency: 4 \n",
      " nominal duration: 90 \n",
      " days waiting: 305\n",
      "Patient id: 8812 \n",
      " equipe: F \n",
      " urgency: 4 \n",
      " nominal duration: 49 \n",
      " days waiting: 226\n",
      "Patient id: 8985 \n",
      " equipe: F \n",
      " urgency: 4 \n",
      " nominal duration: 49 \n",
      " days waiting: 298\n",
      "---\n",
      "<surgeryschedulingunderuncertainty.block.ScheduleBlock object at 0x32f385990>\n",
      "Patient id: 7481 \n",
      " equipe: C \n",
      " urgency: 3 \n",
      " nominal duration: 84 \n",
      " days waiting: 105\n",
      "Patient id: 1699 \n",
      " equipe: C \n",
      " urgency: 3 \n",
      " nominal duration: 84 \n",
      " days waiting: 3\n",
      "---\n",
      "<surgeryschedulingunderuncertainty.block.ScheduleBlock object at 0x32f387940>\n",
      "Patient id: 1455 \n",
      " equipe: L \n",
      " urgency: 4 \n",
      " nominal duration: 108 \n",
      " days waiting: 92\n",
      "Patient id: 2507 \n",
      " equipe: L \n",
      " urgency: 3 \n",
      " nominal duration: 110 \n",
      " days waiting: 47\n",
      "Patient id: 9060 \n",
      " equipe: L \n",
      " urgency: 4 \n",
      " nominal duration: 185 \n",
      " days waiting: 211\n",
      "---\n",
      "<surgeryschedulingunderuncertainty.block.ScheduleBlock object at 0x32f685000>\n",
      "Patient id: 8472 \n",
      " equipe: D \n",
      " urgency: 1 \n",
      " nominal duration: 45 \n",
      " days waiting: 7\n",
      "Patient id: 1011 \n",
      " equipe: D \n",
      " urgency: 1 \n",
      " nominal duration: 45 \n",
      " days waiting: 25\n",
      "Patient id: 7710 \n",
      " equipe: D \n",
      " urgency: 4 \n",
      " nominal duration: 121 \n",
      " days waiting: 14\n",
      "---\n",
      "<surgeryschedulingunderuncertainty.block.ScheduleBlock object at 0x32f6857e0>\n",
      "Patient id: 2257 \n",
      " equipe: F \n",
      " urgency: 3 \n",
      " nominal duration: 49 \n",
      " days waiting: 172\n",
      "Patient id: 5000 \n",
      " equipe: F \n",
      " urgency: 4 \n",
      " nominal duration: 101 \n",
      " days waiting: 304\n",
      "Patient id: 5769 \n",
      " equipe: H \n",
      " urgency: 4 \n",
      " nominal duration: 93 \n",
      " days waiting: 330\n",
      "---\n",
      "<surgeryschedulingunderuncertainty.block.ScheduleBlock object at 0x32f5f5a20>\n",
      "Patient id: 8031 \n",
      " equipe: I \n",
      " urgency: 2 \n",
      " nominal duration: 215 \n",
      " days waiting: 48\n",
      "---\n",
      "<surgeryschedulingunderuncertainty.block.ScheduleBlock object at 0x32f685450>\n",
      "Patient id: 5067 \n",
      " equipe: F \n",
      " urgency: 3 \n",
      " nominal duration: 49 \n",
      " days waiting: 143\n",
      "Patient id: 2883 \n",
      " equipe: H \n",
      " urgency: 3 \n",
      " nominal duration: 82 \n",
      " days waiting: 144\n",
      "Patient id: 5807 \n",
      " equipe: F \n",
      " urgency: 2 \n",
      " nominal duration: 53 \n",
      " days waiting: 5\n",
      "Patient id: 6792 \n",
      " equipe: F \n",
      " urgency: 3 \n",
      " nominal duration: 52 \n",
      " days waiting: 81\n",
      "Patient id: 679 \n",
      " equipe: F \n",
      " urgency: 2 \n",
      " nominal duration: 50 \n",
      " days waiting: 19\n",
      "Patient id: 4495 \n",
      " equipe: F \n",
      " urgency: 2 \n",
      " nominal duration: 46 \n",
      " days waiting: 44\n",
      "---\n",
      "<surgeryschedulingunderuncertainty.block.ScheduleBlock object at 0x32f7cd480>\n",
      "Patient id: 3846 \n",
      " equipe: L \n",
      " urgency: 2 \n",
      " nominal duration: 109 \n",
      " days waiting: 30\n",
      "Patient id: 918 \n",
      " equipe: L \n",
      " urgency: 1 \n",
      " nominal duration: 107 \n",
      " days waiting: 15\n",
      "---\n",
      "<surgeryschedulingunderuncertainty.block.ScheduleBlock object at 0x32f7cd420>\n",
      "---\n",
      "<surgeryschedulingunderuncertainty.block.ScheduleBlock object at 0x32f7cd3c0>\n",
      "---\n",
      "<surgeryschedulingunderuncertainty.block.ScheduleBlock object at 0x32f7cd4e0>\n",
      "---\n",
      "<surgeryschedulingunderuncertainty.block.ScheduleBlock object at 0x32f7cd930>\n",
      "---\n",
      "<surgeryschedulingunderuncertainty.block.ScheduleBlock object at 0x32f560df0>\n",
      "---\n",
      "<surgeryschedulingunderuncertainty.block.ScheduleBlock object at 0x32e261cc0>\n",
      "---\n",
      "<surgeryschedulingunderuncertainty.block.ScheduleBlock object at 0x32f7cd510>\n",
      "---\n",
      "<surgeryschedulingunderuncertainty.block.ScheduleBlock object at 0x30738a620>\n",
      "---\n",
      "<surgeryschedulingunderuncertainty.block.ScheduleBlock object at 0x307388070>\n",
      "---\n",
      "<surgeryschedulingunderuncertainty.block.ScheduleBlock object at 0x307388280>\n",
      "---\n",
      "<surgeryschedulingunderuncertainty.block.ScheduleBlock object at 0x3073882b0>\n",
      "---\n",
      "<surgeryschedulingunderuncertainty.block.ScheduleBlock object at 0x307389720>\n",
      "---\n",
      "<surgeryschedulingunderuncertainty.block.ScheduleBlock object at 0x30738ace0>\n",
      "---\n",
      "<surgeryschedulingunderuncertainty.block.ScheduleBlock object at 0x3302adab0>\n",
      "---\n",
      "<surgeryschedulingunderuncertainty.block.ScheduleBlock object at 0x3302adae0>\n",
      "---\n",
      "<surgeryschedulingunderuncertainty.block.ScheduleBlock object at 0x3302ad990>\n",
      "---\n",
      "<surgeryschedulingunderuncertainty.block.ScheduleBlock object at 0x3302ad870>\n",
      "---\n",
      "<surgeryschedulingunderuncertainty.block.ScheduleBlock object at 0x3302ad840>\n",
      "---\n",
      "<surgeryschedulingunderuncertainty.block.ScheduleBlock object at 0x3302ad8a0>\n",
      "---\n",
      "<surgeryschedulingunderuncertainty.block.ScheduleBlock object at 0x3302ada80>\n",
      "---\n",
      "<surgeryschedulingunderuncertainty.block.ScheduleBlock object at 0x3302ad9c0>\n",
      "---\n"
     ]
    }
   ],
   "source": [
    "for block in soulution_budget_set._blocks:\n",
    "    print(block)\n",
    "    for pat in (block.patients):\n",
    "        print(pat)\n",
    "    print('---')"
   ]
  },
  {
   "cell_type": "code",
   "execution_count": null,
   "metadata": {},
   "outputs": [],
   "source": []
  }
 ],
 "metadata": {
  "kernelspec": {
   "display_name": "surgeryschedulingunderuncertainty-XOZq-E-P-py3.10",
   "language": "python",
   "name": "python3"
  },
  "language_info": {
   "codemirror_mode": {
    "name": "ipython",
    "version": 3
   },
   "file_extension": ".py",
   "mimetype": "text/x-python",
   "name": "python",
   "nbconvert_exporter": "python",
   "pygments_lexer": "ipython3",
   "version": "3.10.13"
  }
 },
 "nbformat": 4,
 "nbformat_minor": 2
}
