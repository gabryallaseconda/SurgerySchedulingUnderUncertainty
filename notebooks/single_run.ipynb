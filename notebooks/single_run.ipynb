{
 "cells": [
  {
   "cell_type": "markdown",
   "metadata": {},
   "source": [
    "# Single Run"
   ]
  },
  {
   "cell_type": "code",
   "execution_count": 1,
   "metadata": {},
   "outputs": [
    {
     "name": "stderr",
     "output_type": "stream",
     "text": [
      "/var/folders/w_/kqymfxcs5d561j515w6_cfqh0000gn/T/ipykernel_42007/317628422.py:1: DeprecationWarning: \n",
      "Pyarrow will become a required dependency of pandas in the next major release of pandas (pandas 3.0),\n",
      "(to allow more performant data types, such as the Arrow string type, and better interoperability with other libraries)\n",
      "but was not found to be installed on your system.\n",
      "If this would cause problems for you,\n",
      "please provide us feedback at https://github.com/pandas-dev/pandas/issues/54466\n",
      "        \n",
      "  import pandas as pd\n"
     ]
    }
   ],
   "source": [
    "import pandas as pd\n",
    "\n",
    "from surgeryschedulingunderuncertainty.task import Task\n",
    "from surgeryschedulingunderuncertainty.patients_provider import PatientsFromHistoricalDataProvider\n",
    "from surgeryschedulingunderuncertainty.master import Master\n",
    "\n",
    "from surgeryschedulingunderuncertainty.implementor import StandardImplementor\n",
    "from surgeryschedulingunderuncertainty.optimizer import ImplementorAdversary\n",
    "\n",
    "from surgeryschedulingunderuncertainty.predictive_model import NGBLogNormal, NGBNormal\n"
   ]
  },
  {
   "cell_type": "markdown",
   "metadata": {},
   "source": [
    "## Task: pazienti storici"
   ]
  },
  {
   "cell_type": "code",
   "execution_count": 2,
   "metadata": {},
   "outputs": [],
   "source": [
    "historical_data_df = pd.read_csv(\"../data/historical_data.csv\")\n",
    "\n",
    "patient_provider = PatientsFromHistoricalDataProvider(\n",
    "                 historical_data= historical_data_df\n",
    "                 )"
   ]
  },
  {
   "cell_type": "code",
   "execution_count": 3,
   "metadata": {},
   "outputs": [],
   "source": [
    "or_master_schedule = pd.read_csv(\"../data/master_schedule_input.csv\", sep = ';')\n",
    "master_schedule  = Master(name = \"my master\", table=or_master_schedule)"
   ]
  },
  {
   "cell_type": "code",
   "execution_count": 4,
   "metadata": {},
   "outputs": [],
   "source": [
    "num_of_patients = 100"
   ]
  },
  {
   "cell_type": "code",
   "execution_count": 5,
   "metadata": {},
   "outputs": [],
   "source": [
    "patients, training = patient_provider.provide_sets(quantity=num_of_patients, quantity_training=1000)\n"
   ]
  },
  {
   "cell_type": "code",
   "execution_count": 6,
   "metadata": {},
   "outputs": [],
   "source": [
    "model = NGBLogNormal(description=\"test\", patients=training)\n",
    "patients = model.predict(patients)"
   ]
  },
  {
   "cell_type": "code",
   "execution_count": 7,
   "metadata": {},
   "outputs": [],
   "source": [
    "\n",
    "task = Task(name = \"My first problem\",\n",
    "            num_of_weeks= 2,\n",
    "            num_of_patients= num_of_patients,\n",
    "            robustness_risk= 0.2,\n",
    "            robustness_overtime= 10,\n",
    "            urgency_to_max_waiting_days= {0: 7, 1:30, 2:60, 3:180, 4:360}, \n",
    "            )\n",
    "\n",
    "task.patients = patients\n",
    "task.master_schedule = master_schedule\n"
   ]
  },
  {
   "cell_type": "markdown",
   "metadata": {},
   "source": [
    "### Implementor - Adversary"
   ]
  },
  {
   "cell_type": "code",
   "execution_count": 8,
   "metadata": {},
   "outputs": [],
   "source": [
    "implementor_adversary = ImplementorAdversary(task = task, implementor=StandardImplementor(), adversary=None, description = 'Test')"
   ]
  },
  {
   "cell_type": "code",
   "execution_count": 9,
   "metadata": {},
   "outputs": [],
   "source": [
    "implementor_adversary.create_instance()"
   ]
  },
  {
   "cell_type": "code",
   "execution_count": 10,
   "metadata": {},
   "outputs": [
    {
     "name": "stdout",
     "output_type": "stream",
     "text": [
      "implementor\n",
      "adversary\n"
     ]
    }
   ],
   "source": [
    "solution_implementor_adversary = implementor_adversary.run(15)"
   ]
  },
  {
   "cell_type": "code",
   "execution_count": 11,
   "metadata": {},
   "outputs": [
    {
     "name": "stdout",
     "output_type": "stream",
     "text": [
      "Patient id: 3425 \n",
      " equipe: D \n",
      " urgency: 4 \n",
      " nominal duration: 83 \n",
      " days waiting: 115\n"
     ]
    }
   ],
   "source": [
    "for pat in (solution_implementor_adversary._blocks[0].patients):\n",
    "    print(pat)"
   ]
  },
  {
   "cell_type": "markdown",
   "metadata": {},
   "source": [
    "solution._blocks[4].patients[0].uncertainty_profile.param_s"
   ]
  },
  {
   "cell_type": "markdown",
   "metadata": {},
   "source": [
    "### Chance constraint"
   ]
  },
  {
   "cell_type": "code",
   "execution_count": 12,
   "metadata": {},
   "outputs": [],
   "source": [
    "from surgeryschedulingunderuncertainty.optimizer import VanillaImplementor\n",
    "from surgeryschedulingunderuncertainty.implementor import ChanceConstraintsImplementor\n"
   ]
  },
  {
   "cell_type": "code",
   "execution_count": 13,
   "metadata": {},
   "outputs": [],
   "source": [
    "chance_constraints = VanillaImplementor(task = task, \n",
    "                                              implementor=ChanceConstraintsImplementor(task = task), \n",
    "                                              description = 'Test')"
   ]
  },
  {
   "cell_type": "code",
   "execution_count": 14,
   "metadata": {},
   "outputs": [],
   "source": [
    "chance_constraints.create_instance()"
   ]
  },
  {
   "cell_type": "code",
   "execution_count": 15,
   "metadata": {},
   "outputs": [],
   "source": [
    "solution_chance_constraints = chance_constraints.run()"
   ]
  },
  {
   "cell_type": "code",
   "execution_count": 16,
   "metadata": {},
   "outputs": [
    {
     "name": "stdout",
     "output_type": "stream",
     "text": [
      "Patient id: 3425 \n",
      " equipe: D \n",
      " urgency: 4 \n",
      " nominal duration: 83 \n",
      " days waiting: 115\n"
     ]
    }
   ],
   "source": [
    "for pat in (solution_implementor_adversary._blocks[0].patients):\n",
    "    print(pat)"
   ]
  },
  {
   "cell_type": "code",
   "execution_count": null,
   "metadata": {},
   "outputs": [],
   "source": []
  },
  {
   "cell_type": "code",
   "execution_count": null,
   "metadata": {},
   "outputs": [],
   "source": []
  },
  {
   "cell_type": "code",
   "execution_count": 17,
   "metadata": {},
   "outputs": [],
   "source": [
    "from surgeryschedulingunderuncertainty.optimizer import  BudgetSet\n",
    "from surgeryschedulingunderuncertainty.implementor import  BSImplementor\n"
   ]
  },
  {
   "cell_type": "code",
   "execution_count": 18,
   "metadata": {},
   "outputs": [],
   "source": [
    "budget_set = BudgetSet(task = task, \n",
    "                              implementor=BSImplementor(task = task), \n",
    "                              description = 'Test')\n",
    "\n",
    "\n",
    "\n",
    "\n"
   ]
  },
  {
   "cell_type": "code",
   "execution_count": 19,
   "metadata": {},
   "outputs": [
    {
     "name": "stdout",
     "output_type": "stream",
     "text": [
      "implementor\n"
     ]
    },
    {
     "data": {
      "text/plain": [
       "<surgeryschedulingunderuncertainty.schedule.Schedule at 0x32b682950>"
      ]
     },
     "execution_count": 19,
     "metadata": {},
     "output_type": "execute_result"
    }
   ],
   "source": [
    "budget_set.run()"
   ]
  },
  {
   "cell_type": "code",
   "execution_count": 20,
   "metadata": {},
   "outputs": [],
   "source": [
    "budget_set.create_instance()"
   ]
  },
  {
   "cell_type": "code",
   "execution_count": 21,
   "metadata": {},
   "outputs": [],
   "source": [
    "solution_budget_set = budget_set.run_implementor()"
   ]
  },
  {
   "cell_type": "code",
   "execution_count": 22,
   "metadata": {},
   "outputs": [
    {
     "name": "stdout",
     "output_type": "stream",
     "text": [
      "193.69660099910917\n",
      "0.32612209944949433\n",
      "177.0974650464461\n",
      "0.3312980215971208\n",
      "181.80914834589376\n",
      "0.31733940253247667\n"
     ]
    }
   ],
   "source": [
    "for pat in (solution_budget_set._blocks[2].patients):\n",
    "    print(pat.uncertainty_profile.nominal_value)\n",
    "    print(pat.uncertainty_profile.param_s)"
   ]
  },
  {
   "cell_type": "code",
   "execution_count": null,
   "metadata": {},
   "outputs": [],
   "source": []
  },
  {
   "cell_type": "code",
   "execution_count": null,
   "metadata": {},
   "outputs": [],
   "source": []
  },
  {
   "cell_type": "code",
   "execution_count": null,
   "metadata": {},
   "outputs": [],
   "source": []
  }
 ],
 "metadata": {
  "kernelspec": {
   "display_name": "surgeryschedulingunderuncertainty-XOZq-E-P-py3.10",
   "language": "python",
   "name": "python3"
  },
  "language_info": {
   "codemirror_mode": {
    "name": "ipython",
    "version": 3
   },
   "file_extension": ".py",
   "mimetype": "text/x-python",
   "name": "python",
   "nbconvert_exporter": "python",
   "pygments_lexer": "ipython3",
   "version": "3.10.13"
  }
 },
 "nbformat": 4,
 "nbformat_minor": 2
}
